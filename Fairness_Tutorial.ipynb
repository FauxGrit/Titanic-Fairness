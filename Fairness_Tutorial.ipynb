{
  "cells": [
    {
      "cell_type": "markdown",
      "metadata": {
        "id": "view-in-github",
        "colab_type": "text"
      },
      "source": [
        "<a href=\"https://colab.research.google.com/github/FauxGrit/Titanic-Fairness/blob/main/Fairness_Tutorial.ipynb\" target=\"_parent\"><img src=\"https://colab.research.google.com/assets/colab-badge.svg\" alt=\"Open In Colab\"/></a>"
      ]
    },
    {
      "cell_type": "markdown",
      "metadata": {
        "id": "TAX_XJiLsuIX"
      },
      "source": [
        "# Tutorial: A simple approach to audit machine learning models for bias and fairness\n",
        "\n",
        "*I think unconscious bias is one of the hardest things to get at.*\n",
        "   -- Ruth Bader Ginsburg\n",
        "\n",
        "Mama's don't let your babies grow up to be supreme court justices. Let em be data scientists instead. Because there are a gathering number of open source toolkits that make auditing your models for bias and fairness a snap.\n",
        "\n",
        "This is a tutorial to demonstrate how to audit machine learning models. It is an extension of the first tutorial in Kaggle aimed at building a model to predict survival on the Titanic. It uses Aequitas, an open source bias audit toolkit, to provide easy to understand visualizations and detailed fairness metrics for any model.\n",
        "\n",
        "Aequitas documentation: http://www.datasciencepublicpolicy.org/our-work/tools-guides/aequitas/ "
      ]
    },
    {
      "cell_type": "markdown",
      "metadata": {
        "id": "6qWGybxAsuIi"
      },
      "source": [
        "### Importing Necessary Libraries"
      ]
    },
    {
      "cell_type": "code",
      "source": [
        "!pip install aequitas==0.42.0"
      ],
      "metadata": {
        "id": "k4RdHoxotSgb",
        "colab": {
          "base_uri": "https://localhost:8080/",
          "height": 1000
        },
        "collapsed": true,
        "outputId": "e2062e19-fb31-419b-fbc6-4d78d2aa3b67"
      },
      "execution_count": 1,
      "outputs": [
        {
          "output_type": "stream",
          "name": "stdout",
          "text": [
            "Looking in indexes: https://pypi.org/simple, https://us-python.pkg.dev/colab-wheels/public/simple/\n",
            "Collecting aequitas==0.42.0\n",
            "  Downloading aequitas-0.42.0-py3-none-any.whl (2.2 MB)\n",
            "\u001b[K     |████████████████████████████████| 2.2 MB 4.0 MB/s \n",
            "\u001b[?25hCollecting ohio>=0.2.0\n",
            "  Downloading ohio-0.5.0-py3-none-any.whl (26 kB)\n",
            "Collecting markdown2==2.3.5\n",
            "  Downloading markdown2-2.3.5.zip (161 kB)\n",
            "\u001b[K     |████████████████████████████████| 161 kB 46.0 MB/s \n",
            "\u001b[?25hRequirement already satisfied: pandas>=0.24.1 in /usr/local/lib/python3.8/dist-packages (from aequitas==0.42.0) (1.3.5)\n",
            "Requirement already satisfied: pyyaml>=5.1 in /usr/local/lib/python3.8/dist-packages (from aequitas==0.42.0) (6.0)\n",
            "Requirement already satisfied: SQLAlchemy>=1.1.1 in /usr/local/lib/python3.8/dist-packages (from aequitas==0.42.0) (1.4.44)\n",
            "Requirement already satisfied: seaborn>=0.9.0 in /usr/local/lib/python3.8/dist-packages (from aequitas==0.42.0) (0.11.2)\n",
            "Collecting xhtml2pdf==0.2.2\n",
            "  Downloading xhtml2pdf-0.2.2.tar.gz (97 kB)\n",
            "\u001b[K     |████████████████████████████████| 97 kB 6.0 MB/s \n",
            "\u001b[?25hCollecting altair==4.1.0\n",
            "  Downloading altair-4.1.0-py3-none-any.whl (727 kB)\n",
            "\u001b[K     |████████████████████████████████| 727 kB 8.9 MB/s \n",
            "\u001b[?25hCollecting Flask-Bootstrap==3.3.7.1\n",
            "  Downloading Flask-Bootstrap-3.3.7.1.tar.gz (456 kB)\n",
            "\u001b[K     |████████████████████████████████| 456 kB 10.7 MB/s \n",
            "\u001b[?25hCollecting tabulate==0.8.2\n",
            "  Downloading tabulate-0.8.2.tar.gz (45 kB)\n",
            "\u001b[K     |████████████████████████████████| 45 kB 3.5 MB/s \n",
            "\u001b[?25hCollecting millify==0.1.1\n",
            "  Downloading millify-0.1.1.tar.gz (1.2 kB)\n",
            "Collecting Flask==0.12.2\n",
            "  Downloading Flask-0.12.2-py2.py3-none-any.whl (83 kB)\n",
            "\u001b[K     |████████████████████████████████| 83 kB 1.4 MB/s \n",
            "\u001b[?25hRequirement already satisfied: matplotlib>=3.0.3 in /usr/local/lib/python3.8/dist-packages (from aequitas==0.42.0) (3.2.2)\n",
            "Requirement already satisfied: jsonschema in /usr/local/lib/python3.8/dist-packages (from altair==4.1.0->aequitas==0.42.0) (4.3.3)\n",
            "Requirement already satisfied: entrypoints in /usr/local/lib/python3.8/dist-packages (from altair==4.1.0->aequitas==0.42.0) (0.4)\n",
            "Requirement already satisfied: toolz in /usr/local/lib/python3.8/dist-packages (from altair==4.1.0->aequitas==0.42.0) (0.12.0)\n",
            "Requirement already satisfied: jinja2 in /usr/local/lib/python3.8/dist-packages (from altair==4.1.0->aequitas==0.42.0) (2.11.3)\n",
            "Requirement already satisfied: numpy in /usr/local/lib/python3.8/dist-packages (from altair==4.1.0->aequitas==0.42.0) (1.21.6)\n",
            "Requirement already satisfied: Werkzeug>=0.7 in /usr/local/lib/python3.8/dist-packages (from Flask==0.12.2->aequitas==0.42.0) (1.0.1)\n",
            "Requirement already satisfied: itsdangerous>=0.21 in /usr/local/lib/python3.8/dist-packages (from Flask==0.12.2->aequitas==0.42.0) (1.1.0)\n",
            "Requirement already satisfied: click>=2.0 in /usr/local/lib/python3.8/dist-packages (from Flask==0.12.2->aequitas==0.42.0) (7.1.2)\n",
            "Collecting dominate\n",
            "  Downloading dominate-2.7.0-py2.py3-none-any.whl (29 kB)\n",
            "Collecting visitor\n",
            "  Downloading visitor-0.1.3.tar.gz (3.3 kB)\n",
            "Requirement already satisfied: html5lib>=1.0 in /usr/local/lib/python3.8/dist-packages (from xhtml2pdf==0.2.2->aequitas==0.42.0) (1.0.1)\n",
            "Requirement already satisfied: httplib2 in /usr/local/lib/python3.8/dist-packages (from xhtml2pdf==0.2.2->aequitas==0.42.0) (0.17.4)\n",
            "Collecting pyPdf2\n",
            "  Downloading pypdf2-2.11.2-py3-none-any.whl (220 kB)\n",
            "\u001b[K     |████████████████████████████████| 220 kB 51.8 MB/s \n",
            "\u001b[?25hRequirement already satisfied: Pillow in /usr/local/lib/python3.8/dist-packages (from xhtml2pdf==0.2.2->aequitas==0.42.0) (7.1.2)\n",
            "Collecting reportlab>=3.0\n",
            "  Downloading reportlab-3.6.12-cp38-cp38-manylinux_2_17_x86_64.manylinux2014_x86_64.whl (2.8 MB)\n",
            "\u001b[K     |████████████████████████████████| 2.8 MB 38.4 MB/s \n",
            "\u001b[?25hRequirement already satisfied: six in /usr/local/lib/python3.8/dist-packages (from xhtml2pdf==0.2.2->aequitas==0.42.0) (1.15.0)\n",
            "Requirement already satisfied: webencodings in /usr/local/lib/python3.8/dist-packages (from html5lib>=1.0->xhtml2pdf==0.2.2->aequitas==0.42.0) (0.5.1)\n",
            "Requirement already satisfied: MarkupSafe>=0.23 in /usr/local/lib/python3.8/dist-packages (from jinja2->altair==4.1.0->aequitas==0.42.0) (2.0.1)\n",
            "Requirement already satisfied: python-dateutil>=2.1 in /usr/local/lib/python3.8/dist-packages (from matplotlib>=3.0.3->aequitas==0.42.0) (2.8.2)\n",
            "Requirement already satisfied: pyparsing!=2.0.4,!=2.1.2,!=2.1.6,>=2.0.1 in /usr/local/lib/python3.8/dist-packages (from matplotlib>=3.0.3->aequitas==0.42.0) (3.0.9)\n",
            "Requirement already satisfied: cycler>=0.10 in /usr/local/lib/python3.8/dist-packages (from matplotlib>=3.0.3->aequitas==0.42.0) (0.11.0)\n",
            "Requirement already satisfied: kiwisolver>=1.0.1 in /usr/local/lib/python3.8/dist-packages (from matplotlib>=3.0.3->aequitas==0.42.0) (1.4.4)\n",
            "Requirement already satisfied: pytz>=2017.3 in /usr/local/lib/python3.8/dist-packages (from pandas>=0.24.1->aequitas==0.42.0) (2022.6)\n",
            "Collecting Pillow\n",
            "  Downloading Pillow-9.3.0-cp38-cp38-manylinux_2_17_x86_64.manylinux2014_x86_64.whl (3.2 MB)\n",
            "\u001b[K     |████████████████████████████████| 3.2 MB 43.9 MB/s \n",
            "\u001b[?25hRequirement already satisfied: scipy>=1.0 in /usr/local/lib/python3.8/dist-packages (from seaborn>=0.9.0->aequitas==0.42.0) (1.7.3)\n",
            "Requirement already satisfied: greenlet!=0.4.17 in /usr/local/lib/python3.8/dist-packages (from SQLAlchemy>=1.1.1->aequitas==0.42.0) (2.0.1)\n",
            "Requirement already satisfied: importlib-resources>=1.4.0 in /usr/local/lib/python3.8/dist-packages (from jsonschema->altair==4.1.0->aequitas==0.42.0) (5.10.0)\n",
            "Requirement already satisfied: pyrsistent!=0.17.0,!=0.17.1,!=0.17.2,>=0.14.0 in /usr/local/lib/python3.8/dist-packages (from jsonschema->altair==4.1.0->aequitas==0.42.0) (0.19.2)\n",
            "Requirement already satisfied: attrs>=17.4.0 in /usr/local/lib/python3.8/dist-packages (from jsonschema->altair==4.1.0->aequitas==0.42.0) (22.1.0)\n",
            "Requirement already satisfied: zipp>=3.1.0 in /usr/local/lib/python3.8/dist-packages (from importlib-resources>=1.4.0->jsonschema->altair==4.1.0->aequitas==0.42.0) (3.11.0)\n",
            "Requirement already satisfied: typing_extensions>=3.10.0.0 in /usr/local/lib/python3.8/dist-packages (from pyPdf2->xhtml2pdf==0.2.2->aequitas==0.42.0) (4.4.0)\n",
            "Building wheels for collected packages: Flask-Bootstrap, markdown2, millify, tabulate, xhtml2pdf, visitor\n",
            "  Building wheel for Flask-Bootstrap (setup.py) ... \u001b[?25l\u001b[?25hdone\n",
            "  Created wheel for Flask-Bootstrap: filename=Flask_Bootstrap-3.3.7.1-py3-none-any.whl size=460123 sha256=52c7df65b4434241ed94a272eab1fcaa292e9b0844ae0dfc31532870c4f41509\n",
            "  Stored in directory: /root/.cache/pip/wheels/f2/a3/85/fe8b65a65a447c9906e3b7edb7d9e6c74dfa9c8425c3dd3007\n",
            "  Building wheel for markdown2 (setup.py) ... \u001b[?25l\u001b[?25hdone\n",
            "  Created wheel for markdown2: filename=markdown2-2.3.5-py3-none-any.whl size=33327 sha256=b5b8ef67801d30093f23f605c99a0dc683060890f2ae90acf7a1c6aef4837104\n",
            "  Stored in directory: /root/.cache/pip/wheels/23/ae/b6/ea57c5e19591a12134e98f45815122375d4c9b409b7aa69ea7\n",
            "  Building wheel for millify (setup.py) ... \u001b[?25l\u001b[?25hdone\n",
            "  Created wheel for millify: filename=millify-0.1.1-py3-none-any.whl size=1865 sha256=87d29ca5df57e7a39d33799114f36bb01f4bc4540497960f057bce14bf16c170\n",
            "  Stored in directory: /root/.cache/pip/wheels/04/6f/57/7abe8a4f093f486f9169644c5b063d1db08823d8ec525fd3f0\n",
            "  Building wheel for tabulate (setup.py) ... \u001b[?25l\u001b[?25hdone\n",
            "  Created wheel for tabulate: filename=tabulate-0.8.2-py3-none-any.whl size=23547 sha256=a044f94f9a65da9ce283e9841c1823676d6d18b359240aae7949341f957f6c79\n",
            "  Stored in directory: /root/.cache/pip/wheels/dc/fd/45/22047aeb496663d74796c256688df42552c7f5bc9d95878301\n",
            "  Building wheel for xhtml2pdf (setup.py) ... \u001b[?25l\u001b[?25hdone\n",
            "  Created wheel for xhtml2pdf: filename=xhtml2pdf-0.2.2-py3-none-any.whl size=230901 sha256=b7a59b34d5767299fa4e5bf210fcea77e438e8a48de8580586c5cb6d632c2b0d\n",
            "  Stored in directory: /root/.cache/pip/wheels/e0/a3/8a/d45f29bb211b88cfed3775a0eb29b9b1f6d6a6583ab261d25e\n",
            "  Building wheel for visitor (setup.py) ... \u001b[?25l\u001b[?25hdone\n",
            "  Created wheel for visitor: filename=visitor-0.1.3-py3-none-any.whl size=3943 sha256=5ec7fc105c7d628847bebc47715bea5b107d1204ac35e417e74df9493d196161\n",
            "  Stored in directory: /root/.cache/pip/wheels/d3/40/52/5dae7760434a82caf8b8f88323029188b2d4ea3ac1235e550a\n",
            "Successfully built Flask-Bootstrap markdown2 millify tabulate xhtml2pdf visitor\n",
            "Installing collected packages: Pillow, visitor, reportlab, pyPdf2, Flask, dominate, xhtml2pdf, tabulate, ohio, millify, markdown2, Flask-Bootstrap, altair, aequitas\n",
            "  Attempting uninstall: Pillow\n",
            "    Found existing installation: Pillow 7.1.2\n",
            "    Uninstalling Pillow-7.1.2:\n",
            "      Successfully uninstalled Pillow-7.1.2\n",
            "  Attempting uninstall: Flask\n",
            "    Found existing installation: Flask 1.1.4\n",
            "    Uninstalling Flask-1.1.4:\n",
            "      Successfully uninstalled Flask-1.1.4\n",
            "  Attempting uninstall: tabulate\n",
            "    Found existing installation: tabulate 0.8.10\n",
            "    Uninstalling tabulate-0.8.10:\n",
            "      Successfully uninstalled tabulate-0.8.10\n",
            "  Attempting uninstall: altair\n",
            "    Found existing installation: altair 4.2.0\n",
            "    Uninstalling altair-4.2.0:\n",
            "      Successfully uninstalled altair-4.2.0\n",
            "Successfully installed Flask-0.12.2 Flask-Bootstrap-3.3.7.1 Pillow-9.3.0 aequitas-0.42.0 altair-4.1.0 dominate-2.7.0 markdown2-2.3.5 millify-0.1.1 ohio-0.5.0 pyPdf2-2.11.2 reportlab-3.6.12 tabulate-0.8.2 visitor-0.1.3 xhtml2pdf-0.2.2\n"
          ]
        },
        {
          "output_type": "display_data",
          "data": {
            "application/vnd.colab-display-data+json": {
              "pip_warning": {
                "packages": [
                  "PIL"
                ]
              }
            }
          },
          "metadata": {}
        }
      ]
    },
    {
      "cell_type": "code",
      "execution_count": 2,
      "metadata": {
        "id": "p3Y5c9AKsuIj"
      },
      "outputs": [],
      "source": [
        "import pandas as pd\n",
        "import numpy as np\n",
        "import matplotlib.pyplot as plt\n",
        "import seaborn as sns\n",
        "\n",
        "from sklearn.model_selection import train_test_split\n",
        "from sklearn.metrics import *\n",
        "from sklearn import metrics as sklearn_metrics\n",
        "from sklearn.preprocessing import OneHotEncoder\n",
        "from sklearn.preprocessing import StandardScaler\n",
        "from sklearn.ensemble import RandomForestClassifier\n",
        "import xgboost as xgb\n",
        "from sklearn.ensemble import GradientBoostingClassifier\n",
        "from sklearn.neighbors import KNeighborsClassifier\n",
        "\n",
        "from aequitas.group import Group\n",
        "from aequitas.bias import Bias\n",
        "from aequitas.fairness import Fairness\n",
        "import aequitas.plot as ap"
      ]
    },
    {
      "cell_type": "markdown",
      "metadata": {
        "id": "TB5-bMt-suIl"
      },
      "source": [
        "# Load Data\n",
        "\n",
        "We will use the Titanic data set from Kaggle. It it a widely used data set intended as a first introduction to predictive modeling and Kaggle competitions.\n",
        "\n",
        "https://www.kaggle.com/code/alexisbcook/titanic-tutorial\n",
        "\n",
        "\n",
        "![image.png](data:image/png;base64,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)\n",
        "\n",
        "**Variable Notes**\n",
        "pclass: A proxy for socio-economic status (SES)\n",
        "1st = Upper\n",
        "2nd = Middle\n",
        "3rd = Lower\n",
        "\n",
        "age: Age is fractional if less than 1. If the age is estimated, is it in the form of xx.5\n",
        "\n",
        "sibsp: The dataset defines family relations in this way...\n",
        "Sibling = brother, sister, stepbrother, stepsister\n",
        "Spouse = husband, wife (mistresses and fiancés were ignored)\n",
        "\n",
        "parch: The dataset defines family relations in this way...\n",
        "Parent = mother, father\n",
        "Child = daughter, son, stepdaughter, stepson\n",
        "Some children travelled only with a nanny, therefore parch=0 for them."
      ]
    },
    {
      "cell_type": "code",
      "source": [
        "data_url = 'https://raw.githubusercontent.com/FauxGrit/Titanic-Fairness/main/train.csv'\n",
        "df0 = pd.read_csv(data_url)\n",
        "df0.head()"
      ],
      "metadata": {
        "id": "dvpaAq1NzWg2",
        "outputId": "58e5625c-4fec-4b46-869b-b325b81c297d",
        "colab": {
          "base_uri": "https://localhost:8080/",
          "height": 250
        }
      },
      "execution_count": 3,
      "outputs": [
        {
          "output_type": "execute_result",
          "data": {
            "text/plain": [
              "   PassengerId  Survived  Pclass  \\\n",
              "0            1         0       3   \n",
              "1            2         1       1   \n",
              "2            3         1       3   \n",
              "3            4         1       1   \n",
              "4            5         0       3   \n",
              "\n",
              "                                                Name     Sex   Age  SibSp  \\\n",
              "0                            Braund, Mr. Owen Harris    male  22.0      1   \n",
              "1  Cumings, Mrs. John Bradley (Florence Briggs Th...  female  38.0      1   \n",
              "2                             Heikkinen, Miss. Laina  female  26.0      0   \n",
              "3       Futrelle, Mrs. Jacques Heath (Lily May Peel)  female  35.0      1   \n",
              "4                           Allen, Mr. William Henry    male  35.0      0   \n",
              "\n",
              "   Parch            Ticket     Fare Cabin Embarked  \n",
              "0      0         A/5 21171   7.2500   NaN        S  \n",
              "1      0          PC 17599  71.2833   C85        C  \n",
              "2      0  STON/O2. 3101282   7.9250   NaN        S  \n",
              "3      0            113803  53.1000  C123        S  \n",
              "4      0            373450   8.0500   NaN        S  "
            ],
            "text/html": [
              "\n",
              "  <div id=\"df-cad440ec-ea5e-4f8b-ada6-dfe6dad8c246\">\n",
              "    <div class=\"colab-df-container\">\n",
              "      <div>\n",
              "<style scoped>\n",
              "    .dataframe tbody tr th:only-of-type {\n",
              "        vertical-align: middle;\n",
              "    }\n",
              "\n",
              "    .dataframe tbody tr th {\n",
              "        vertical-align: top;\n",
              "    }\n",
              "\n",
              "    .dataframe thead th {\n",
              "        text-align: right;\n",
              "    }\n",
              "</style>\n",
              "<table border=\"1\" class=\"dataframe\">\n",
              "  <thead>\n",
              "    <tr style=\"text-align: right;\">\n",
              "      <th></th>\n",
              "      <th>PassengerId</th>\n",
              "      <th>Survived</th>\n",
              "      <th>Pclass</th>\n",
              "      <th>Name</th>\n",
              "      <th>Sex</th>\n",
              "      <th>Age</th>\n",
              "      <th>SibSp</th>\n",
              "      <th>Parch</th>\n",
              "      <th>Ticket</th>\n",
              "      <th>Fare</th>\n",
              "      <th>Cabin</th>\n",
              "      <th>Embarked</th>\n",
              "    </tr>\n",
              "  </thead>\n",
              "  <tbody>\n",
              "    <tr>\n",
              "      <th>0</th>\n",
              "      <td>1</td>\n",
              "      <td>0</td>\n",
              "      <td>3</td>\n",
              "      <td>Braund, Mr. Owen Harris</td>\n",
              "      <td>male</td>\n",
              "      <td>22.0</td>\n",
              "      <td>1</td>\n",
              "      <td>0</td>\n",
              "      <td>A/5 21171</td>\n",
              "      <td>7.2500</td>\n",
              "      <td>NaN</td>\n",
              "      <td>S</td>\n",
              "    </tr>\n",
              "    <tr>\n",
              "      <th>1</th>\n",
              "      <td>2</td>\n",
              "      <td>1</td>\n",
              "      <td>1</td>\n",
              "      <td>Cumings, Mrs. John Bradley (Florence Briggs Th...</td>\n",
              "      <td>female</td>\n",
              "      <td>38.0</td>\n",
              "      <td>1</td>\n",
              "      <td>0</td>\n",
              "      <td>PC 17599</td>\n",
              "      <td>71.2833</td>\n",
              "      <td>C85</td>\n",
              "      <td>C</td>\n",
              "    </tr>\n",
              "    <tr>\n",
              "      <th>2</th>\n",
              "      <td>3</td>\n",
              "      <td>1</td>\n",
              "      <td>3</td>\n",
              "      <td>Heikkinen, Miss. Laina</td>\n",
              "      <td>female</td>\n",
              "      <td>26.0</td>\n",
              "      <td>0</td>\n",
              "      <td>0</td>\n",
              "      <td>STON/O2. 3101282</td>\n",
              "      <td>7.9250</td>\n",
              "      <td>NaN</td>\n",
              "      <td>S</td>\n",
              "    </tr>\n",
              "    <tr>\n",
              "      <th>3</th>\n",
              "      <td>4</td>\n",
              "      <td>1</td>\n",
              "      <td>1</td>\n",
              "      <td>Futrelle, Mrs. Jacques Heath (Lily May Peel)</td>\n",
              "      <td>female</td>\n",
              "      <td>35.0</td>\n",
              "      <td>1</td>\n",
              "      <td>0</td>\n",
              "      <td>113803</td>\n",
              "      <td>53.1000</td>\n",
              "      <td>C123</td>\n",
              "      <td>S</td>\n",
              "    </tr>\n",
              "    <tr>\n",
              "      <th>4</th>\n",
              "      <td>5</td>\n",
              "      <td>0</td>\n",
              "      <td>3</td>\n",
              "      <td>Allen, Mr. William Henry</td>\n",
              "      <td>male</td>\n",
              "      <td>35.0</td>\n",
              "      <td>0</td>\n",
              "      <td>0</td>\n",
              "      <td>373450</td>\n",
              "      <td>8.0500</td>\n",
              "      <td>NaN</td>\n",
              "      <td>S</td>\n",
              "    </tr>\n",
              "  </tbody>\n",
              "</table>\n",
              "</div>\n",
              "      <button class=\"colab-df-convert\" onclick=\"convertToInteractive('df-cad440ec-ea5e-4f8b-ada6-dfe6dad8c246')\"\n",
              "              title=\"Convert this dataframe to an interactive table.\"\n",
              "              style=\"display:none;\">\n",
              "        \n",
              "  <svg xmlns=\"http://www.w3.org/2000/svg\" height=\"24px\"viewBox=\"0 0 24 24\"\n",
              "       width=\"24px\">\n",
              "    <path d=\"M0 0h24v24H0V0z\" fill=\"none\"/>\n",
              "    <path d=\"M18.56 5.44l.94 2.06.94-2.06 2.06-.94-2.06-.94-.94-2.06-.94 2.06-2.06.94zm-11 1L8.5 8.5l.94-2.06 2.06-.94-2.06-.94L8.5 2.5l-.94 2.06-2.06.94zm10 10l.94 2.06.94-2.06 2.06-.94-2.06-.94-.94-2.06-.94 2.06-2.06.94z\"/><path d=\"M17.41 7.96l-1.37-1.37c-.4-.4-.92-.59-1.43-.59-.52 0-1.04.2-1.43.59L10.3 9.45l-7.72 7.72c-.78.78-.78 2.05 0 2.83L4 21.41c.39.39.9.59 1.41.59.51 0 1.02-.2 1.41-.59l7.78-7.78 2.81-2.81c.8-.78.8-2.07 0-2.86zM5.41 20L4 18.59l7.72-7.72 1.47 1.35L5.41 20z\"/>\n",
              "  </svg>\n",
              "      </button>\n",
              "      \n",
              "  <style>\n",
              "    .colab-df-container {\n",
              "      display:flex;\n",
              "      flex-wrap:wrap;\n",
              "      gap: 12px;\n",
              "    }\n",
              "\n",
              "    .colab-df-convert {\n",
              "      background-color: #E8F0FE;\n",
              "      border: none;\n",
              "      border-radius: 50%;\n",
              "      cursor: pointer;\n",
              "      display: none;\n",
              "      fill: #1967D2;\n",
              "      height: 32px;\n",
              "      padding: 0 0 0 0;\n",
              "      width: 32px;\n",
              "    }\n",
              "\n",
              "    .colab-df-convert:hover {\n",
              "      background-color: #E2EBFA;\n",
              "      box-shadow: 0px 1px 2px rgba(60, 64, 67, 0.3), 0px 1px 3px 1px rgba(60, 64, 67, 0.15);\n",
              "      fill: #174EA6;\n",
              "    }\n",
              "\n",
              "    [theme=dark] .colab-df-convert {\n",
              "      background-color: #3B4455;\n",
              "      fill: #D2E3FC;\n",
              "    }\n",
              "\n",
              "    [theme=dark] .colab-df-convert:hover {\n",
              "      background-color: #434B5C;\n",
              "      box-shadow: 0px 1px 3px 1px rgba(0, 0, 0, 0.15);\n",
              "      filter: drop-shadow(0px 1px 2px rgba(0, 0, 0, 0.3));\n",
              "      fill: #FFFFFF;\n",
              "    }\n",
              "  </style>\n",
              "\n",
              "      <script>\n",
              "        const buttonEl =\n",
              "          document.querySelector('#df-cad440ec-ea5e-4f8b-ada6-dfe6dad8c246 button.colab-df-convert');\n",
              "        buttonEl.style.display =\n",
              "          google.colab.kernel.accessAllowed ? 'block' : 'none';\n",
              "\n",
              "        async function convertToInteractive(key) {\n",
              "          const element = document.querySelector('#df-cad440ec-ea5e-4f8b-ada6-dfe6dad8c246');\n",
              "          const dataTable =\n",
              "            await google.colab.kernel.invokeFunction('convertToInteractive',\n",
              "                                                     [key], {});\n",
              "          if (!dataTable) return;\n",
              "\n",
              "          const docLinkHtml = 'Like what you see? Visit the ' +\n",
              "            '<a target=\"_blank\" href=https://colab.research.google.com/notebooks/data_table.ipynb>data table notebook</a>'\n",
              "            + ' to learn more about interactive tables.';\n",
              "          element.innerHTML = '';\n",
              "          dataTable['output_type'] = 'display_data';\n",
              "          await google.colab.output.renderOutput(dataTable, element);\n",
              "          const docLink = document.createElement('div');\n",
              "          docLink.innerHTML = docLinkHtml;\n",
              "          element.appendChild(docLink);\n",
              "        }\n",
              "      </script>\n",
              "    </div>\n",
              "  </div>\n",
              "  "
            ]
          },
          "metadata": {},
          "execution_count": 3
        }
      ]
    },
    {
      "cell_type": "code",
      "execution_count": 4,
      "metadata": {
        "id": "B4S5Isu3suIq",
        "outputId": "a70a41cc-a1d8-4ca0-b3da-281b9948b233",
        "colab": {
          "base_uri": "https://localhost:8080/"
        }
      },
      "outputs": [
        {
          "output_type": "stream",
          "name": "stdout",
          "text": [
            "Raw Titanic Data: \n",
            "\n",
            "Number of Rows:  891 \n",
            "Number of columns:  12\n"
          ]
        }
      ],
      "source": [
        "# Print shape of dataframe to determine number of rows and columns\n",
        "print(\"Raw Titanic Data: \\n\\nNumber of Rows: \", df0.shape[0], \"\\nNumber of columns: \", df0.shape[1])"
      ]
    },
    {
      "cell_type": "markdown",
      "metadata": {
        "id": "onh9lAY0suIs"
      },
      "source": [
        "# Data Preparation"
      ]
    },
    {
      "cell_type": "markdown",
      "metadata": {
        "id": "h3exTHVmsuIs"
      },
      "source": [
        "### Create Feature to Explore Fairness/Bias\n",
        "\n",
        "We will create a feature to use to explore bias in our model. We could use an existing variable like Sex or Passenger Class (proxy for wealth).  We will create a new feature based on age to explore if there is a bias for, or against, children."
      ]
    },
    {
      "cell_type": "code",
      "source": [
        "# Create a binary feature to indicate if the passanger is 18 or younger\n",
        "df0['Children'] = 0\n",
        "df0.loc[df0['Age'] < 19, 'Children'] = 1\n",
        "# df0.head()"
      ],
      "metadata": {
        "id": "TyUn6R6RUy7G"
      },
      "execution_count": 5,
      "outputs": []
    },
    {
      "cell_type": "markdown",
      "source": [
        "### Deal with Missing Data\n",
        "Use imputed values for the numerical fields based on the mean. For categorical data fill with a new category called 'Empty'."
      ],
      "metadata": {
        "id": "UjMkeHkUPrnV"
      }
    },
    {
      "cell_type": "code",
      "source": [
        "# Fill NaN values\n",
        "df0['Age'] = df0['Age'].fillna(df0['Age'].mean())\n",
        "df0['Fare'] = df0['Fare'].fillna(df0['Fare'].mean())\n",
        "df0['Embarked'] = df0['Embarked'].fillna('Empty')\n",
        "# df0.head()"
      ],
      "metadata": {
        "id": "UNyf8OUQpIsz"
      },
      "execution_count": 6,
      "outputs": []
    },
    {
      "cell_type": "markdown",
      "source": [
        "### Deal with Categorical Data\n",
        "Use get_dummies from Pandas as an easy way to do one hot encoding. This means to generate a new binary feature for each categorical value. \n",
        "\n",
        "For example, Sex has two possible values: male and female. So two new binary features are created called Sex_male and Sex_female."
      ],
      "metadata": {
        "id": "zIikqhNkQlE_"
      }
    },
    {
      "cell_type": "code",
      "source": [
        "df1 = pd.get_dummies(data=df0, columns=['Sex','Embarked'])\n",
        "# df1.head()"
      ],
      "metadata": {
        "id": "6_jVrKeWv9iL"
      },
      "execution_count": 7,
      "outputs": []
    },
    {
      "cell_type": "markdown",
      "source": [
        "### Drop Columns that are not Needed\n",
        "We can drop Sex_female because it is redundent with Sex_male. The other fields are not material to our simple model exercise."
      ],
      "metadata": {
        "id": "32r1x774R6gp"
      }
    },
    {
      "cell_type": "code",
      "source": [
        "# Drop 'PassengerId','Name','Ticket','Cabin' since not useful\n",
        "df1.drop(['PassengerId','Name','Ticket','Cabin', 'Sex_female'], axis=1, inplace=True)\n",
        "#df1.head()"
      ],
      "metadata": {
        "id": "N5gmUGLppIWN"
      },
      "execution_count": 8,
      "outputs": []
    },
    {
      "cell_type": "markdown",
      "source": [
        "###Basic Inspection of Prepped Dataframe"
      ],
      "metadata": {
        "id": "MhbXtpcgS24M"
      }
    },
    {
      "cell_type": "code",
      "execution_count": 9,
      "metadata": {
        "id": "izv2_ebxsuIt",
        "outputId": "572ad6e5-8652-4c28-c60a-69906825b56d",
        "colab": {
          "base_uri": "https://localhost:8080/",
          "height": 206
        }
      },
      "outputs": [
        {
          "output_type": "execute_result",
          "data": {
            "text/plain": [
              "   Survived  Pclass   Age  SibSp  Parch     Fare  Children  Sex_male  \\\n",
              "0         0       3  22.0      1      0   7.2500         0         1   \n",
              "1         1       1  38.0      1      0  71.2833         0         0   \n",
              "2         1       3  26.0      0      0   7.9250         0         0   \n",
              "3         1       1  35.0      1      0  53.1000         0         0   \n",
              "4         0       3  35.0      0      0   8.0500         0         1   \n",
              "\n",
              "   Embarked_C  Embarked_Empty  Embarked_Q  Embarked_S  \n",
              "0           0               0           0           1  \n",
              "1           1               0           0           0  \n",
              "2           0               0           0           1  \n",
              "3           0               0           0           1  \n",
              "4           0               0           0           1  "
            ],
            "text/html": [
              "\n",
              "  <div id=\"df-f09ea615-780f-4e15-aa78-554f7b1d7cef\">\n",
              "    <div class=\"colab-df-container\">\n",
              "      <div>\n",
              "<style scoped>\n",
              "    .dataframe tbody tr th:only-of-type {\n",
              "        vertical-align: middle;\n",
              "    }\n",
              "\n",
              "    .dataframe tbody tr th {\n",
              "        vertical-align: top;\n",
              "    }\n",
              "\n",
              "    .dataframe thead th {\n",
              "        text-align: right;\n",
              "    }\n",
              "</style>\n",
              "<table border=\"1\" class=\"dataframe\">\n",
              "  <thead>\n",
              "    <tr style=\"text-align: right;\">\n",
              "      <th></th>\n",
              "      <th>Survived</th>\n",
              "      <th>Pclass</th>\n",
              "      <th>Age</th>\n",
              "      <th>SibSp</th>\n",
              "      <th>Parch</th>\n",
              "      <th>Fare</th>\n",
              "      <th>Children</th>\n",
              "      <th>Sex_male</th>\n",
              "      <th>Embarked_C</th>\n",
              "      <th>Embarked_Empty</th>\n",
              "      <th>Embarked_Q</th>\n",
              "      <th>Embarked_S</th>\n",
              "    </tr>\n",
              "  </thead>\n",
              "  <tbody>\n",
              "    <tr>\n",
              "      <th>0</th>\n",
              "      <td>0</td>\n",
              "      <td>3</td>\n",
              "      <td>22.0</td>\n",
              "      <td>1</td>\n",
              "      <td>0</td>\n",
              "      <td>7.2500</td>\n",
              "      <td>0</td>\n",
              "      <td>1</td>\n",
              "      <td>0</td>\n",
              "      <td>0</td>\n",
              "      <td>0</td>\n",
              "      <td>1</td>\n",
              "    </tr>\n",
              "    <tr>\n",
              "      <th>1</th>\n",
              "      <td>1</td>\n",
              "      <td>1</td>\n",
              "      <td>38.0</td>\n",
              "      <td>1</td>\n",
              "      <td>0</td>\n",
              "      <td>71.2833</td>\n",
              "      <td>0</td>\n",
              "      <td>0</td>\n",
              "      <td>1</td>\n",
              "      <td>0</td>\n",
              "      <td>0</td>\n",
              "      <td>0</td>\n",
              "    </tr>\n",
              "    <tr>\n",
              "      <th>2</th>\n",
              "      <td>1</td>\n",
              "      <td>3</td>\n",
              "      <td>26.0</td>\n",
              "      <td>0</td>\n",
              "      <td>0</td>\n",
              "      <td>7.9250</td>\n",
              "      <td>0</td>\n",
              "      <td>0</td>\n",
              "      <td>0</td>\n",
              "      <td>0</td>\n",
              "      <td>0</td>\n",
              "      <td>1</td>\n",
              "    </tr>\n",
              "    <tr>\n",
              "      <th>3</th>\n",
              "      <td>1</td>\n",
              "      <td>1</td>\n",
              "      <td>35.0</td>\n",
              "      <td>1</td>\n",
              "      <td>0</td>\n",
              "      <td>53.1000</td>\n",
              "      <td>0</td>\n",
              "      <td>0</td>\n",
              "      <td>0</td>\n",
              "      <td>0</td>\n",
              "      <td>0</td>\n",
              "      <td>1</td>\n",
              "    </tr>\n",
              "    <tr>\n",
              "      <th>4</th>\n",
              "      <td>0</td>\n",
              "      <td>3</td>\n",
              "      <td>35.0</td>\n",
              "      <td>0</td>\n",
              "      <td>0</td>\n",
              "      <td>8.0500</td>\n",
              "      <td>0</td>\n",
              "      <td>1</td>\n",
              "      <td>0</td>\n",
              "      <td>0</td>\n",
              "      <td>0</td>\n",
              "      <td>1</td>\n",
              "    </tr>\n",
              "  </tbody>\n",
              "</table>\n",
              "</div>\n",
              "      <button class=\"colab-df-convert\" onclick=\"convertToInteractive('df-f09ea615-780f-4e15-aa78-554f7b1d7cef')\"\n",
              "              title=\"Convert this dataframe to an interactive table.\"\n",
              "              style=\"display:none;\">\n",
              "        \n",
              "  <svg xmlns=\"http://www.w3.org/2000/svg\" height=\"24px\"viewBox=\"0 0 24 24\"\n",
              "       width=\"24px\">\n",
              "    <path d=\"M0 0h24v24H0V0z\" fill=\"none\"/>\n",
              "    <path d=\"M18.56 5.44l.94 2.06.94-2.06 2.06-.94-2.06-.94-.94-2.06-.94 2.06-2.06.94zm-11 1L8.5 8.5l.94-2.06 2.06-.94-2.06-.94L8.5 2.5l-.94 2.06-2.06.94zm10 10l.94 2.06.94-2.06 2.06-.94-2.06-.94-.94-2.06-.94 2.06-2.06.94z\"/><path d=\"M17.41 7.96l-1.37-1.37c-.4-.4-.92-.59-1.43-.59-.52 0-1.04.2-1.43.59L10.3 9.45l-7.72 7.72c-.78.78-.78 2.05 0 2.83L4 21.41c.39.39.9.59 1.41.59.51 0 1.02-.2 1.41-.59l7.78-7.78 2.81-2.81c.8-.78.8-2.07 0-2.86zM5.41 20L4 18.59l7.72-7.72 1.47 1.35L5.41 20z\"/>\n",
              "  </svg>\n",
              "      </button>\n",
              "      \n",
              "  <style>\n",
              "    .colab-df-container {\n",
              "      display:flex;\n",
              "      flex-wrap:wrap;\n",
              "      gap: 12px;\n",
              "    }\n",
              "\n",
              "    .colab-df-convert {\n",
              "      background-color: #E8F0FE;\n",
              "      border: none;\n",
              "      border-radius: 50%;\n",
              "      cursor: pointer;\n",
              "      display: none;\n",
              "      fill: #1967D2;\n",
              "      height: 32px;\n",
              "      padding: 0 0 0 0;\n",
              "      width: 32px;\n",
              "    }\n",
              "\n",
              "    .colab-df-convert:hover {\n",
              "      background-color: #E2EBFA;\n",
              "      box-shadow: 0px 1px 2px rgba(60, 64, 67, 0.3), 0px 1px 3px 1px rgba(60, 64, 67, 0.15);\n",
              "      fill: #174EA6;\n",
              "    }\n",
              "\n",
              "    [theme=dark] .colab-df-convert {\n",
              "      background-color: #3B4455;\n",
              "      fill: #D2E3FC;\n",
              "    }\n",
              "\n",
              "    [theme=dark] .colab-df-convert:hover {\n",
              "      background-color: #434B5C;\n",
              "      box-shadow: 0px 1px 3px 1px rgba(0, 0, 0, 0.15);\n",
              "      filter: drop-shadow(0px 1px 2px rgba(0, 0, 0, 0.3));\n",
              "      fill: #FFFFFF;\n",
              "    }\n",
              "  </style>\n",
              "\n",
              "      <script>\n",
              "        const buttonEl =\n",
              "          document.querySelector('#df-f09ea615-780f-4e15-aa78-554f7b1d7cef button.colab-df-convert');\n",
              "        buttonEl.style.display =\n",
              "          google.colab.kernel.accessAllowed ? 'block' : 'none';\n",
              "\n",
              "        async function convertToInteractive(key) {\n",
              "          const element = document.querySelector('#df-f09ea615-780f-4e15-aa78-554f7b1d7cef');\n",
              "          const dataTable =\n",
              "            await google.colab.kernel.invokeFunction('convertToInteractive',\n",
              "                                                     [key], {});\n",
              "          if (!dataTable) return;\n",
              "\n",
              "          const docLinkHtml = 'Like what you see? Visit the ' +\n",
              "            '<a target=\"_blank\" href=https://colab.research.google.com/notebooks/data_table.ipynb>data table notebook</a>'\n",
              "            + ' to learn more about interactive tables.';\n",
              "          element.innerHTML = '';\n",
              "          dataTable['output_type'] = 'display_data';\n",
              "          await google.colab.output.renderOutput(dataTable, element);\n",
              "          const docLink = document.createElement('div');\n",
              "          docLink.innerHTML = docLinkHtml;\n",
              "          element.appendChild(docLink);\n",
              "        }\n",
              "      </script>\n",
              "    </div>\n",
              "  </div>\n",
              "  "
            ]
          },
          "metadata": {},
          "execution_count": 9
        }
      ],
      "source": [
        "df1.head()"
      ]
    },
    {
      "cell_type": "markdown",
      "source": [
        "**Observations from basic statics:**\n",
        "\n",
        "\n",
        "*   38% total survival rate (from mean of Survuved feature)\n",
        "*   16% of passengers are children (18 or younger)\n",
        "* 65% of passengers are men\n",
        "\n"
      ],
      "metadata": {
        "id": "YPLYHINwTLXT"
      }
    },
    {
      "cell_type": "code",
      "execution_count": 10,
      "metadata": {
        "id": "-7SVh40OsuIt",
        "outputId": "c17d5f99-959c-476d-dbd4-54b00578280d",
        "colab": {
          "base_uri": "https://localhost:8080/",
          "height": 426
        }
      },
      "outputs": [
        {
          "output_type": "execute_result",
          "data": {
            "text/plain": [
              "                count       mean        std   min      25%        50%   75%  \\\n",
              "Survived        891.0   0.383838   0.486592  0.00   0.0000   0.000000   1.0   \n",
              "Pclass          891.0   2.308642   0.836071  1.00   2.0000   3.000000   3.0   \n",
              "Age             891.0  29.699118  13.002015  0.42  22.0000  29.699118  35.0   \n",
              "SibSp           891.0   0.523008   1.102743  0.00   0.0000   0.000000   1.0   \n",
              "Parch           891.0   0.381594   0.806057  0.00   0.0000   0.000000   0.0   \n",
              "Fare            891.0  32.204208  49.693429  0.00   7.9104  14.454200  31.0   \n",
              "Children        891.0   0.156004   0.363063  0.00   0.0000   0.000000   0.0   \n",
              "Sex_male        891.0   0.647587   0.477990  0.00   0.0000   1.000000   1.0   \n",
              "Embarked_C      891.0   0.188552   0.391372  0.00   0.0000   0.000000   0.0   \n",
              "Embarked_Empty  891.0   0.002245   0.047351  0.00   0.0000   0.000000   0.0   \n",
              "Embarked_Q      891.0   0.086420   0.281141  0.00   0.0000   0.000000   0.0   \n",
              "Embarked_S      891.0   0.722783   0.447876  0.00   0.0000   1.000000   1.0   \n",
              "\n",
              "                     max  \n",
              "Survived          1.0000  \n",
              "Pclass            3.0000  \n",
              "Age              80.0000  \n",
              "SibSp             8.0000  \n",
              "Parch             6.0000  \n",
              "Fare            512.3292  \n",
              "Children          1.0000  \n",
              "Sex_male          1.0000  \n",
              "Embarked_C        1.0000  \n",
              "Embarked_Empty    1.0000  \n",
              "Embarked_Q        1.0000  \n",
              "Embarked_S        1.0000  "
            ],
            "text/html": [
              "\n",
              "  <div id=\"df-bbaff7af-462b-4116-90f2-940824a9a35d\">\n",
              "    <div class=\"colab-df-container\">\n",
              "      <div>\n",
              "<style scoped>\n",
              "    .dataframe tbody tr th:only-of-type {\n",
              "        vertical-align: middle;\n",
              "    }\n",
              "\n",
              "    .dataframe tbody tr th {\n",
              "        vertical-align: top;\n",
              "    }\n",
              "\n",
              "    .dataframe thead th {\n",
              "        text-align: right;\n",
              "    }\n",
              "</style>\n",
              "<table border=\"1\" class=\"dataframe\">\n",
              "  <thead>\n",
              "    <tr style=\"text-align: right;\">\n",
              "      <th></th>\n",
              "      <th>count</th>\n",
              "      <th>mean</th>\n",
              "      <th>std</th>\n",
              "      <th>min</th>\n",
              "      <th>25%</th>\n",
              "      <th>50%</th>\n",
              "      <th>75%</th>\n",
              "      <th>max</th>\n",
              "    </tr>\n",
              "  </thead>\n",
              "  <tbody>\n",
              "    <tr>\n",
              "      <th>Survived</th>\n",
              "      <td>891.0</td>\n",
              "      <td>0.383838</td>\n",
              "      <td>0.486592</td>\n",
              "      <td>0.00</td>\n",
              "      <td>0.0000</td>\n",
              "      <td>0.000000</td>\n",
              "      <td>1.0</td>\n",
              "      <td>1.0000</td>\n",
              "    </tr>\n",
              "    <tr>\n",
              "      <th>Pclass</th>\n",
              "      <td>891.0</td>\n",
              "      <td>2.308642</td>\n",
              "      <td>0.836071</td>\n",
              "      <td>1.00</td>\n",
              "      <td>2.0000</td>\n",
              "      <td>3.000000</td>\n",
              "      <td>3.0</td>\n",
              "      <td>3.0000</td>\n",
              "    </tr>\n",
              "    <tr>\n",
              "      <th>Age</th>\n",
              "      <td>891.0</td>\n",
              "      <td>29.699118</td>\n",
              "      <td>13.002015</td>\n",
              "      <td>0.42</td>\n",
              "      <td>22.0000</td>\n",
              "      <td>29.699118</td>\n",
              "      <td>35.0</td>\n",
              "      <td>80.0000</td>\n",
              "    </tr>\n",
              "    <tr>\n",
              "      <th>SibSp</th>\n",
              "      <td>891.0</td>\n",
              "      <td>0.523008</td>\n",
              "      <td>1.102743</td>\n",
              "      <td>0.00</td>\n",
              "      <td>0.0000</td>\n",
              "      <td>0.000000</td>\n",
              "      <td>1.0</td>\n",
              "      <td>8.0000</td>\n",
              "    </tr>\n",
              "    <tr>\n",
              "      <th>Parch</th>\n",
              "      <td>891.0</td>\n",
              "      <td>0.381594</td>\n",
              "      <td>0.806057</td>\n",
              "      <td>0.00</td>\n",
              "      <td>0.0000</td>\n",
              "      <td>0.000000</td>\n",
              "      <td>0.0</td>\n",
              "      <td>6.0000</td>\n",
              "    </tr>\n",
              "    <tr>\n",
              "      <th>Fare</th>\n",
              "      <td>891.0</td>\n",
              "      <td>32.204208</td>\n",
              "      <td>49.693429</td>\n",
              "      <td>0.00</td>\n",
              "      <td>7.9104</td>\n",
              "      <td>14.454200</td>\n",
              "      <td>31.0</td>\n",
              "      <td>512.3292</td>\n",
              "    </tr>\n",
              "    <tr>\n",
              "      <th>Children</th>\n",
              "      <td>891.0</td>\n",
              "      <td>0.156004</td>\n",
              "      <td>0.363063</td>\n",
              "      <td>0.00</td>\n",
              "      <td>0.0000</td>\n",
              "      <td>0.000000</td>\n",
              "      <td>0.0</td>\n",
              "      <td>1.0000</td>\n",
              "    </tr>\n",
              "    <tr>\n",
              "      <th>Sex_male</th>\n",
              "      <td>891.0</td>\n",
              "      <td>0.647587</td>\n",
              "      <td>0.477990</td>\n",
              "      <td>0.00</td>\n",
              "      <td>0.0000</td>\n",
              "      <td>1.000000</td>\n",
              "      <td>1.0</td>\n",
              "      <td>1.0000</td>\n",
              "    </tr>\n",
              "    <tr>\n",
              "      <th>Embarked_C</th>\n",
              "      <td>891.0</td>\n",
              "      <td>0.188552</td>\n",
              "      <td>0.391372</td>\n",
              "      <td>0.00</td>\n",
              "      <td>0.0000</td>\n",
              "      <td>0.000000</td>\n",
              "      <td>0.0</td>\n",
              "      <td>1.0000</td>\n",
              "    </tr>\n",
              "    <tr>\n",
              "      <th>Embarked_Empty</th>\n",
              "      <td>891.0</td>\n",
              "      <td>0.002245</td>\n",
              "      <td>0.047351</td>\n",
              "      <td>0.00</td>\n",
              "      <td>0.0000</td>\n",
              "      <td>0.000000</td>\n",
              "      <td>0.0</td>\n",
              "      <td>1.0000</td>\n",
              "    </tr>\n",
              "    <tr>\n",
              "      <th>Embarked_Q</th>\n",
              "      <td>891.0</td>\n",
              "      <td>0.086420</td>\n",
              "      <td>0.281141</td>\n",
              "      <td>0.00</td>\n",
              "      <td>0.0000</td>\n",
              "      <td>0.000000</td>\n",
              "      <td>0.0</td>\n",
              "      <td>1.0000</td>\n",
              "    </tr>\n",
              "    <tr>\n",
              "      <th>Embarked_S</th>\n",
              "      <td>891.0</td>\n",
              "      <td>0.722783</td>\n",
              "      <td>0.447876</td>\n",
              "      <td>0.00</td>\n",
              "      <td>0.0000</td>\n",
              "      <td>1.000000</td>\n",
              "      <td>1.0</td>\n",
              "      <td>1.0000</td>\n",
              "    </tr>\n",
              "  </tbody>\n",
              "</table>\n",
              "</div>\n",
              "      <button class=\"colab-df-convert\" onclick=\"convertToInteractive('df-bbaff7af-462b-4116-90f2-940824a9a35d')\"\n",
              "              title=\"Convert this dataframe to an interactive table.\"\n",
              "              style=\"display:none;\">\n",
              "        \n",
              "  <svg xmlns=\"http://www.w3.org/2000/svg\" height=\"24px\"viewBox=\"0 0 24 24\"\n",
              "       width=\"24px\">\n",
              "    <path d=\"M0 0h24v24H0V0z\" fill=\"none\"/>\n",
              "    <path d=\"M18.56 5.44l.94 2.06.94-2.06 2.06-.94-2.06-.94-.94-2.06-.94 2.06-2.06.94zm-11 1L8.5 8.5l.94-2.06 2.06-.94-2.06-.94L8.5 2.5l-.94 2.06-2.06.94zm10 10l.94 2.06.94-2.06 2.06-.94-2.06-.94-.94-2.06-.94 2.06-2.06.94z\"/><path d=\"M17.41 7.96l-1.37-1.37c-.4-.4-.92-.59-1.43-.59-.52 0-1.04.2-1.43.59L10.3 9.45l-7.72 7.72c-.78.78-.78 2.05 0 2.83L4 21.41c.39.39.9.59 1.41.59.51 0 1.02-.2 1.41-.59l7.78-7.78 2.81-2.81c.8-.78.8-2.07 0-2.86zM5.41 20L4 18.59l7.72-7.72 1.47 1.35L5.41 20z\"/>\n",
              "  </svg>\n",
              "      </button>\n",
              "      \n",
              "  <style>\n",
              "    .colab-df-container {\n",
              "      display:flex;\n",
              "      flex-wrap:wrap;\n",
              "      gap: 12px;\n",
              "    }\n",
              "\n",
              "    .colab-df-convert {\n",
              "      background-color: #E8F0FE;\n",
              "      border: none;\n",
              "      border-radius: 50%;\n",
              "      cursor: pointer;\n",
              "      display: none;\n",
              "      fill: #1967D2;\n",
              "      height: 32px;\n",
              "      padding: 0 0 0 0;\n",
              "      width: 32px;\n",
              "    }\n",
              "\n",
              "    .colab-df-convert:hover {\n",
              "      background-color: #E2EBFA;\n",
              "      box-shadow: 0px 1px 2px rgba(60, 64, 67, 0.3), 0px 1px 3px 1px rgba(60, 64, 67, 0.15);\n",
              "      fill: #174EA6;\n",
              "    }\n",
              "\n",
              "    [theme=dark] .colab-df-convert {\n",
              "      background-color: #3B4455;\n",
              "      fill: #D2E3FC;\n",
              "    }\n",
              "\n",
              "    [theme=dark] .colab-df-convert:hover {\n",
              "      background-color: #434B5C;\n",
              "      box-shadow: 0px 1px 3px 1px rgba(0, 0, 0, 0.15);\n",
              "      filter: drop-shadow(0px 1px 2px rgba(0, 0, 0, 0.3));\n",
              "      fill: #FFFFFF;\n",
              "    }\n",
              "  </style>\n",
              "\n",
              "      <script>\n",
              "        const buttonEl =\n",
              "          document.querySelector('#df-bbaff7af-462b-4116-90f2-940824a9a35d button.colab-df-convert');\n",
              "        buttonEl.style.display =\n",
              "          google.colab.kernel.accessAllowed ? 'block' : 'none';\n",
              "\n",
              "        async function convertToInteractive(key) {\n",
              "          const element = document.querySelector('#df-bbaff7af-462b-4116-90f2-940824a9a35d');\n",
              "          const dataTable =\n",
              "            await google.colab.kernel.invokeFunction('convertToInteractive',\n",
              "                                                     [key], {});\n",
              "          if (!dataTable) return;\n",
              "\n",
              "          const docLinkHtml = 'Like what you see? Visit the ' +\n",
              "            '<a target=\"_blank\" href=https://colab.research.google.com/notebooks/data_table.ipynb>data table notebook</a>'\n",
              "            + ' to learn more about interactive tables.';\n",
              "          element.innerHTML = '';\n",
              "          dataTable['output_type'] = 'display_data';\n",
              "          await google.colab.output.renderOutput(dataTable, element);\n",
              "          const docLink = document.createElement('div');\n",
              "          docLink.innerHTML = docLinkHtml;\n",
              "          element.appendChild(docLink);\n",
              "        }\n",
              "      </script>\n",
              "    </div>\n",
              "  </div>\n",
              "  "
            ]
          },
          "metadata": {},
          "execution_count": 10
        }
      ],
      "source": [
        "df1.describe().T"
      ]
    },
    {
      "cell_type": "markdown",
      "source": [
        "### Separate features from response for predictive modeling\n",
        "\n",
        "X is an array that holds predictive features.\n",
        "y is an array that holds the response feature. 1 for survival and otherwise 0."
      ],
      "metadata": {
        "id": "0xg_PShMUmoY"
      }
    },
    {
      "cell_type": "code",
      "execution_count": 11,
      "metadata": {
        "id": "QsWUKPDKsuI8"
      },
      "outputs": [],
      "source": [
        "#Separate Input & Response Variables\n",
        "X = df1.iloc[:,df1.columns != 'Survived'].values\n",
        "y = df1.iloc[:, 0].values"
      ]
    },
    {
      "cell_type": "markdown",
      "source": [
        "### Split into Training and Test\n",
        "We are reserving 25% for testing. Larger than usual because we want a larger population of errors to study for fairness."
      ],
      "metadata": {
        "id": "olJ_GdoEVnkE"
      }
    },
    {
      "cell_type": "code",
      "execution_count": 12,
      "metadata": {
        "id": "SN_QcPw-suI8"
      },
      "outputs": [],
      "source": [
        "#Split into Training / Test\n",
        "X_train, X_test, y_train, y_test = train_test_split(X, y, test_size = 0.25, random_state = 0)"
      ]
    },
    {
      "cell_type": "markdown",
      "source": [
        "### Scale data\n",
        "It's generally a good idea to scale and normalize data for machine learning models."
      ],
      "metadata": {
        "id": "XISk5hkTWUPD"
      }
    },
    {
      "cell_type": "code",
      "source": [
        "# Scale and Normalize Data\n",
        "sc = StandardScaler()\n",
        "X_train = sc.fit_transform(X_train)\n",
        "X_test = sc.transform(X_test)"
      ],
      "metadata": {
        "id": "Wj6SrqRh5Bnf"
      },
      "execution_count": 13,
      "outputs": []
    },
    {
      "cell_type": "markdown",
      "source": [
        "#Prep for Aequitas: Define Fairness Objectives\n",
        "This is the critical step and framework is often specific to each use case. The following links are useful resources to assist in quantifying fairness metrics:\n",
        "* http://www.datasciencepublicpolicy.org/wp-content/uploads/2021/04/Fairness-Full-Tree.png\n",
        "* https://fairlearn.org/main/user_guide/assessment/index.html\n",
        "\n",
        "For our contrived example, we can use the fairness tree in the 1st link, to think through our survival classification models for children. We decide that False Postive Rate (fpr) is the fairness metric of interest. \n",
        "\n",
        "**We want to know if our model FALSELY predicts survival of children at a higher rate than the general population of passengers on the Titanic.**\n",
        "\n",
        "In our contrived example, where we use our model to inform passenger's about to embark on the Titanic, we want to be fair to children we predict will survive the iceberg.\n",
        "\n",
        "### Aequitas setup:\n",
        "* Define Attributes we care about as \"Age_Level\", we can list multiple\n",
        "* Define the reference group as \"Adults\"\n",
        "* Define metrics to evaluate as \"fpr\" for False Positive Rate\n",
        "* Define our disparity tolerance as 1.2 for 20% tolerance "
      ],
      "metadata": {
        "id": "_3K5yPU3W8BI"
      }
    },
    {
      "cell_type": "code",
      "source": [
        "# Set attributes to audit as \"Age_Level\" and the reference group to \"Adults\"\n",
        "attributes_and_reference_groups={'Age_Level': 'Adults'}\n",
        "attributes_to_audit = list(attributes_and_reference_groups.keys())\n",
        "\n",
        "# False Positive Rate --> error rate when predicting survival\n",
        "metrics = ['fpr']\n",
        "\n",
        "# Used in visualization to define tolerance for disparity\n",
        "disparity_tolerance = 1.2"
      ],
      "metadata": {
        "id": "5pzwwbSTfwsN"
      },
      "execution_count": 14,
      "outputs": []
    },
    {
      "cell_type": "markdown",
      "source": [
        "###Format Aequitas Dataframe and Initialize\n",
        "The Aequitas toolkit requires a dataframe with the following columns:\n",
        "* 'score': the model predictions as binary data of 1 for survival or 0 for not\n",
        "* 'label_value': the actual values as binary data of 1 for survival or 0 for not\n",
        "* attribute(s): features to explore for fairness. Can be categorical as in our case with 'Age_Level'. Can also be continuous. In this case, Aequitas will bin into quartiles.\n",
        "\n",
        "Documentation for formatting the input dataframe: https://dssg.github.io/aequitas/input_data.html"
      ],
      "metadata": {
        "id": "mQHYRkaJ-c2R"
      }
    },
    {
      "cell_type": "code",
      "source": [
        "# Convert arrays back into a dataframe for Aequtas consumption\n",
        "df_fair = pd.DataFrame(X_test, columns = ['Pclass', 'Age', 'SibSp', 'Parch', 'Fare', 'Children',\n",
        "       'Sex_male', 'Embarked_C', 'Embarked_Empty', 'Embarked_Q', 'Embarked_S'])\n",
        "\n",
        "# Add the required column for 'label_value'\n",
        "df_fair['label_value'] = y_test\n",
        "\n",
        "# Convert Children binary data into Age_Level column with categical data for clarity in visualization\n",
        "df_fair['Age_Level'] = 'Adults'\n",
        "df_fair.loc[df_fair['Children'] > 0, 'Age_Level'] = 'Children'\n",
        "\n",
        "# df_fair.tail(10)\n",
        "\n",
        "# Initialize Aequitas classes\n",
        "g = Group()\n",
        "b = Bias()"
      ],
      "metadata": {
        "id": "G6oJCk3DkAem"
      },
      "execution_count": 15,
      "outputs": []
    },
    {
      "cell_type": "markdown",
      "source": [
        "#Random Forrest Classifier"
      ],
      "metadata": {
        "id": "qCuupOIR5rnE"
      }
    },
    {
      "cell_type": "markdown",
      "source": [
        "### Initialize and Fit Classification Model\n",
        "Fit model using training data and associated labels."
      ],
      "metadata": {
        "id": "d9zj0quWGWdk"
      }
    },
    {
      "cell_type": "code",
      "source": [
        "# Initialize and fit model\n",
        "rf = RandomForestClassifier(max_depth=3, random_state=0)\n",
        "rf.fit(X_train, y_train)"
      ],
      "metadata": {
        "id": "YmupM2h4581C",
        "outputId": "f11e4e22-5792-4da7-8414-493220616636",
        "colab": {
          "base_uri": "https://localhost:8080/"
        }
      },
      "execution_count": 16,
      "outputs": [
        {
          "output_type": "execute_result",
          "data": {
            "text/plain": [
              "RandomForestClassifier(max_depth=3, random_state=0)"
            ]
          },
          "metadata": {},
          "execution_count": 16
        }
      ]
    },
    {
      "cell_type": "markdown",
      "source": [],
      "metadata": {
        "id": "3Pj6iFw4Gn6P"
      }
    },
    {
      "cell_type": "code",
      "source": [
        "# Test Data\n",
        "sklearn_metrics.confusion_matrix(y_test, rf.predict(X_test))"
      ],
      "metadata": {
        "id": "MmmMVjSr6zF1",
        "outputId": "90a8786e-8e6c-498f-cb8a-59b438d84d82",
        "colab": {
          "base_uri": "https://localhost:8080/"
        }
      },
      "execution_count": 17,
      "outputs": [
        {
          "output_type": "execute_result",
          "data": {
            "text/plain": [
              "array([[129,  10],\n",
              "       [ 29,  55]])"
            ]
          },
          "metadata": {},
          "execution_count": 17
        }
      ]
    },
    {
      "cell_type": "markdown",
      "source": [
        "###Plot Confusion Matrix\n",
        "Thanks to Stack Vidhya for code snippet. https://www.stackvidhya.com/plot-confusion-matrix-in-python-and-why/ "
      ],
      "metadata": {
        "id": "TSOAdDX2I1jA"
      }
    },
    {
      "cell_type": "code",
      "source": [
        "cf_matrix = sklearn_metrics.confusion_matrix(y_test, rf.predict(X_test))\n",
        "\n",
        "cfm_labels = ['True Negative','False Positive','False Negative','True Positive']\n",
        "\n",
        "cfm_values = [\"{0:0.0f}\".format(value) for value in\n",
        "                cf_matrix.flatten()]\n",
        "\n",
        "cfm_percent = [\"{0:.2%}\".format(value) for value in\n",
        "                     cf_matrix.flatten()/np.sum(cf_matrix)]\n",
        "\n",
        "labels = [f\"{v1}\\n{v2}\\n{v3}\" for v1, v2, v3 in\n",
        "          zip(cfm_labels,cfm_values,cfm_percent)]\n",
        "\n",
        "labels = np.asarray(labels).reshape(2,2)\n",
        "\n",
        "ax = sns.heatmap(cf_matrix, annot=labels, fmt='', cmap='Blues')\n",
        "\n",
        "ax.set_title('Random Forrest Classifier\\n\\n');\n",
        "ax.set_xlabel('\\nPredicted Values')\n",
        "ax.set_ylabel('Actual Values ');\n",
        "\n",
        "## Ticket labels - List must be in alphabetical order\n",
        "ax.xaxis.set_ticklabels(['False','True'])\n",
        "ax.yaxis.set_ticklabels(['False','True'])\n",
        "\n",
        "## Display the visualization of the Confusion Matrix.\n",
        "plt.show()\n",
        "\n",
        "print('Accuracy: ', '{percent:.2%}'.format(percent=rf.score(X_test, y_test)))"
      ],
      "metadata": {
        "id": "NfwZskoYHNjx",
        "outputId": "c4b86161-581b-49e0-961e-74559ed7265d",
        "colab": {
          "base_uri": "https://localhost:8080/",
          "height": 354
        }
      },
      "execution_count": 18,
      "outputs": [
        {
          "output_type": "display_data",
          "data": {
            "text/plain": [
              "<Figure size 432x288 with 2 Axes>"
            ],
            "image/png": "[encoded data removed]"
          },
          "metadata": {
            "needs_background": "light"
          }
        },
        {
          "output_type": "stream",
          "name": "stdout",
          "text": [
            "Accuracy:  82.51%\n"
          ]
        }
      ]
    },
    {
      "cell_type": "code",
      "source": [
        "df_fair['score'] = rf.predict(X_test)\n",
        "\n",
        "# get_crosstabs returns a dataframe of the group counts and group value bias metrics.\n",
        "xtab, _ = g.get_crosstabs(df_fair, attr_cols=attributes_to_audit)\n",
        "bdf = b.get_disparity_predefined_groups(xtab, original_df=df_fair, ref_groups_dict=attributes_and_reference_groups)\n",
        "\n",
        "ap.disparity(bdf, metrics, 'Age_Level', fairness_threshold = disparity_tolerance)"
      ],
      "metadata": {
        "colab": {
          "base_uri": "https://localhost:8080/",
          "height": 337
        },
        "id": "uwjHqzChbs3R",
        "outputId": "b6e638c2-c466-4b9a-9019-4d937c47ddda"
      },
      "execution_count": 19,
      "outputs": [
        {
          "output_type": "stream",
          "name": "stdout",
          "text": [
            "get_disparity_predefined_group()\n"
          ]
        },
        {
          "output_type": "execute_result",
          "data": {
            "text/html": [
              "\n",
              "<div id=\"altair-viz-29822e0151c14fd1a6cfe37d12349360\"></div>\n",
              "<script type=\"text/javascript\">\n",
              "  (function(spec, embedOpt){\n",
              "    let outputDiv = document.currentScript.previousElementSibling;\n",
              "    if (outputDiv.id !== \"altair-viz-29822e0151c14fd1a6cfe37d12349360\") {\n",
              "      outputDiv = document.getElementById(\"altair-viz-29822e0151c14fd1a6cfe37d12349360\");\n",
              "    }\n",
              "    const paths = {\n",
              "      \"vega\": \"https://cdn.jsdelivr.net/npm//vega@5?noext\",\n",
              "      \"vega-lib\": \"https://cdn.jsdelivr.net/npm//vega-lib?noext\",\n",
              "      \"vega-lite\": \"https://cdn.jsdelivr.net/npm//vega-lite@4.8.1?noext\",\n",
              "      \"vega-embed\": \"https://cdn.jsdelivr.net/npm//vega-embed@6?noext\",\n",
              "    };\n",
              "\n",
              "    function loadScript(lib) {\n",
              "      return new Promise(function(resolve, reject) {\n",
              "        var s = document.createElement('script');\n",
              "        s.src = paths[lib];\n",
              "        s.async = true;\n",
              "        s.onload = () => resolve(paths[lib]);\n",
              "        s.onerror = () => reject(`Error loading script: ${paths[lib]}`);\n",
              "        document.getElementsByTagName(\"head\")[0].appendChild(s);\n",
              "      });\n",
              "    }\n",
              "\n",
              "    function showError(err) {\n",
              "      outputDiv.innerHTML = `<div class=\"error\" style=\"color:red;\">${err}</div>`;\n",
              "      throw err;\n",
              "    }\n",
              "\n",
              "    function displayChart(vegaEmbed) {\n",
              "      vegaEmbed(outputDiv, spec, embedOpt)\n",
              "        .catch(err => showError(`Javascript Error: ${err.message}<br>This usually means there's a typo in your chart specification. See the javascript console for the full traceback.`));\n",
              "    }\n",
              "\n",
              "    if(typeof define === \"function\" && define.amd) {\n",
              "      requirejs.config({paths});\n",
              "      require([\"vega-embed\"], displayChart, err => showError(`Error loading script: ${err.message}`));\n",
              "    } else if (typeof vegaEmbed === \"function\") {\n",
              "      displayChart(vegaEmbed);\n",
              "    } else {\n",
              "      loadScript(\"vega\")\n",
              "        .then(() => loadScript(\"vega-lite\"))\n",
              "        .then(() => loadScript(\"vega-embed\"))\n",
              "        .catch(showError)\n",
              "        .then(() => displayChart(vegaEmbed));\n",
              "    }\n",
              "  })({\"config\": {\"view\": {\"continuousWidth\": 400, \"continuousHeight\": 300, \"strokeWidth\": 0}, \"axisLeft\": {\"labelColor\": \"rgb(117,117,117)\", \"labelFont\": \"Arial\", \"labelFontSize\": 16}, \"title\": {\"align\": \"center\", \"baseline\": \"middle\", \"color\": \"rgb(117,117,117)\", \"font\": \"Arial\", \"fontSize\": 20, \"fontWeight\": \"bold\"}}, \"layer\": [{\"data\": {\"name\": \"data-38121450c6697f570e9bf3f18efe866c\"}, \"mark\": {\"type\": \"rule\", \"stroke\": \"rgb(117,117,117)\", \"strokeWidth\": 1.25, \"tooltip\": \"\"}, \"encoding\": {\"x\": {\"type\": \"quantitative\", \"field\": \"x\", \"scale\": {\"domain\": [-2, 2], \"range\": [40.0, 760.0]}}, \"x2\": {\"field\": \"x2\"}, \"y\": {\"type\": \"nominal\", \"axis\": {\"domain\": false, \"labelAngle\": 0, \"labelPadding\": -30, \"orient\": \"left\", \"ticks\": false, \"title\": \"\"}, \"field\": \"metric\", \"scale\": {\"domain\": [\"FPR\"], \"range\": [30, 225.0]}}}}, {\"data\": {\"name\": \"data-79dd248bdaa0ea02c535240e8ad022c8\"}, \"mark\": {\"type\": \"rule\", \"stroke\": \"rgb(117,117,117)\", \"strokeDash\": [5, 5], \"strokeWidth\": 1}, \"encoding\": {\"tooltip\": {\"value\": \"Adults [REF]\"}, \"x\": {\"value\": 400.0}, \"y\": {\"value\": 20.833333333333336}, \"y2\": {\"value\": 229.16666666666666}}}, {\"data\": {\"name\": \"data-c233327f4cd9b4c2df31bf8015c83e4a\"}, \"mark\": {\"type\": \"text\", \"align\": \"center\", \"color\": \"rgb(117,117,117)\", \"font\": \"Arial\", \"fontSize\": 12, \"fontWeight\": \"normal\", \"tooltip\": \"\"}, \"encoding\": {\"text\": {\"type\": \"nominal\", \"field\": \"label\"}, \"x\": {\"type\": \"quantitative\", \"field\": \"value\", \"scale\": {\"domain\": [-2, 2], \"range\": [40.0, 760.0]}}, \"y\": {\"value\": 17.5}}}, {\"layer\": [{\"mark\": {\"type\": \"text\", \"align\": \"left\", \"fill\": \"rgb(117,117,117)\", \"font\": \"Arial\", \"fontSize\": 12, \"fontWeight\": \"normal\", \"tooltip\": \"\"}, \"encoding\": {\"text\": {\"value\": \"Times Smaller\"}, \"x\": {\"value\": 40.0}, \"y\": {\"value\": 7.5}}}, {\"mark\": {\"type\": \"text\", \"align\": \"right\", \"fill\": \"rgb(117,117,117)\", \"font\": \"Arial\", \"fontSize\": 12, \"fontWeight\": \"normal\", \"tooltip\": \"\"}, \"encoding\": {\"text\": {\"value\": \"Times Larger\"}, \"x\": {\"value\": 760.0}, \"y\": {\"value\": 7.5}}}, {\"mark\": {\"type\": \"text\", \"align\": \"center\", \"fill\": \"rgb(117,117,117)\", \"font\": \"Arial\", \"fontSize\": 12, \"fontWeight\": \"normal\", \"tooltip\": \"\"}, \"encoding\": {\"text\": {\"value\": \"Equal\"}, \"x\": {\"value\": 400.0}, \"y\": {\"value\": 7.5}}}], \"data\": {\"name\": \"data-79dd248bdaa0ea02c535240e8ad022c8\"}}, {\"layer\": [{\"mark\": {\"type\": \"rule\", \"opacity\": 0.8, \"stroke\": \"rgb(217, 46, 28)\", \"strokeWidth\": 1.25, \"tooltip\": \"\"}, \"encoding\": {\"x\": {\"type\": \"quantitative\", \"field\": \"min\", \"scale\": {\"domain\": [-2, 2], \"range\": [40.0, 760.0]}}, \"y\": {\"value\": 25.0}, \"y2\": {\"value\": 225.0}}}, {\"mark\": {\"type\": \"rule\", \"opacity\": 0.8, \"stroke\": \"rgb(217, 46, 28)\", \"strokeWidth\": 1.25, \"tooltip\": \"\"}, \"encoding\": {\"x\": {\"type\": \"quantitative\", \"field\": \"max\", \"scale\": {\"domain\": [-2, 2], \"range\": [40.0, 760.0]}}, \"y\": {\"value\": 25.0}, \"y2\": {\"value\": 225.0}}}, {\"layer\": [{\"mark\": {\"type\": \"rect\", \"fill\": \"rgb(217, 46, 28)\", \"opacity\": 0.1, \"tooltip\": \"\"}, \"encoding\": {\"x\": {\"type\": \"quantitative\", \"field\": \"min\", \"scale\": {\"domain\": [-2, 2], \"range\": [40.0, 760.0]}}, \"x2\": {\"field\": \"lower_end\"}, \"y\": {\"value\": 25.0}, \"y2\": {\"value\": 225.0}}}, {\"mark\": {\"type\": \"rect\", \"fill\": \"rgb(217, 46, 28)\", \"opacity\": 0.1, \"tooltip\": \"\"}, \"encoding\": {\"x\": {\"type\": \"quantitative\", \"field\": \"max\", \"scale\": {\"domain\": [-2, 2], \"range\": [40.0, 760.0]}}, \"x2\": {\"field\": \"upper_end\"}, \"y\": {\"value\": 25.0}, \"y2\": {\"value\": 225.0}}}]}, {\"data\": {\"name\": \"data-79dd248bdaa0ea02c535240e8ad022c8\"}, \"mark\": {\"type\": \"text\", \"align\": \"left\", \"baseline\": \"top\", \"fill\": \"rgb(217, 46, 28)\", \"font\": \"Arial\", \"fontSize\": 12, \"fontWeight\": \"normal\", \"tooltip\": \"\"}, \"encoding\": {\"text\": {\"value\": \"The metric value for any group should not be 1.2 (or more) times smaller or larger than that of the reference group Adults.\"}, \"x\": {\"value\": 0}, \"y\": {\"value\": 233.33333333333334}}}], \"data\": {\"name\": \"data-25f3550964acc203f87c85ed125cfad2\"}}, {\"layer\": [{\"mark\": \"circle\"}, {\"data\": {\"name\": \"data-4e6572a3c3121881bafce55271a1b9cf\"}, \"mark\": {\"type\": \"circle\", \"opacity\": 0.2}, \"encoding\": {\"color\": {\"condition\": {\"type\": \"nominal\", \"field\": \"attribute_value\", \"legend\": null, \"scale\": {\"domain\": [\"Adults\", \"Children\"], \"range\": [\"rgb(117,117,117)\", \"rgb(100, 143, 255)\", \"rgb(254, 97, 0)\", \"rgb(220, 38, 127)\", \"rgb(255, 176, 0)\", \"rgb(120, 94, 240)\"]}, \"selection\": \"selector001\"}, \"value\": \"rgb(224,224,224)\"}, \"size\": {\"type\": \"quantitative\", \"field\": \"group_size\", \"legend\": null, \"scale\": {\"domain\": [0, 224.4], \"range\": [0, 7853.981633974483]}}, \"tooltip\": [{\"type\": \"nominal\", \"field\": \"attribute_value\", \"title\": \"Group\"}, {\"type\": \"nominal\", \"field\": \"tooltip_group_size\", \"title\": \"Group Size\"}, {\"type\": \"nominal\", \"field\": \"tooltip_disparity_explanation_fpr\", \"title\": \"Disparity\"}, {\"type\": \"quantitative\", \"field\": \"fpr\", \"format\": \".2f\", \"title\": \"FPR\"}], \"x\": {\"type\": \"quantitative\", \"axis\": {\"domain\": false, \"labels\": false, \"ticks\": false, \"title\": null, \"values\": [1, 2, -2, -1]}, \"field\": \"fpr_disparity_scaled\", \"scale\": {\"domain\": [-2, 2], \"range\": [40.0, 760.0]}}, \"y\": {\"type\": \"nominal\", \"axis\": {\"domain\": false, \"grid\": false, \"labels\": false, \"ticks\": false, \"title\": \" \"}, \"field\": \"metric_variable\", \"scale\": {\"domain\": [\"FPR\"], \"range\": [30, 225.0]}}}, \"selection\": {\"selector003\": {\"type\": \"multi\", \"empty\": \"all\", \"fields\": [\"attribute_value\"]}}, \"transform\": [{\"calculate\": \"'FPR'\", \"as\": \"metric_variable\"}]}, {\"layer\": [{\"mark\": \"point\"}, {\"data\": {\"name\": \"data-4e6572a3c3121881bafce55271a1b9cf\"}, \"mark\": {\"type\": \"point\", \"filled\": true, \"size\": 60}, \"encoding\": {\"color\": {\"condition\": {\"type\": \"nominal\", \"field\": \"attribute_value\", \"legend\": null, \"scale\": {\"domain\": [\"Adults\", \"Children\"], \"range\": [\"rgb(117,117,117)\", \"rgb(100, 143, 255)\", \"rgb(254, 97, 0)\", \"rgb(220, 38, 127)\", \"rgb(255, 176, 0)\", \"rgb(120, 94, 240)\"]}, \"selection\": \"selector001\"}, \"value\": \"rgb(224,224,224)\"}, \"shape\": {\"type\": \"nominal\", \"field\": \"attribute_value\", \"legend\": null, \"scale\": {\"domain\": [\"Adults\", \"Children\"], \"range\": [\"cross\", \"circle\"]}}, \"tooltip\": [{\"type\": \"nominal\", \"field\": \"attribute_value\", \"title\": \"Group\"}, {\"type\": \"nominal\", \"field\": \"tooltip_group_size\", \"title\": \"Group Size\"}, {\"type\": \"nominal\", \"field\": \"tooltip_disparity_explanation_fpr\", \"title\": \"Disparity\"}, {\"type\": \"quantitative\", \"field\": \"fpr\", \"format\": \".2f\", \"title\": \"FPR\"}], \"x\": {\"type\": \"quantitative\", \"axis\": {\"domain\": false, \"labels\": false, \"ticks\": false, \"title\": null, \"values\": [1, 2, -2, -1]}, \"field\": \"fpr_disparity_scaled\", \"scale\": {\"domain\": [-2, 2], \"range\": [40.0, 760.0]}}, \"y\": {\"type\": \"nominal\", \"axis\": {\"domain\": false, \"grid\": false, \"labels\": false, \"ticks\": false, \"title\": \" \"}, \"field\": \"metric_variable\", \"scale\": {\"domain\": [\"FPR\"], \"range\": [30, 225.0]}}}, \"selection\": {\"selector002\": {\"type\": \"multi\", \"empty\": \"all\", \"fields\": [\"attribute_value\"]}}, \"transform\": [{\"calculate\": \"'FPR'\", \"as\": \"metric_variable\"}]}]}]}, {\"layer\": [{\"mark\": {\"type\": \"point\", \"filled\": true, \"opacity\": 1, \"size\": 39.47841760435743}, \"encoding\": {\"color\": {\"condition\": {\"type\": \"nominal\", \"field\": \"attribute_value\", \"legend\": null, \"scale\": {\"domain\": [\"Adults\", \"Children\"], \"range\": [\"rgb(117,117,117)\", \"rgb(100, 143, 255)\", \"rgb(254, 97, 0)\", \"rgb(220, 38, 127)\", \"rgb(255, 176, 0)\", \"rgb(120, 94, 240)\"]}, \"selection\": \"selector001\"}, \"value\": \"rgb(224,224,224)\"}, \"shape\": {\"type\": \"nominal\", \"field\": \"attribute_value\", \"legend\": null, \"scale\": {\"domain\": [\"Adults\", \"Children\"], \"range\": [\"cross\", \"circle\"]}}, \"x\": {\"value\": 804}, \"y\": {\"type\": \"nominal\", \"axis\": {\"domain\": false, \"grid\": false, \"labels\": false, \"ticks\": false, \"title\": \" \"}, \"field\": \"attribute_value\", \"scale\": {\"domain\": [\"Adults\", \"Children\"], \"range\": [71, 125]}}}, \"selection\": {\"selector001\": {\"type\": \"multi\", \"empty\": \"all\", \"fields\": [\"attribute_value\"]}}}, {\"mark\": {\"type\": \"text\", \"align\": \"left\", \"baseline\": \"middle\", \"font\": \"Arial\", \"fontSize\": 12, \"fontWeight\": \"normal\"}, \"encoding\": {\"color\": {\"condition\": {\"type\": \"nominal\", \"field\": \"attribute_value\", \"legend\": null, \"scale\": {\"domain\": [\"Adults\", \"Children\"], \"range\": [\"rgb(117,117,117)\", \"rgb(100, 143, 255)\", \"rgb(254, 97, 0)\", \"rgb(220, 38, 127)\", \"rgb(255, 176, 0)\", \"rgb(120, 94, 240)\"]}, \"selection\": \"selector001\"}, \"value\": \"rgb(224,224,224)\"}, \"text\": {\"type\": \"nominal\", \"field\": \"label\"}, \"x\": {\"value\": 812}, \"y\": {\"type\": \"nominal\", \"axis\": {\"domain\": false, \"grid\": false, \"labels\": false, \"ticks\": false, \"title\": \" \"}, \"field\": \"attribute_value\", \"scale\": {\"domain\": [\"Adults\", \"Children\"], \"range\": [71, 125]}}}, \"selection\": {\"selector004\": {\"type\": \"multi\", \"empty\": \"all\", \"fields\": [\"attribute_value\"]}}}, {\"data\": {\"name\": \"data-79dd248bdaa0ea02c535240e8ad022c8\"}, \"mark\": {\"type\": \"text\", \"align\": \"left\", \"baseline\": \"middle\", \"color\": \"rgb(117,117,117)\", \"font\": \"Arial\", \"fontSize\": 12, \"fontWeight\": \"normal\"}, \"encoding\": {\"text\": {\"value\": \"Click to highlight a group.\"}, \"x\": {\"value\": 800}, \"y\": {\"value\": 49}}}, {\"data\": {\"name\": \"data-79dd248bdaa0ea02c535240e8ad022c8\"}, \"mark\": {\"type\": \"text\", \"align\": \"left\", \"baseline\": \"middle\", \"color\": \"rgb(117,117,117)\", \"font\": \"Arial\", \"fontSize\": 14, \"fontWeight\": \"normal\"}, \"encoding\": {\"text\": {\"value\": \"Groups\"}, \"x\": {\"value\": 800}, \"y\": {\"value\": 30}}}], \"data\": {\"name\": \"data-5633874912c6de05621e650b4de11111\"}}], \"height\": 250, \"padding\": {\"top\": 15, \"bottom\": 10}, \"resolve\": {\"scale\": {\"size\": \"independent\", \"y\": \"independent\"}}, \"title\": \"Disparities on Age_Level\", \"width\": 800, \"$schema\": \"https://vega.github.io/schema/vega-lite/v4.8.1.json\", \"datasets\": {\"data-38121450c6697f570e9bf3f18efe866c\": [{\"metric\": \"FPR\", \"x\": -2, \"x2\": 2}], \"data-79dd248bdaa0ea02c535240e8ad022c8\": [{\"a\": 1, \"b\": 0}, {\"a\": 1, \"b\": 0}], \"data-c233327f4cd9b4c2df31bf8015c83e4a\": [{\"value\": 1, \"label\": 2}, {\"value\": 2, \"label\": 3}, {\"value\": -2, \"label\": 3}, {\"value\": -1, \"label\": 2}, {\"value\": 0, \"label\": \"=\"}], \"data-25f3550964acc203f87c85ed125cfad2\": [{\"min\": -0.19999999999999996, \"max\": 0.19999999999999996, \"lower_end\": -2, \"upper_end\": 2}], \"data-4e6572a3c3121881bafce55271a1b9cf\": [{\"attribute_name\": \"Age_Level\", \"attribute_value\": \"Adults\", \"group_size\": 187, \"total_entities\": 223, \"fpr\": 0.05785123966942149, \"fpr_disparity\": 1.0, \"fpr_disparity_scaled\": 0.0, \"tooltip_group_size\": \"187 (83.86%)\", \"tooltip_disparity_explanation_fpr\": \"Reference group\"}, {\"attribute_name\": \"Age_Level\", \"attribute_value\": \"Children\", \"group_size\": 36, \"total_entities\": 223, \"fpr\": 0.16666666666666666, \"fpr_disparity\": 2.880952380952381, \"fpr_disparity_scaled\": 1.880952380952381, \"tooltip_group_size\": \"36 (16.14%)\", \"tooltip_disparity_explanation_fpr\": \"2.88 times larger FPR than the reference group\"}], \"data-5633874912c6de05621e650b4de11111\": [{\"attribute_value\": \"Adults\", \"label\": \"Adults [REF]\"}, {\"attribute_value\": \"Children\", \"label\": \"Children\"}]}}, {\"mode\": \"vega-lite\"});\n",
              "</script>"
            ],
            "text/plain": [
              "alt.LayerChart(...)"
            ]
          },
          "metadata": {},
          "execution_count": 19
        }
      ]
    },
    {
      "cell_type": "code",
      "source": [
        "ap.absolute(bdf, metrics, 'Age_Level', fairness_threshold = disparity_tolerance)"
      ],
      "metadata": {
        "colab": {
          "base_uri": "https://localhost:8080/",
          "height": 245
        },
        "id": "fIBwFJZrd30x",
        "outputId": "2fa40caf-5e76-450b-8133-11902a26b55b"
      },
      "execution_count": 20,
      "outputs": [
        {
          "output_type": "execute_result",
          "data": {
            "text/html": [
              "\n",
              "<div id=\"altair-viz-d0cb6db5b11f45e3b6108e9446d6a314\"></div>\n",
              "<script type=\"text/javascript\">\n",
              "  (function(spec, embedOpt){\n",
              "    let outputDiv = document.currentScript.previousElementSibling;\n",
              "    if (outputDiv.id !== \"altair-viz-d0cb6db5b11f45e3b6108e9446d6a314\") {\n",
              "      outputDiv = document.getElementById(\"altair-viz-d0cb6db5b11f45e3b6108e9446d6a314\");\n",
              "    }\n",
              "    const paths = {\n",
              "      \"vega\": \"https://cdn.jsdelivr.net/npm//vega@5?noext\",\n",
              "      \"vega-lib\": \"https://cdn.jsdelivr.net/npm//vega-lib?noext\",\n",
              "      \"vega-lite\": \"https://cdn.jsdelivr.net/npm//vega-lite@4.8.1?noext\",\n",
              "      \"vega-embed\": \"https://cdn.jsdelivr.net/npm//vega-embed@6?noext\",\n",
              "    };\n",
              "\n",
              "    function loadScript(lib) {\n",
              "      return new Promise(function(resolve, reject) {\n",
              "        var s = document.createElement('script');\n",
              "        s.src = paths[lib];\n",
              "        s.async = true;\n",
              "        s.onload = () => resolve(paths[lib]);\n",
              "        s.onerror = () => reject(`Error loading script: ${paths[lib]}`);\n",
              "        document.getElementsByTagName(\"head\")[0].appendChild(s);\n",
              "      });\n",
              "    }\n",
              "\n",
              "    function showError(err) {\n",
              "      outputDiv.innerHTML = `<div class=\"error\" style=\"color:red;\">${err}</div>`;\n",
              "      throw err;\n",
              "    }\n",
              "\n",
              "    function displayChart(vegaEmbed) {\n",
              "      vegaEmbed(outputDiv, spec, embedOpt)\n",
              "        .catch(err => showError(`Javascript Error: ${err.message}<br>This usually means there's a typo in your chart specification. See the javascript console for the full traceback.`));\n",
              "    }\n",
              "\n",
              "    if(typeof define === \"function\" && define.amd) {\n",
              "      requirejs.config({paths});\n",
              "      require([\"vega-embed\"], displayChart, err => showError(`Error loading script: ${err.message}`));\n",
              "    } else if (typeof vegaEmbed === \"function\") {\n",
              "      displayChart(vegaEmbed);\n",
              "    } else {\n",
              "      loadScript(\"vega\")\n",
              "        .then(() => loadScript(\"vega-lite\"))\n",
              "        .then(() => loadScript(\"vega-embed\"))\n",
              "        .catch(showError)\n",
              "        .then(() => displayChart(vegaEmbed));\n",
              "    }\n",
              "  })({\"config\": {\"view\": {\"continuousWidth\": 400, \"continuousHeight\": 300, \"strokeWidth\": 0}, \"axisLeft\": {\"labelColor\": \"rgb(117,117,117)\", \"labelFont\": \"Arial\", \"labelFontSize\": 16}, \"title\": {\"align\": \"center\", \"baseline\": \"middle\", \"color\": \"rgb(117,117,117)\", \"font\": \"Arial\", \"fontSize\": 20, \"fontWeight\": \"bold\"}}, \"layer\": [{\"data\": {\"name\": \"data-b71d65f846bc74ae5caddb3a096fb136\"}, \"mark\": {\"type\": \"rule\", \"stroke\": \"rgb(117,117,117)\", \"strokeWidth\": 1.25, \"tooltip\": \"\"}, \"encoding\": {\"x\": {\"type\": \"quantitative\", \"field\": \"start\", \"scale\": {\"domain\": [0, 1], \"range\": [40.0, 760.0]}}, \"x2\": {\"field\": \"end\"}, \"y\": {\"type\": \"nominal\", \"axis\": {\"domain\": false, \"labelAngle\": 0, \"labelPadding\": -30, \"orient\": \"left\", \"ticks\": false, \"title\": \"\"}, \"field\": \"y_position\", \"scale\": {\"domain\": [\"FPR\"], \"range\": [17.5, 157.5]}}}}, {\"data\": {\"name\": \"data-6cfe259518f6c7b358d8f836a73e6b7f\"}, \"mark\": {\"type\": \"rule\", \"stroke\": \"rgb(117,117,117)\", \"strokeWidth\": 1.25, \"tooltip\": \"\"}, \"encoding\": {\"x\": {\"type\": \"quantitative\", \"field\": \"x_position\", \"scale\": {\"domain\": [0, 1], \"range\": [40.0, 760.0]}}, \"y\": {\"value\": 17.5}, \"y2\": {\"value\": 157.5}}}, {\"data\": {\"name\": \"data-60ed1133fa688d151d36705a369482e0\"}, \"mark\": {\"type\": \"text\", \"align\": \"center\", \"color\": \"rgb(117,117,117)\", \"font\": \"Arial\", \"fontSize\": 12, \"fontWeight\": \"normal\", \"tooltip\": \"\"}, \"encoding\": {\"text\": {\"type\": \"nominal\", \"field\": \"value\"}, \"x\": {\"type\": \"quantitative\", \"field\": \"value\", \"scale\": {\"domain\": [0, 1], \"range\": [40.0, 760.0]}}, \"y\": {\"value\": 12.25}}}, {\"layer\": [{\"mark\": {\"type\": \"rect\", \"opacity\": 0.8, \"stroke\": \"rgb(217, 46, 28)\", \"strokeWidth\": 1.25, \"tooltip\": \"\"}, \"encoding\": {\"x\": {\"type\": \"quantitative\", \"field\": \"lower_threshold_value\", \"scale\": {\"domain\": [0, 1], \"range\": [40.0, 760.0]}}, \"x2\": {\"field\": \"lower_threshold_value\"}, \"y\": {\"type\": \"nominal\", \"axis\": {\"domain\": false, \"grid\": false, \"labels\": false, \"ticks\": false, \"title\": \" \"}, \"field\": \"metric\", \"scale\": {\"domain\": [\"FPR\"], \"range\": [17.5, 157.5]}}}}, {\"mark\": {\"type\": \"rect\", \"opacity\": 0.8, \"stroke\": \"rgb(217, 46, 28)\", \"strokeWidth\": 1.25, \"tooltip\": \"\"}, \"encoding\": {\"x\": {\"type\": \"quantitative\", \"field\": \"upper_threshold_value\", \"scale\": {\"domain\": [0, 1], \"range\": [40.0, 760.0]}}, \"x2\": {\"field\": \"upper_threshold_value\"}, \"y\": {\"type\": \"nominal\", \"axis\": {\"domain\": false, \"grid\": false, \"labels\": false, \"ticks\": false, \"title\": \" \"}, \"field\": \"metric\", \"scale\": {\"domain\": [\"FPR\"], \"range\": [17.5, 157.5]}}}}, {\"layer\": [{\"mark\": {\"type\": \"rect\", \"fill\": \"rgb(217, 46, 28)\", \"opacity\": 0.1, \"tooltip\": \"\"}, \"encoding\": {\"x\": {\"type\": \"quantitative\", \"field\": \"lower_threshold_value\", \"scale\": {\"domain\": [0, 1], \"range\": [40.0, 760.0]}}, \"x2\": {\"field\": \"lower_end\"}, \"y\": {\"type\": \"nominal\", \"axis\": {\"domain\": false, \"grid\": false, \"labels\": false, \"ticks\": false, \"title\": \" \"}, \"field\": \"metric\", \"scale\": {\"domain\": [\"FPR\"], \"range\": [17.5, 157.5]}}}}, {\"mark\": {\"type\": \"rect\", \"fill\": \"rgb(217, 46, 28)\", \"opacity\": 0.1, \"tooltip\": \"\"}, \"encoding\": {\"x\": {\"type\": \"quantitative\", \"field\": \"upper_threshold_value\", \"scale\": {\"domain\": [0, 1], \"range\": [40.0, 760.0]}}, \"x2\": {\"field\": \"upper_end\"}, \"y\": {\"type\": \"nominal\", \"axis\": {\"domain\": false, \"grid\": false, \"labels\": false, \"ticks\": false, \"title\": \" \"}, \"field\": \"metric\", \"scale\": {\"domain\": [\"FPR\"], \"range\": [17.5, 157.5]}}}}]}, {\"data\": {\"name\": \"data-79dd248bdaa0ea02c535240e8ad022c8\"}, \"mark\": {\"type\": \"text\", \"align\": \"left\", \"baseline\": \"top\", \"fill\": \"rgb(217, 46, 28)\", \"font\": \"Arial\", \"fontSize\": 12, \"fontWeight\": \"normal\", \"tooltip\": \"\"}, \"encoding\": {\"text\": {\"value\": \"The metric value for any group should not be 1.2 (or more) times smaller or larger than that of the reference group Adults.\"}, \"x\": {\"value\": 0}, \"y\": {\"value\": 163.33333333333334}}}], \"data\": {\"name\": \"data-7218488ede79356ff69db9808bef4333\"}}, {\"layer\": [{\"mark\": \"circle\"}, {\"data\": {\"name\": \"data-4e6572a3c3121881bafce55271a1b9cf\"}, \"mark\": {\"type\": \"circle\", \"opacity\": 0.2}, \"encoding\": {\"color\": {\"condition\": {\"type\": \"nominal\", \"field\": \"attribute_value\", \"legend\": null, \"scale\": {\"domain\": [\"Adults\", \"Children\"], \"range\": [\"rgb(117,117,117)\", \"rgb(100, 143, 255)\", \"rgb(254, 97, 0)\", \"rgb(220, 38, 127)\", \"rgb(255, 176, 0)\", \"rgb(120, 94, 240)\"]}, \"selection\": \"selector005\"}, \"value\": \"rgb(224,224,224)\"}, \"size\": {\"type\": \"quantitative\", \"field\": \"group_size\", \"legend\": null, \"scale\": {\"domain\": [0, 224.4], \"range\": [0, 3848.4510006474966]}}, \"tooltip\": [{\"type\": \"nominal\", \"field\": \"attribute_value\", \"title\": \"Group\"}, {\"type\": \"nominal\", \"field\": \"tooltip_group_size\", \"title\": \"Group Size\"}, {\"type\": \"nominal\", \"field\": \"tooltip_disparity_explanation_fpr\", \"title\": \"Disparity\"}, {\"type\": \"quantitative\", \"field\": \"fpr\", \"format\": \".2f\", \"title\": \"FPR\"}], \"x\": {\"type\": \"quantitative\", \"axis\": {\"domain\": false, \"labels\": false, \"ticks\": false, \"title\": null, \"values\": [0.25, 0.5, 0.75]}, \"field\": \"fpr\", \"scale\": {\"domain\": [0, 1], \"range\": [40.0, 760.0]}}, \"y\": {\"type\": \"nominal\", \"axis\": {\"domain\": false, \"grid\": false, \"labels\": false, \"ticks\": false, \"title\": \" \"}, \"field\": \"metric_variable\", \"scale\": {\"domain\": [\"FPR\"], \"range\": [17.5, 157.5]}}}, \"selection\": {\"selector007\": {\"type\": \"multi\", \"empty\": \"all\", \"fields\": [\"attribute_value\"]}}, \"transform\": [{\"calculate\": \"'FPR'\", \"as\": \"metric_variable\"}]}, {\"layer\": [{\"mark\": \"point\"}, {\"data\": {\"name\": \"data-4e6572a3c3121881bafce55271a1b9cf\"}, \"mark\": {\"type\": \"point\", \"filled\": true, \"size\": 60}, \"encoding\": {\"color\": {\"condition\": {\"type\": \"nominal\", \"field\": \"attribute_value\", \"legend\": null, \"scale\": {\"domain\": [\"Adults\", \"Children\"], \"range\": [\"rgb(117,117,117)\", \"rgb(100, 143, 255)\", \"rgb(254, 97, 0)\", \"rgb(220, 38, 127)\", \"rgb(255, 176, 0)\", \"rgb(120, 94, 240)\"]}, \"selection\": \"selector005\"}, \"value\": \"rgb(224,224,224)\"}, \"shape\": {\"type\": \"nominal\", \"field\": \"attribute_value\", \"legend\": null, \"scale\": {\"domain\": [\"Adults\", \"Children\"], \"range\": [\"cross\", \"circle\"]}}, \"tooltip\": [{\"type\": \"nominal\", \"field\": \"attribute_value\", \"title\": \"Group\"}, {\"type\": \"nominal\", \"field\": \"tooltip_group_size\", \"title\": \"Group Size\"}, {\"type\": \"nominal\", \"field\": \"tooltip_disparity_explanation_fpr\", \"title\": \"Disparity\"}, {\"type\": \"quantitative\", \"field\": \"fpr\", \"format\": \".2f\", \"title\": \"FPR\"}], \"x\": {\"type\": \"quantitative\", \"axis\": {\"domain\": false, \"labels\": false, \"ticks\": false, \"title\": null, \"values\": [0.25, 0.5, 0.75]}, \"field\": \"fpr\", \"scale\": {\"domain\": [0, 1], \"range\": [40.0, 760.0]}}, \"y\": {\"type\": \"nominal\", \"axis\": {\"domain\": false, \"grid\": false, \"labels\": false, \"ticks\": false, \"title\": \" \"}, \"field\": \"metric_variable\", \"scale\": {\"domain\": [\"FPR\"], \"range\": [17.5, 157.5]}}}, \"selection\": {\"selector006\": {\"type\": \"multi\", \"empty\": \"all\", \"fields\": [\"attribute_value\"]}}, \"transform\": [{\"calculate\": \"'FPR'\", \"as\": \"metric_variable\"}]}]}]}, {\"layer\": [{\"mark\": {\"type\": \"point\", \"filled\": true, \"opacity\": 1, \"size\": 39.47841760435743}, \"encoding\": {\"color\": {\"condition\": {\"type\": \"nominal\", \"field\": \"attribute_value\", \"legend\": null, \"scale\": {\"domain\": [\"Adults\", \"Children\"], \"range\": [\"rgb(117,117,117)\", \"rgb(100, 143, 255)\", \"rgb(254, 97, 0)\", \"rgb(220, 38, 127)\", \"rgb(255, 176, 0)\", \"rgb(120, 94, 240)\"]}, \"selection\": \"selector005\"}, \"value\": \"rgb(224,224,224)\"}, \"shape\": {\"type\": \"nominal\", \"field\": \"attribute_value\", \"legend\": null, \"scale\": {\"domain\": [\"Adults\", \"Children\"], \"range\": [\"cross\", \"circle\"]}}, \"x\": {\"value\": 804}, \"y\": {\"type\": \"nominal\", \"axis\": {\"domain\": false, \"grid\": false, \"labels\": false, \"ticks\": false, \"title\": \" \"}, \"field\": \"attribute_value\", \"scale\": {\"domain\": [\"Adults\", \"Children\"], \"range\": [71, 125]}}}, \"selection\": {\"selector005\": {\"type\": \"multi\", \"empty\": \"all\", \"fields\": [\"attribute_value\"]}}}, {\"mark\": {\"type\": \"text\", \"align\": \"left\", \"baseline\": \"middle\", \"font\": \"Arial\", \"fontSize\": 12, \"fontWeight\": \"normal\"}, \"encoding\": {\"color\": {\"condition\": {\"type\": \"nominal\", \"field\": \"attribute_value\", \"legend\": null, \"scale\": {\"domain\": [\"Adults\", \"Children\"], \"range\": [\"rgb(117,117,117)\", \"rgb(100, 143, 255)\", \"rgb(254, 97, 0)\", \"rgb(220, 38, 127)\", \"rgb(255, 176, 0)\", \"rgb(120, 94, 240)\"]}, \"selection\": \"selector005\"}, \"value\": \"rgb(224,224,224)\"}, \"text\": {\"type\": \"nominal\", \"field\": \"label\"}, \"x\": {\"value\": 812}, \"y\": {\"type\": \"nominal\", \"axis\": {\"domain\": false, \"grid\": false, \"labels\": false, \"ticks\": false, \"title\": \" \"}, \"field\": \"attribute_value\", \"scale\": {\"domain\": [\"Adults\", \"Children\"], \"range\": [71, 125]}}}, \"selection\": {\"selector008\": {\"type\": \"multi\", \"empty\": \"all\", \"fields\": [\"attribute_value\"]}}}, {\"data\": {\"name\": \"data-79dd248bdaa0ea02c535240e8ad022c8\"}, \"mark\": {\"type\": \"text\", \"align\": \"left\", \"baseline\": \"middle\", \"color\": \"rgb(117,117,117)\", \"font\": \"Arial\", \"fontSize\": 12, \"fontWeight\": \"normal\"}, \"encoding\": {\"text\": {\"value\": \"Click to highlight a group.\"}, \"x\": {\"value\": 800}, \"y\": {\"value\": 49}}}, {\"data\": {\"name\": \"data-79dd248bdaa0ea02c535240e8ad022c8\"}, \"mark\": {\"type\": \"text\", \"align\": \"left\", \"baseline\": \"middle\", \"color\": \"rgb(117,117,117)\", \"font\": \"Arial\", \"fontSize\": 14, \"fontWeight\": \"normal\"}, \"encoding\": {\"text\": {\"value\": \"Groups\"}, \"x\": {\"value\": 800}, \"y\": {\"value\": 30}}}], \"data\": {\"name\": \"data-5633874912c6de05621e650b4de11111\"}}], \"height\": 175, \"padding\": {\"top\": 15, \"bottom\": 10}, \"resolve\": {\"scale\": {\"size\": \"independent\", \"y\": \"independent\"}}, \"title\": \"Absolute values by Age_Level\", \"width\": 800, \"$schema\": \"https://vega.github.io/schema/vega-lite/v4.8.1.json\", \"datasets\": {\"data-b71d65f846bc74ae5caddb3a096fb136\": [{\"y_position\": \"FPR\", \"start\": 0, \"end\": 1}], \"data-6cfe259518f6c7b358d8f836a73e6b7f\": [{\"x_position\": 0}, {\"x_position\": 1}], \"data-60ed1133fa688d151d36705a369482e0\": [{\"value\": 0.0}, {\"value\": 0.25}, {\"value\": 0.5}, {\"value\": 0.75}, {\"value\": 1.0}], \"data-7218488ede79356ff69db9808bef4333\": [{\"lower_end\": 0, \"upper_end\": 1, \"lower_threshold_value\": 0.048209366391184574, \"upper_threshold_value\": 0.06942148760330578, \"metric\": \"FPR\"}], \"data-79dd248bdaa0ea02c535240e8ad022c8\": [{\"a\": 1, \"b\": 0}, {\"a\": 1, \"b\": 0}], \"data-4e6572a3c3121881bafce55271a1b9cf\": [{\"attribute_name\": \"Age_Level\", \"attribute_value\": \"Adults\", \"group_size\": 187, \"total_entities\": 223, \"fpr\": 0.05785123966942149, \"fpr_disparity\": 1.0, \"fpr_disparity_scaled\": 0.0, \"tooltip_group_size\": \"187 (83.86%)\", \"tooltip_disparity_explanation_fpr\": \"Reference group\"}, {\"attribute_name\": \"Age_Level\", \"attribute_value\": \"Children\", \"group_size\": 36, \"total_entities\": 223, \"fpr\": 0.16666666666666666, \"fpr_disparity\": 2.880952380952381, \"fpr_disparity_scaled\": 1.880952380952381, \"tooltip_group_size\": \"36 (16.14%)\", \"tooltip_disparity_explanation_fpr\": \"2.88 times larger FPR than the reference group\"}], \"data-5633874912c6de05621e650b4de11111\": [{\"attribute_value\": \"Adults\", \"label\": \"Adults [REF]\"}, {\"attribute_value\": \"Children\", \"label\": \"Children\"}]}}, {\"mode\": \"vega-lite\"});\n",
              "</script>"
            ],
            "text/plain": [
              "alt.LayerChart(...)"
            ]
          },
          "metadata": {},
          "execution_count": 20
        }
      ]
    },
    {
      "cell_type": "markdown",
      "source": [
        "#XGBoost Classifier"
      ],
      "metadata": {
        "id": "FG_HtHIn8IB1"
      }
    },
    {
      "cell_type": "code",
      "source": [
        "xg = xgb.XGBClassifier()\n",
        "xg.fit(X_train, y_train)"
      ],
      "metadata": {
        "id": "lR913jkm8NAI",
        "outputId": "b7a022dd-67ba-4c4d-d4e5-141f4971e75c",
        "colab": {
          "base_uri": "https://localhost:8080/"
        }
      },
      "execution_count": 21,
      "outputs": [
        {
          "output_type": "execute_result",
          "data": {
            "text/plain": [
              "XGBClassifier()"
            ]
          },
          "metadata": {},
          "execution_count": 21
        }
      ]
    },
    {
      "cell_type": "code",
      "source": [
        "# Test Data\n",
        "sklearn_metrics.confusion_matrix(y_test, xg.predict(X_test))"
      ],
      "metadata": {
        "id": "syivKlGt8jdR",
        "outputId": "abfc24cc-6d2e-4d14-8c42-06ca40a321e4",
        "colab": {
          "base_uri": "https://localhost:8080/"
        }
      },
      "execution_count": 22,
      "outputs": [
        {
          "output_type": "execute_result",
          "data": {
            "text/plain": [
              "array([[127,  12],\n",
              "       [ 21,  63]])"
            ]
          },
          "metadata": {},
          "execution_count": 22
        }
      ]
    },
    {
      "cell_type": "code",
      "source": [
        "# Accuracy\n",
        "xg.score(X_test, y_test)"
      ],
      "metadata": {
        "id": "XwDHoUyUFWR2",
        "outputId": "a889135c-ec5d-4206-c053-331a82548046",
        "colab": {
          "base_uri": "https://localhost:8080/"
        }
      },
      "execution_count": 23,
      "outputs": [
        {
          "output_type": "execute_result",
          "data": {
            "text/plain": [
              "0.852017937219731"
            ]
          },
          "metadata": {},
          "execution_count": 23
        }
      ]
    },
    {
      "cell_type": "code",
      "source": [
        "df_fair['score'] = xg.predict(X_test)\n",
        "\n",
        "# get_crosstabs returns a dataframe of the group counts and group value bias metrics.\n",
        "xtab, _ = g.get_crosstabs(df_fair, attr_cols=attributes_to_audit)\n",
        "bdf = b.get_disparity_predefined_groups(xtab, original_df=df_fair, ref_groups_dict=attributes_and_reference_groups)\n",
        "\n",
        "ap.disparity(bdf, metrics, 'Age_Level', fairness_threshold = disparity_tolerance)"
      ],
      "metadata": {
        "colab": {
          "base_uri": "https://localhost:8080/",
          "height": 337
        },
        "id": "Gk_cnaPybj3J",
        "outputId": "3a8cc5a3-5391-4bdf-b4af-504eb14731bb"
      },
      "execution_count": 24,
      "outputs": [
        {
          "output_type": "stream",
          "name": "stdout",
          "text": [
            "get_disparity_predefined_group()\n"
          ]
        },
        {
          "output_type": "execute_result",
          "data": {
            "text/html": [
              "\n",
              "<div id=\"altair-viz-3987c444e774441dac6f9f21a762a1e4\"></div>\n",
              "<script type=\"text/javascript\">\n",
              "  (function(spec, embedOpt){\n",
              "    let outputDiv = document.currentScript.previousElementSibling;\n",
              "    if (outputDiv.id !== \"altair-viz-3987c444e774441dac6f9f21a762a1e4\") {\n",
              "      outputDiv = document.getElementById(\"altair-viz-3987c444e774441dac6f9f21a762a1e4\");\n",
              "    }\n",
              "    const paths = {\n",
              "      \"vega\": \"https://cdn.jsdelivr.net/npm//vega@5?noext\",\n",
              "      \"vega-lib\": \"https://cdn.jsdelivr.net/npm//vega-lib?noext\",\n",
              "      \"vega-lite\": \"https://cdn.jsdelivr.net/npm//vega-lite@4.8.1?noext\",\n",
              "      \"vega-embed\": \"https://cdn.jsdelivr.net/npm//vega-embed@6?noext\",\n",
              "    };\n",
              "\n",
              "    function loadScript(lib) {\n",
              "      return new Promise(function(resolve, reject) {\n",
              "        var s = document.createElement('script');\n",
              "        s.src = paths[lib];\n",
              "        s.async = true;\n",
              "        s.onload = () => resolve(paths[lib]);\n",
              "        s.onerror = () => reject(`Error loading script: ${paths[lib]}`);\n",
              "        document.getElementsByTagName(\"head\")[0].appendChild(s);\n",
              "      });\n",
              "    }\n",
              "\n",
              "    function showError(err) {\n",
              "      outputDiv.innerHTML = `<div class=\"error\" style=\"color:red;\">${err}</div>`;\n",
              "      throw err;\n",
              "    }\n",
              "\n",
              "    function displayChart(vegaEmbed) {\n",
              "      vegaEmbed(outputDiv, spec, embedOpt)\n",
              "        .catch(err => showError(`Javascript Error: ${err.message}<br>This usually means there's a typo in your chart specification. See the javascript console for the full traceback.`));\n",
              "    }\n",
              "\n",
              "    if(typeof define === \"function\" && define.amd) {\n",
              "      requirejs.config({paths});\n",
              "      require([\"vega-embed\"], displayChart, err => showError(`Error loading script: ${err.message}`));\n",
              "    } else if (typeof vegaEmbed === \"function\") {\n",
              "      displayChart(vegaEmbed);\n",
              "    } else {\n",
              "      loadScript(\"vega\")\n",
              "        .then(() => loadScript(\"vega-lite\"))\n",
              "        .then(() => loadScript(\"vega-embed\"))\n",
              "        .catch(showError)\n",
              "        .then(() => displayChart(vegaEmbed));\n",
              "    }\n",
              "  })({\"config\": {\"view\": {\"continuousWidth\": 400, \"continuousHeight\": 300, \"strokeWidth\": 0}, \"axisLeft\": {\"labelColor\": \"rgb(117,117,117)\", \"labelFont\": \"Arial\", \"labelFontSize\": 16}, \"title\": {\"align\": \"center\", \"baseline\": \"middle\", \"color\": \"rgb(117,117,117)\", \"font\": \"Arial\", \"fontSize\": 20, \"fontWeight\": \"bold\"}}, \"layer\": [{\"data\": {\"name\": \"data-38121450c6697f570e9bf3f18efe866c\"}, \"mark\": {\"type\": \"rule\", \"stroke\": \"rgb(117,117,117)\", \"strokeWidth\": 1.25, \"tooltip\": \"\"}, \"encoding\": {\"x\": {\"type\": \"quantitative\", \"field\": \"x\", \"scale\": {\"domain\": [-2, 2], \"range\": [40.0, 760.0]}}, \"x2\": {\"field\": \"x2\"}, \"y\": {\"type\": \"nominal\", \"axis\": {\"domain\": false, \"labelAngle\": 0, \"labelPadding\": -30, \"orient\": \"left\", \"ticks\": false, \"title\": \"\"}, \"field\": \"metric\", \"scale\": {\"domain\": [\"FPR\"], \"range\": [30, 225.0]}}}}, {\"data\": {\"name\": \"data-79dd248bdaa0ea02c535240e8ad022c8\"}, \"mark\": {\"type\": \"rule\", \"stroke\": \"rgb(117,117,117)\", \"strokeDash\": [5, 5], \"strokeWidth\": 1}, \"encoding\": {\"tooltip\": {\"value\": \"Adults [REF]\"}, \"x\": {\"value\": 400.0}, \"y\": {\"value\": 20.833333333333336}, \"y2\": {\"value\": 229.16666666666666}}}, {\"data\": {\"name\": \"data-c233327f4cd9b4c2df31bf8015c83e4a\"}, \"mark\": {\"type\": \"text\", \"align\": \"center\", \"color\": \"rgb(117,117,117)\", \"font\": \"Arial\", \"fontSize\": 12, \"fontWeight\": \"normal\", \"tooltip\": \"\"}, \"encoding\": {\"text\": {\"type\": \"nominal\", \"field\": \"label\"}, \"x\": {\"type\": \"quantitative\", \"field\": \"value\", \"scale\": {\"domain\": [-2, 2], \"range\": [40.0, 760.0]}}, \"y\": {\"value\": 17.5}}}, {\"layer\": [{\"mark\": {\"type\": \"text\", \"align\": \"left\", \"fill\": \"rgb(117,117,117)\", \"font\": \"Arial\", \"fontSize\": 12, \"fontWeight\": \"normal\", \"tooltip\": \"\"}, \"encoding\": {\"text\": {\"value\": \"Times Smaller\"}, \"x\": {\"value\": 40.0}, \"y\": {\"value\": 7.5}}}, {\"mark\": {\"type\": \"text\", \"align\": \"right\", \"fill\": \"rgb(117,117,117)\", \"font\": \"Arial\", \"fontSize\": 12, \"fontWeight\": \"normal\", \"tooltip\": \"\"}, \"encoding\": {\"text\": {\"value\": \"Times Larger\"}, \"x\": {\"value\": 760.0}, \"y\": {\"value\": 7.5}}}, {\"mark\": {\"type\": \"text\", \"align\": \"center\", \"fill\": \"rgb(117,117,117)\", \"font\": \"Arial\", \"fontSize\": 12, \"fontWeight\": \"normal\", \"tooltip\": \"\"}, \"encoding\": {\"text\": {\"value\": \"Equal\"}, \"x\": {\"value\": 400.0}, \"y\": {\"value\": 7.5}}}], \"data\": {\"name\": \"data-79dd248bdaa0ea02c535240e8ad022c8\"}}, {\"layer\": [{\"mark\": {\"type\": \"rule\", \"opacity\": 0.8, \"stroke\": \"rgb(217, 46, 28)\", \"strokeWidth\": 1.25, \"tooltip\": \"\"}, \"encoding\": {\"x\": {\"type\": \"quantitative\", \"field\": \"min\", \"scale\": {\"domain\": [-2, 2], \"range\": [40.0, 760.0]}}, \"y\": {\"value\": 25.0}, \"y2\": {\"value\": 225.0}}}, {\"mark\": {\"type\": \"rule\", \"opacity\": 0.8, \"stroke\": \"rgb(217, 46, 28)\", \"strokeWidth\": 1.25, \"tooltip\": \"\"}, \"encoding\": {\"x\": {\"type\": \"quantitative\", \"field\": \"max\", \"scale\": {\"domain\": [-2, 2], \"range\": [40.0, 760.0]}}, \"y\": {\"value\": 25.0}, \"y2\": {\"value\": 225.0}}}, {\"layer\": [{\"mark\": {\"type\": \"rect\", \"fill\": \"rgb(217, 46, 28)\", \"opacity\": 0.1, \"tooltip\": \"\"}, \"encoding\": {\"x\": {\"type\": \"quantitative\", \"field\": \"min\", \"scale\": {\"domain\": [-2, 2], \"range\": [40.0, 760.0]}}, \"x2\": {\"field\": \"lower_end\"}, \"y\": {\"value\": 25.0}, \"y2\": {\"value\": 225.0}}}, {\"mark\": {\"type\": \"rect\", \"fill\": \"rgb(217, 46, 28)\", \"opacity\": 0.1, \"tooltip\": \"\"}, \"encoding\": {\"x\": {\"type\": \"quantitative\", \"field\": \"max\", \"scale\": {\"domain\": [-2, 2], \"range\": [40.0, 760.0]}}, \"x2\": {\"field\": \"upper_end\"}, \"y\": {\"value\": 25.0}, \"y2\": {\"value\": 225.0}}}]}, {\"data\": {\"name\": \"data-79dd248bdaa0ea02c535240e8ad022c8\"}, \"mark\": {\"type\": \"text\", \"align\": \"left\", \"baseline\": \"top\", \"fill\": \"rgb(217, 46, 28)\", \"font\": \"Arial\", \"fontSize\": 12, \"fontWeight\": \"normal\", \"tooltip\": \"\"}, \"encoding\": {\"text\": {\"value\": \"The metric value for any group should not be 1.2 (or more) times smaller or larger than that of the reference group Adults.\"}, \"x\": {\"value\": 0}, \"y\": {\"value\": 233.33333333333334}}}], \"data\": {\"name\": \"data-25f3550964acc203f87c85ed125cfad2\"}}, {\"layer\": [{\"mark\": \"circle\"}, {\"data\": {\"name\": \"data-e431c55e6c3e08b6cfd69a413db35a12\"}, \"mark\": {\"type\": \"circle\", \"opacity\": 0.2}, \"encoding\": {\"color\": {\"condition\": {\"type\": \"nominal\", \"field\": \"attribute_value\", \"legend\": null, \"scale\": {\"domain\": [\"Adults\", \"Children\"], \"range\": [\"rgb(117,117,117)\", \"rgb(100, 143, 255)\", \"rgb(254, 97, 0)\", \"rgb(220, 38, 127)\", \"rgb(255, 176, 0)\", \"rgb(120, 94, 240)\"]}, \"selection\": \"selector009\"}, \"value\": \"rgb(224,224,224)\"}, \"size\": {\"type\": \"quantitative\", \"field\": \"group_size\", \"legend\": null, \"scale\": {\"domain\": [0, 224.4], \"range\": [0, 7853.981633974483]}}, \"tooltip\": [{\"type\": \"nominal\", \"field\": \"attribute_value\", \"title\": \"Group\"}, {\"type\": \"nominal\", \"field\": \"tooltip_group_size\", \"title\": \"Group Size\"}, {\"type\": \"nominal\", \"field\": \"tooltip_disparity_explanation_fpr\", \"title\": \"Disparity\"}, {\"type\": \"quantitative\", \"field\": \"fpr\", \"format\": \".2f\", \"title\": \"FPR\"}], \"x\": {\"type\": \"quantitative\", \"axis\": {\"domain\": false, \"labels\": false, \"ticks\": false, \"title\": null, \"values\": [1, 2, -2, -1]}, \"field\": \"fpr_disparity_scaled\", \"scale\": {\"domain\": [-2, 2], \"range\": [40.0, 760.0]}}, \"y\": {\"type\": \"nominal\", \"axis\": {\"domain\": false, \"grid\": false, \"labels\": false, \"ticks\": false, \"title\": \" \"}, \"field\": \"metric_variable\", \"scale\": {\"domain\": [\"FPR\"], \"range\": [30, 225.0]}}}, \"selection\": {\"selector011\": {\"type\": \"multi\", \"empty\": \"all\", \"fields\": [\"attribute_value\"]}}, \"transform\": [{\"calculate\": \"'FPR'\", \"as\": \"metric_variable\"}]}, {\"layer\": [{\"mark\": \"point\"}, {\"data\": {\"name\": \"data-e431c55e6c3e08b6cfd69a413db35a12\"}, \"mark\": {\"type\": \"point\", \"filled\": true, \"size\": 60}, \"encoding\": {\"color\": {\"condition\": {\"type\": \"nominal\", \"field\": \"attribute_value\", \"legend\": null, \"scale\": {\"domain\": [\"Adults\", \"Children\"], \"range\": [\"rgb(117,117,117)\", \"rgb(100, 143, 255)\", \"rgb(254, 97, 0)\", \"rgb(220, 38, 127)\", \"rgb(255, 176, 0)\", \"rgb(120, 94, 240)\"]}, \"selection\": \"selector009\"}, \"value\": \"rgb(224,224,224)\"}, \"shape\": {\"type\": \"nominal\", \"field\": \"attribute_value\", \"legend\": null, \"scale\": {\"domain\": [\"Adults\", \"Children\"], \"range\": [\"cross\", \"circle\"]}}, \"tooltip\": [{\"type\": \"nominal\", \"field\": \"attribute_value\", \"title\": \"Group\"}, {\"type\": \"nominal\", \"field\": \"tooltip_group_size\", \"title\": \"Group Size\"}, {\"type\": \"nominal\", \"field\": \"tooltip_disparity_explanation_fpr\", \"title\": \"Disparity\"}, {\"type\": \"quantitative\", \"field\": \"fpr\", \"format\": \".2f\", \"title\": \"FPR\"}], \"x\": {\"type\": \"quantitative\", \"axis\": {\"domain\": false, \"labels\": false, \"ticks\": false, \"title\": null, \"values\": [1, 2, -2, -1]}, \"field\": \"fpr_disparity_scaled\", \"scale\": {\"domain\": [-2, 2], \"range\": [40.0, 760.0]}}, \"y\": {\"type\": \"nominal\", \"axis\": {\"domain\": false, \"grid\": false, \"labels\": false, \"ticks\": false, \"title\": \" \"}, \"field\": \"metric_variable\", \"scale\": {\"domain\": [\"FPR\"], \"range\": [30, 225.0]}}}, \"selection\": {\"selector010\": {\"type\": \"multi\", \"empty\": \"all\", \"fields\": [\"attribute_value\"]}}, \"transform\": [{\"calculate\": \"'FPR'\", \"as\": \"metric_variable\"}]}]}]}, {\"layer\": [{\"mark\": {\"type\": \"point\", \"filled\": true, \"opacity\": 1, \"size\": 39.47841760435743}, \"encoding\": {\"color\": {\"condition\": {\"type\": \"nominal\", \"field\": \"attribute_value\", \"legend\": null, \"scale\": {\"domain\": [\"Adults\", \"Children\"], \"range\": [\"rgb(117,117,117)\", \"rgb(100, 143, 255)\", \"rgb(254, 97, 0)\", \"rgb(220, 38, 127)\", \"rgb(255, 176, 0)\", \"rgb(120, 94, 240)\"]}, \"selection\": \"selector009\"}, \"value\": \"rgb(224,224,224)\"}, \"shape\": {\"type\": \"nominal\", \"field\": \"attribute_value\", \"legend\": null, \"scale\": {\"domain\": [\"Adults\", \"Children\"], \"range\": [\"cross\", \"circle\"]}}, \"x\": {\"value\": 804}, \"y\": {\"type\": \"nominal\", \"axis\": {\"domain\": false, \"grid\": false, \"labels\": false, \"ticks\": false, \"title\": \" \"}, \"field\": \"attribute_value\", \"scale\": {\"domain\": [\"Adults\", \"Children\"], \"range\": [71, 125]}}}, \"selection\": {\"selector009\": {\"type\": \"multi\", \"empty\": \"all\", \"fields\": [\"attribute_value\"]}}}, {\"mark\": {\"type\": \"text\", \"align\": \"left\", \"baseline\": \"middle\", \"font\": \"Arial\", \"fontSize\": 12, \"fontWeight\": \"normal\"}, \"encoding\": {\"color\": {\"condition\": {\"type\": \"nominal\", \"field\": \"attribute_value\", \"legend\": null, \"scale\": {\"domain\": [\"Adults\", \"Children\"], \"range\": [\"rgb(117,117,117)\", \"rgb(100, 143, 255)\", \"rgb(254, 97, 0)\", \"rgb(220, 38, 127)\", \"rgb(255, 176, 0)\", \"rgb(120, 94, 240)\"]}, \"selection\": \"selector009\"}, \"value\": \"rgb(224,224,224)\"}, \"text\": {\"type\": \"nominal\", \"field\": \"label\"}, \"x\": {\"value\": 812}, \"y\": {\"type\": \"nominal\", \"axis\": {\"domain\": false, \"grid\": false, \"labels\": false, \"ticks\": false, \"title\": \" \"}, \"field\": \"attribute_value\", \"scale\": {\"domain\": [\"Adults\", \"Children\"], \"range\": [71, 125]}}}, \"selection\": {\"selector012\": {\"type\": \"multi\", \"empty\": \"all\", \"fields\": [\"attribute_value\"]}}}, {\"data\": {\"name\": \"data-79dd248bdaa0ea02c535240e8ad022c8\"}, \"mark\": {\"type\": \"text\", \"align\": \"left\", \"baseline\": \"middle\", \"color\": \"rgb(117,117,117)\", \"font\": \"Arial\", \"fontSize\": 12, \"fontWeight\": \"normal\"}, \"encoding\": {\"text\": {\"value\": \"Click to highlight a group.\"}, \"x\": {\"value\": 800}, \"y\": {\"value\": 49}}}, {\"data\": {\"name\": \"data-79dd248bdaa0ea02c535240e8ad022c8\"}, \"mark\": {\"type\": \"text\", \"align\": \"left\", \"baseline\": \"middle\", \"color\": \"rgb(117,117,117)\", \"font\": \"Arial\", \"fontSize\": 14, \"fontWeight\": \"normal\"}, \"encoding\": {\"text\": {\"value\": \"Groups\"}, \"x\": {\"value\": 800}, \"y\": {\"value\": 30}}}], \"data\": {\"name\": \"data-5633874912c6de05621e650b4de11111\"}}], \"height\": 250, \"padding\": {\"top\": 15, \"bottom\": 10}, \"resolve\": {\"scale\": {\"size\": \"independent\", \"y\": \"independent\"}}, \"title\": \"Disparities on Age_Level\", \"width\": 800, \"$schema\": \"https://vega.github.io/schema/vega-lite/v4.8.1.json\", \"datasets\": {\"data-38121450c6697f570e9bf3f18efe866c\": [{\"metric\": \"FPR\", \"x\": -2, \"x2\": 2}], \"data-79dd248bdaa0ea02c535240e8ad022c8\": [{\"a\": 1, \"b\": 0}, {\"a\": 1, \"b\": 0}], \"data-c233327f4cd9b4c2df31bf8015c83e4a\": [{\"value\": 1, \"label\": 2}, {\"value\": 2, \"label\": 3}, {\"value\": -2, \"label\": 3}, {\"value\": -1, \"label\": 2}, {\"value\": 0, \"label\": \"=\"}], \"data-25f3550964acc203f87c85ed125cfad2\": [{\"min\": -0.19999999999999996, \"max\": 0.19999999999999996, \"lower_end\": -2, \"upper_end\": 2}], \"data-e431c55e6c3e08b6cfd69a413db35a12\": [{\"attribute_name\": \"Age_Level\", \"attribute_value\": \"Adults\", \"group_size\": 187, \"total_entities\": 223, \"fpr\": 0.0743801652892562, \"fpr_disparity\": 1.0, \"fpr_disparity_scaled\": 0.0, \"tooltip_group_size\": \"187 (83.86%)\", \"tooltip_disparity_explanation_fpr\": \"Reference group\"}, {\"attribute_name\": \"Age_Level\", \"attribute_value\": \"Children\", \"group_size\": 36, \"total_entities\": 223, \"fpr\": 0.16666666666666666, \"fpr_disparity\": 2.2407407407407405, \"fpr_disparity_scaled\": 1.2407407407407405, \"tooltip_group_size\": \"36 (16.14%)\", \"tooltip_disparity_explanation_fpr\": \"2.24 times larger FPR than the reference group\"}], \"data-5633874912c6de05621e650b4de11111\": [{\"attribute_value\": \"Adults\", \"label\": \"Adults [REF]\"}, {\"attribute_value\": \"Children\", \"label\": \"Children\"}]}}, {\"mode\": \"vega-lite\"});\n",
              "</script>"
            ],
            "text/plain": [
              "alt.LayerChart(...)"
            ]
          },
          "metadata": {},
          "execution_count": 24
        }
      ]
    },
    {
      "cell_type": "code",
      "source": [
        "ap.absolute(bdf, metrics, 'Age_Level', fairness_threshold = disparity_tolerance)"
      ],
      "metadata": {
        "colab": {
          "base_uri": "https://localhost:8080/",
          "height": 245
        },
        "id": "Orvgq6wad0-o",
        "outputId": "8365911e-ca4d-4b2f-fdb2-3e019da979ad"
      },
      "execution_count": 25,
      "outputs": [
        {
          "output_type": "execute_result",
          "data": {
            "text/html": [
              "\n",
              "<div id=\"altair-viz-cac80a4b31a44a659a1e8e82059d346c\"></div>\n",
              "<script type=\"text/javascript\">\n",
              "  (function(spec, embedOpt){\n",
              "    let outputDiv = document.currentScript.previousElementSibling;\n",
              "    if (outputDiv.id !== \"altair-viz-cac80a4b31a44a659a1e8e82059d346c\") {\n",
              "      outputDiv = document.getElementById(\"altair-viz-cac80a4b31a44a659a1e8e82059d346c\");\n",
              "    }\n",
              "    const paths = {\n",
              "      \"vega\": \"https://cdn.jsdelivr.net/npm//vega@5?noext\",\n",
              "      \"vega-lib\": \"https://cdn.jsdelivr.net/npm//vega-lib?noext\",\n",
              "      \"vega-lite\": \"https://cdn.jsdelivr.net/npm//vega-lite@4.8.1?noext\",\n",
              "      \"vega-embed\": \"https://cdn.jsdelivr.net/npm//vega-embed@6?noext\",\n",
              "    };\n",
              "\n",
              "    function loadScript(lib) {\n",
              "      return new Promise(function(resolve, reject) {\n",
              "        var s = document.createElement('script');\n",
              "        s.src = paths[lib];\n",
              "        s.async = true;\n",
              "        s.onload = () => resolve(paths[lib]);\n",
              "        s.onerror = () => reject(`Error loading script: ${paths[lib]}`);\n",
              "        document.getElementsByTagName(\"head\")[0].appendChild(s);\n",
              "      });\n",
              "    }\n",
              "\n",
              "    function showError(err) {\n",
              "      outputDiv.innerHTML = `<div class=\"error\" style=\"color:red;\">${err}</div>`;\n",
              "      throw err;\n",
              "    }\n",
              "\n",
              "    function displayChart(vegaEmbed) {\n",
              "      vegaEmbed(outputDiv, spec, embedOpt)\n",
              "        .catch(err => showError(`Javascript Error: ${err.message}<br>This usually means there's a typo in your chart specification. See the javascript console for the full traceback.`));\n",
              "    }\n",
              "\n",
              "    if(typeof define === \"function\" && define.amd) {\n",
              "      requirejs.config({paths});\n",
              "      require([\"vega-embed\"], displayChart, err => showError(`Error loading script: ${err.message}`));\n",
              "    } else if (typeof vegaEmbed === \"function\") {\n",
              "      displayChart(vegaEmbed);\n",
              "    } else {\n",
              "      loadScript(\"vega\")\n",
              "        .then(() => loadScript(\"vega-lite\"))\n",
              "        .then(() => loadScript(\"vega-embed\"))\n",
              "        .catch(showError)\n",
              "        .then(() => displayChart(vegaEmbed));\n",
              "    }\n",
              "  })({\"config\": {\"view\": {\"continuousWidth\": 400, \"continuousHeight\": 300, \"strokeWidth\": 0}, \"axisLeft\": {\"labelColor\": \"rgb(117,117,117)\", \"labelFont\": \"Arial\", \"labelFontSize\": 16}, \"title\": {\"align\": \"center\", \"baseline\": \"middle\", \"color\": \"rgb(117,117,117)\", \"font\": \"Arial\", \"fontSize\": 20, \"fontWeight\": \"bold\"}}, \"layer\": [{\"data\": {\"name\": \"data-b71d65f846bc74ae5caddb3a096fb136\"}, \"mark\": {\"type\": \"rule\", \"stroke\": \"rgb(117,117,117)\", \"strokeWidth\": 1.25, \"tooltip\": \"\"}, \"encoding\": {\"x\": {\"type\": \"quantitative\", \"field\": \"start\", \"scale\": {\"domain\": [0, 1], \"range\": [40.0, 760.0]}}, \"x2\": {\"field\": \"end\"}, \"y\": {\"type\": \"nominal\", \"axis\": {\"domain\": false, \"labelAngle\": 0, \"labelPadding\": -30, \"orient\": \"left\", \"ticks\": false, \"title\": \"\"}, \"field\": \"y_position\", \"scale\": {\"domain\": [\"FPR\"], \"range\": [17.5, 157.5]}}}}, {\"data\": {\"name\": \"data-6cfe259518f6c7b358d8f836a73e6b7f\"}, \"mark\": {\"type\": \"rule\", \"stroke\": \"rgb(117,117,117)\", \"strokeWidth\": 1.25, \"tooltip\": \"\"}, \"encoding\": {\"x\": {\"type\": \"quantitative\", \"field\": \"x_position\", \"scale\": {\"domain\": [0, 1], \"range\": [40.0, 760.0]}}, \"y\": {\"value\": 17.5}, \"y2\": {\"value\": 157.5}}}, {\"data\": {\"name\": \"data-60ed1133fa688d151d36705a369482e0\"}, \"mark\": {\"type\": \"text\", \"align\": \"center\", \"color\": \"rgb(117,117,117)\", \"font\": \"Arial\", \"fontSize\": 12, \"fontWeight\": \"normal\", \"tooltip\": \"\"}, \"encoding\": {\"text\": {\"type\": \"nominal\", \"field\": \"value\"}, \"x\": {\"type\": \"quantitative\", \"field\": \"value\", \"scale\": {\"domain\": [0, 1], \"range\": [40.0, 760.0]}}, \"y\": {\"value\": 12.25}}}, {\"layer\": [{\"mark\": {\"type\": \"rect\", \"opacity\": 0.8, \"stroke\": \"rgb(217, 46, 28)\", \"strokeWidth\": 1.25, \"tooltip\": \"\"}, \"encoding\": {\"x\": {\"type\": \"quantitative\", \"field\": \"lower_threshold_value\", \"scale\": {\"domain\": [0, 1], \"range\": [40.0, 760.0]}}, \"x2\": {\"field\": \"lower_threshold_value\"}, \"y\": {\"type\": \"nominal\", \"axis\": {\"domain\": false, \"grid\": false, \"labels\": false, \"ticks\": false, \"title\": \" \"}, \"field\": \"metric\", \"scale\": {\"domain\": [\"FPR\"], \"range\": [17.5, 157.5]}}}}, {\"mark\": {\"type\": \"rect\", \"opacity\": 0.8, \"stroke\": \"rgb(217, 46, 28)\", \"strokeWidth\": 1.25, \"tooltip\": \"\"}, \"encoding\": {\"x\": {\"type\": \"quantitative\", \"field\": \"upper_threshold_value\", \"scale\": {\"domain\": [0, 1], \"range\": [40.0, 760.0]}}, \"x2\": {\"field\": \"upper_threshold_value\"}, \"y\": {\"type\": \"nominal\", \"axis\": {\"domain\": false, \"grid\": false, \"labels\": false, \"ticks\": false, \"title\": \" \"}, \"field\": \"metric\", \"scale\": {\"domain\": [\"FPR\"], \"range\": [17.5, 157.5]}}}}, {\"layer\": [{\"mark\": {\"type\": \"rect\", \"fill\": \"rgb(217, 46, 28)\", \"opacity\": 0.1, \"tooltip\": \"\"}, \"encoding\": {\"x\": {\"type\": \"quantitative\", \"field\": \"lower_threshold_value\", \"scale\": {\"domain\": [0, 1], \"range\": [40.0, 760.0]}}, \"x2\": {\"field\": \"lower_end\"}, \"y\": {\"type\": \"nominal\", \"axis\": {\"domain\": false, \"grid\": false, \"labels\": false, \"ticks\": false, \"title\": \" \"}, \"field\": \"metric\", \"scale\": {\"domain\": [\"FPR\"], \"range\": [17.5, 157.5]}}}}, {\"mark\": {\"type\": \"rect\", \"fill\": \"rgb(217, 46, 28)\", \"opacity\": 0.1, \"tooltip\": \"\"}, \"encoding\": {\"x\": {\"type\": \"quantitative\", \"field\": \"upper_threshold_value\", \"scale\": {\"domain\": [0, 1], \"range\": [40.0, 760.0]}}, \"x2\": {\"field\": \"upper_end\"}, \"y\": {\"type\": \"nominal\", \"axis\": {\"domain\": false, \"grid\": false, \"labels\": false, \"ticks\": false, \"title\": \" \"}, \"field\": \"metric\", \"scale\": {\"domain\": [\"FPR\"], \"range\": [17.5, 157.5]}}}}]}, {\"data\": {\"name\": \"data-79dd248bdaa0ea02c535240e8ad022c8\"}, \"mark\": {\"type\": \"text\", \"align\": \"left\", \"baseline\": \"top\", \"fill\": \"rgb(217, 46, 28)\", \"font\": \"Arial\", \"fontSize\": 12, \"fontWeight\": \"normal\", \"tooltip\": \"\"}, \"encoding\": {\"text\": {\"value\": \"The metric value for any group should not be 1.2 (or more) times smaller or larger than that of the reference group Adults.\"}, \"x\": {\"value\": 0}, \"y\": {\"value\": 163.33333333333334}}}], \"data\": {\"name\": \"data-cdad144aba23a89d11095f191bc37fe2\"}}, {\"layer\": [{\"mark\": \"circle\"}, {\"data\": {\"name\": \"data-e431c55e6c3e08b6cfd69a413db35a12\"}, \"mark\": {\"type\": \"circle\", \"opacity\": 0.2}, \"encoding\": {\"color\": {\"condition\": {\"type\": \"nominal\", \"field\": \"attribute_value\", \"legend\": null, \"scale\": {\"domain\": [\"Adults\", \"Children\"], \"range\": [\"rgb(117,117,117)\", \"rgb(100, 143, 255)\", \"rgb(254, 97, 0)\", \"rgb(220, 38, 127)\", \"rgb(255, 176, 0)\", \"rgb(120, 94, 240)\"]}, \"selection\": \"selector013\"}, \"value\": \"rgb(224,224,224)\"}, \"size\": {\"type\": \"quantitative\", \"field\": \"group_size\", \"legend\": null, \"scale\": {\"domain\": [0, 224.4], \"range\": [0, 3848.4510006474966]}}, \"tooltip\": [{\"type\": \"nominal\", \"field\": \"attribute_value\", \"title\": \"Group\"}, {\"type\": \"nominal\", \"field\": \"tooltip_group_size\", \"title\": \"Group Size\"}, {\"type\": \"nominal\", \"field\": \"tooltip_disparity_explanation_fpr\", \"title\": \"Disparity\"}, {\"type\": \"quantitative\", \"field\": \"fpr\", \"format\": \".2f\", \"title\": \"FPR\"}], \"x\": {\"type\": \"quantitative\", \"axis\": {\"domain\": false, \"labels\": false, \"ticks\": false, \"title\": null, \"values\": [0.25, 0.5, 0.75]}, \"field\": \"fpr\", \"scale\": {\"domain\": [0, 1], \"range\": [40.0, 760.0]}}, \"y\": {\"type\": \"nominal\", \"axis\": {\"domain\": false, \"grid\": false, \"labels\": false, \"ticks\": false, \"title\": \" \"}, \"field\": \"metric_variable\", \"scale\": {\"domain\": [\"FPR\"], \"range\": [17.5, 157.5]}}}, \"selection\": {\"selector015\": {\"type\": \"multi\", \"empty\": \"all\", \"fields\": [\"attribute_value\"]}}, \"transform\": [{\"calculate\": \"'FPR'\", \"as\": \"metric_variable\"}]}, {\"layer\": [{\"mark\": \"point\"}, {\"data\": {\"name\": \"data-e431c55e6c3e08b6cfd69a413db35a12\"}, \"mark\": {\"type\": \"point\", \"filled\": true, \"size\": 60}, \"encoding\": {\"color\": {\"condition\": {\"type\": \"nominal\", \"field\": \"attribute_value\", \"legend\": null, \"scale\": {\"domain\": [\"Adults\", \"Children\"], \"range\": [\"rgb(117,117,117)\", \"rgb(100, 143, 255)\", \"rgb(254, 97, 0)\", \"rgb(220, 38, 127)\", \"rgb(255, 176, 0)\", \"rgb(120, 94, 240)\"]}, \"selection\": \"selector013\"}, \"value\": \"rgb(224,224,224)\"}, \"shape\": {\"type\": \"nominal\", \"field\": \"attribute_value\", \"legend\": null, \"scale\": {\"domain\": [\"Adults\", \"Children\"], \"range\": [\"cross\", \"circle\"]}}, \"tooltip\": [{\"type\": \"nominal\", \"field\": \"attribute_value\", \"title\": \"Group\"}, {\"type\": \"nominal\", \"field\": \"tooltip_group_size\", \"title\": \"Group Size\"}, {\"type\": \"nominal\", \"field\": \"tooltip_disparity_explanation_fpr\", \"title\": \"Disparity\"}, {\"type\": \"quantitative\", \"field\": \"fpr\", \"format\": \".2f\", \"title\": \"FPR\"}], \"x\": {\"type\": \"quantitative\", \"axis\": {\"domain\": false, \"labels\": false, \"ticks\": false, \"title\": null, \"values\": [0.25, 0.5, 0.75]}, \"field\": \"fpr\", \"scale\": {\"domain\": [0, 1], \"range\": [40.0, 760.0]}}, \"y\": {\"type\": \"nominal\", \"axis\": {\"domain\": false, \"grid\": false, \"labels\": false, \"ticks\": false, \"title\": \" \"}, \"field\": \"metric_variable\", \"scale\": {\"domain\": [\"FPR\"], \"range\": [17.5, 157.5]}}}, \"selection\": {\"selector014\": {\"type\": \"multi\", \"empty\": \"all\", \"fields\": [\"attribute_value\"]}}, \"transform\": [{\"calculate\": \"'FPR'\", \"as\": \"metric_variable\"}]}]}]}, {\"layer\": [{\"mark\": {\"type\": \"point\", \"filled\": true, \"opacity\": 1, \"size\": 39.47841760435743}, \"encoding\": {\"color\": {\"condition\": {\"type\": \"nominal\", \"field\": \"attribute_value\", \"legend\": null, \"scale\": {\"domain\": [\"Adults\", \"Children\"], \"range\": [\"rgb(117,117,117)\", \"rgb(100, 143, 255)\", \"rgb(254, 97, 0)\", \"rgb(220, 38, 127)\", \"rgb(255, 176, 0)\", \"rgb(120, 94, 240)\"]}, \"selection\": \"selector013\"}, \"value\": \"rgb(224,224,224)\"}, \"shape\": {\"type\": \"nominal\", \"field\": \"attribute_value\", \"legend\": null, \"scale\": {\"domain\": [\"Adults\", \"Children\"], \"range\": [\"cross\", \"circle\"]}}, \"x\": {\"value\": 804}, \"y\": {\"type\": \"nominal\", \"axis\": {\"domain\": false, \"grid\": false, \"labels\": false, \"ticks\": false, \"title\": \" \"}, \"field\": \"attribute_value\", \"scale\": {\"domain\": [\"Adults\", \"Children\"], \"range\": [71, 125]}}}, \"selection\": {\"selector013\": {\"type\": \"multi\", \"empty\": \"all\", \"fields\": [\"attribute_value\"]}}}, {\"mark\": {\"type\": \"text\", \"align\": \"left\", \"baseline\": \"middle\", \"font\": \"Arial\", \"fontSize\": 12, \"fontWeight\": \"normal\"}, \"encoding\": {\"color\": {\"condition\": {\"type\": \"nominal\", \"field\": \"attribute_value\", \"legend\": null, \"scale\": {\"domain\": [\"Adults\", \"Children\"], \"range\": [\"rgb(117,117,117)\", \"rgb(100, 143, 255)\", \"rgb(254, 97, 0)\", \"rgb(220, 38, 127)\", \"rgb(255, 176, 0)\", \"rgb(120, 94, 240)\"]}, \"selection\": \"selector013\"}, \"value\": \"rgb(224,224,224)\"}, \"text\": {\"type\": \"nominal\", \"field\": \"label\"}, \"x\": {\"value\": 812}, \"y\": {\"type\": \"nominal\", \"axis\": {\"domain\": false, \"grid\": false, \"labels\": false, \"ticks\": false, \"title\": \" \"}, \"field\": \"attribute_value\", \"scale\": {\"domain\": [\"Adults\", \"Children\"], \"range\": [71, 125]}}}, \"selection\": {\"selector016\": {\"type\": \"multi\", \"empty\": \"all\", \"fields\": [\"attribute_value\"]}}}, {\"data\": {\"name\": \"data-79dd248bdaa0ea02c535240e8ad022c8\"}, \"mark\": {\"type\": \"text\", \"align\": \"left\", \"baseline\": \"middle\", \"color\": \"rgb(117,117,117)\", \"font\": \"Arial\", \"fontSize\": 12, \"fontWeight\": \"normal\"}, \"encoding\": {\"text\": {\"value\": \"Click to highlight a group.\"}, \"x\": {\"value\": 800}, \"y\": {\"value\": 49}}}, {\"data\": {\"name\": \"data-79dd248bdaa0ea02c535240e8ad022c8\"}, \"mark\": {\"type\": \"text\", \"align\": \"left\", \"baseline\": \"middle\", \"color\": \"rgb(117,117,117)\", \"font\": \"Arial\", \"fontSize\": 14, \"fontWeight\": \"normal\"}, \"encoding\": {\"text\": {\"value\": \"Groups\"}, \"x\": {\"value\": 800}, \"y\": {\"value\": 30}}}], \"data\": {\"name\": \"data-5633874912c6de05621e650b4de11111\"}}], \"height\": 175, \"padding\": {\"top\": 15, \"bottom\": 10}, \"resolve\": {\"scale\": {\"size\": \"independent\", \"y\": \"independent\"}}, \"title\": \"Absolute values by Age_Level\", \"width\": 800, \"$schema\": \"https://vega.github.io/schema/vega-lite/v4.8.1.json\", \"datasets\": {\"data-b71d65f846bc74ae5caddb3a096fb136\": [{\"y_position\": \"FPR\", \"start\": 0, \"end\": 1}], \"data-6cfe259518f6c7b358d8f836a73e6b7f\": [{\"x_position\": 0}, {\"x_position\": 1}], \"data-60ed1133fa688d151d36705a369482e0\": [{\"value\": 0.0}, {\"value\": 0.25}, {\"value\": 0.5}, {\"value\": 0.75}, {\"value\": 1.0}], \"data-cdad144aba23a89d11095f191bc37fe2\": [{\"lower_end\": 0, \"upper_end\": 1, \"lower_threshold_value\": 0.06198347107438017, \"upper_threshold_value\": 0.08925619834710743, \"metric\": \"FPR\"}], \"data-79dd248bdaa0ea02c535240e8ad022c8\": [{\"a\": 1, \"b\": 0}, {\"a\": 1, \"b\": 0}], \"data-e431c55e6c3e08b6cfd69a413db35a12\": [{\"attribute_name\": \"Age_Level\", \"attribute_value\": \"Adults\", \"group_size\": 187, \"total_entities\": 223, \"fpr\": 0.0743801652892562, \"fpr_disparity\": 1.0, \"fpr_disparity_scaled\": 0.0, \"tooltip_group_size\": \"187 (83.86%)\", \"tooltip_disparity_explanation_fpr\": \"Reference group\"}, {\"attribute_name\": \"Age_Level\", \"attribute_value\": \"Children\", \"group_size\": 36, \"total_entities\": 223, \"fpr\": 0.16666666666666666, \"fpr_disparity\": 2.2407407407407405, \"fpr_disparity_scaled\": 1.2407407407407405, \"tooltip_group_size\": \"36 (16.14%)\", \"tooltip_disparity_explanation_fpr\": \"2.24 times larger FPR than the reference group\"}], \"data-5633874912c6de05621e650b4de11111\": [{\"attribute_value\": \"Adults\", \"label\": \"Adults [REF]\"}, {\"attribute_value\": \"Children\", \"label\": \"Children\"}]}}, {\"mode\": \"vega-lite\"});\n",
              "</script>"
            ],
            "text/plain": [
              "alt.LayerChart(...)"
            ]
          },
          "metadata": {},
          "execution_count": 25
        }
      ]
    },
    {
      "cell_type": "markdown",
      "source": [
        "#Gradient Boosting Classifier"
      ],
      "metadata": {
        "id": "kh4tRK6f9S6a"
      }
    },
    {
      "cell_type": "code",
      "source": [
        "GradientBoostingClassifier\n",
        "gb = GradientBoostingClassifier()\n",
        "gb.fit(X_train, y_train)"
      ],
      "metadata": {
        "id": "BzmpZiJL9SLI",
        "outputId": "3e1649e0-8fd1-4677-8b3d-ba0df15c3da5",
        "colab": {
          "base_uri": "https://localhost:8080/"
        }
      },
      "execution_count": 26,
      "outputs": [
        {
          "output_type": "execute_result",
          "data": {
            "text/plain": [
              "GradientBoostingClassifier()"
            ]
          },
          "metadata": {},
          "execution_count": 26
        }
      ]
    },
    {
      "cell_type": "code",
      "source": [
        "# Test Data\n",
        "sklearn_metrics.confusion_matrix(y_test, gb.predict(X_test))"
      ],
      "metadata": {
        "id": "zU5tybzB99bJ",
        "outputId": "1cb18023-b6fb-416d-ac03-6aa08b0a8994",
        "colab": {
          "base_uri": "https://localhost:8080/"
        }
      },
      "execution_count": 27,
      "outputs": [
        {
          "output_type": "execute_result",
          "data": {
            "text/plain": [
              "array([[127,  12],\n",
              "       [ 23,  61]])"
            ]
          },
          "metadata": {},
          "execution_count": 27
        }
      ]
    },
    {
      "cell_type": "code",
      "source": [
        "# Accuracy\n",
        "gb.score(X_test, y_test)"
      ],
      "metadata": {
        "id": "qaIwzM8TFcPc",
        "outputId": "3c2b7313-4829-4dcf-d0a6-db8b969d61cf",
        "colab": {
          "base_uri": "https://localhost:8080/"
        }
      },
      "execution_count": 28,
      "outputs": [
        {
          "output_type": "execute_result",
          "data": {
            "text/plain": [
              "0.8430493273542601"
            ]
          },
          "metadata": {},
          "execution_count": 28
        }
      ]
    },
    {
      "cell_type": "code",
      "source": [
        "df_fair['score'] = gb.predict(X_test)\n",
        "\n",
        "# get_crosstabs returns a dataframe of the group counts and group value bias metrics.\n",
        "xtab, _ = g.get_crosstabs(df_fair, attr_cols=attributes_to_audit)\n",
        "bdf = b.get_disparity_predefined_groups(xtab, original_df=df_fair, ref_groups_dict=attributes_and_reference_groups)\n",
        "\n",
        "ap.disparity(bdf, metrics, 'Age_Level', fairness_threshold = disparity_tolerance)"
      ],
      "metadata": {
        "colab": {
          "base_uri": "https://localhost:8080/",
          "height": 337
        },
        "id": "_qWdw6v8ZlZp",
        "outputId": "47feecca-5e79-4642-a9ee-c62a5a691a6e"
      },
      "execution_count": 29,
      "outputs": [
        {
          "output_type": "stream",
          "name": "stdout",
          "text": [
            "get_disparity_predefined_group()\n"
          ]
        },
        {
          "output_type": "execute_result",
          "data": {
            "text/html": [
              "\n",
              "<div id=\"altair-viz-4881888a5a1f4ef3ba2ec0e9831d40f1\"></div>\n",
              "<script type=\"text/javascript\">\n",
              "  (function(spec, embedOpt){\n",
              "    let outputDiv = document.currentScript.previousElementSibling;\n",
              "    if (outputDiv.id !== \"altair-viz-4881888a5a1f4ef3ba2ec0e9831d40f1\") {\n",
              "      outputDiv = document.getElementById(\"altair-viz-4881888a5a1f4ef3ba2ec0e9831d40f1\");\n",
              "    }\n",
              "    const paths = {\n",
              "      \"vega\": \"https://cdn.jsdelivr.net/npm//vega@5?noext\",\n",
              "      \"vega-lib\": \"https://cdn.jsdelivr.net/npm//vega-lib?noext\",\n",
              "      \"vega-lite\": \"https://cdn.jsdelivr.net/npm//vega-lite@4.8.1?noext\",\n",
              "      \"vega-embed\": \"https://cdn.jsdelivr.net/npm//vega-embed@6?noext\",\n",
              "    };\n",
              "\n",
              "    function loadScript(lib) {\n",
              "      return new Promise(function(resolve, reject) {\n",
              "        var s = document.createElement('script');\n",
              "        s.src = paths[lib];\n",
              "        s.async = true;\n",
              "        s.onload = () => resolve(paths[lib]);\n",
              "        s.onerror = () => reject(`Error loading script: ${paths[lib]}`);\n",
              "        document.getElementsByTagName(\"head\")[0].appendChild(s);\n",
              "      });\n",
              "    }\n",
              "\n",
              "    function showError(err) {\n",
              "      outputDiv.innerHTML = `<div class=\"error\" style=\"color:red;\">${err}</div>`;\n",
              "      throw err;\n",
              "    }\n",
              "\n",
              "    function displayChart(vegaEmbed) {\n",
              "      vegaEmbed(outputDiv, spec, embedOpt)\n",
              "        .catch(err => showError(`Javascript Error: ${err.message}<br>This usually means there's a typo in your chart specification. See the javascript console for the full traceback.`));\n",
              "    }\n",
              "\n",
              "    if(typeof define === \"function\" && define.amd) {\n",
              "      requirejs.config({paths});\n",
              "      require([\"vega-embed\"], displayChart, err => showError(`Error loading script: ${err.message}`));\n",
              "    } else if (typeof vegaEmbed === \"function\") {\n",
              "      displayChart(vegaEmbed);\n",
              "    } else {\n",
              "      loadScript(\"vega\")\n",
              "        .then(() => loadScript(\"vega-lite\"))\n",
              "        .then(() => loadScript(\"vega-embed\"))\n",
              "        .catch(showError)\n",
              "        .then(() => displayChart(vegaEmbed));\n",
              "    }\n",
              "  })({\"config\": {\"view\": {\"continuousWidth\": 400, \"continuousHeight\": 300, \"strokeWidth\": 0}, \"axisLeft\": {\"labelColor\": \"rgb(117,117,117)\", \"labelFont\": \"Arial\", \"labelFontSize\": 16}, \"title\": {\"align\": \"center\", \"baseline\": \"middle\", \"color\": \"rgb(117,117,117)\", \"font\": \"Arial\", \"fontSize\": 20, \"fontWeight\": \"bold\"}}, \"layer\": [{\"data\": {\"name\": \"data-38121450c6697f570e9bf3f18efe866c\"}, \"mark\": {\"type\": \"rule\", \"stroke\": \"rgb(117,117,117)\", \"strokeWidth\": 1.25, \"tooltip\": \"\"}, \"encoding\": {\"x\": {\"type\": \"quantitative\", \"field\": \"x\", \"scale\": {\"domain\": [-2, 2], \"range\": [40.0, 760.0]}}, \"x2\": {\"field\": \"x2\"}, \"y\": {\"type\": \"nominal\", \"axis\": {\"domain\": false, \"labelAngle\": 0, \"labelPadding\": -30, \"orient\": \"left\", \"ticks\": false, \"title\": \"\"}, \"field\": \"metric\", \"scale\": {\"domain\": [\"FPR\"], \"range\": [30, 225.0]}}}}, {\"data\": {\"name\": \"data-79dd248bdaa0ea02c535240e8ad022c8\"}, \"mark\": {\"type\": \"rule\", \"stroke\": \"rgb(117,117,117)\", \"strokeDash\": [5, 5], \"strokeWidth\": 1}, \"encoding\": {\"tooltip\": {\"value\": \"Adults [REF]\"}, \"x\": {\"value\": 400.0}, \"y\": {\"value\": 20.833333333333336}, \"y2\": {\"value\": 229.16666666666666}}}, {\"data\": {\"name\": \"data-c233327f4cd9b4c2df31bf8015c83e4a\"}, \"mark\": {\"type\": \"text\", \"align\": \"center\", \"color\": \"rgb(117,117,117)\", \"font\": \"Arial\", \"fontSize\": 12, \"fontWeight\": \"normal\", \"tooltip\": \"\"}, \"encoding\": {\"text\": {\"type\": \"nominal\", \"field\": \"label\"}, \"x\": {\"type\": \"quantitative\", \"field\": \"value\", \"scale\": {\"domain\": [-2, 2], \"range\": [40.0, 760.0]}}, \"y\": {\"value\": 17.5}}}, {\"layer\": [{\"mark\": {\"type\": \"text\", \"align\": \"left\", \"fill\": \"rgb(117,117,117)\", \"font\": \"Arial\", \"fontSize\": 12, \"fontWeight\": \"normal\", \"tooltip\": \"\"}, \"encoding\": {\"text\": {\"value\": \"Times Smaller\"}, \"x\": {\"value\": 40.0}, \"y\": {\"value\": 7.5}}}, {\"mark\": {\"type\": \"text\", \"align\": \"right\", \"fill\": \"rgb(117,117,117)\", \"font\": \"Arial\", \"fontSize\": 12, \"fontWeight\": \"normal\", \"tooltip\": \"\"}, \"encoding\": {\"text\": {\"value\": \"Times Larger\"}, \"x\": {\"value\": 760.0}, \"y\": {\"value\": 7.5}}}, {\"mark\": {\"type\": \"text\", \"align\": \"center\", \"fill\": \"rgb(117,117,117)\", \"font\": \"Arial\", \"fontSize\": 12, \"fontWeight\": \"normal\", \"tooltip\": \"\"}, \"encoding\": {\"text\": {\"value\": \"Equal\"}, \"x\": {\"value\": 400.0}, \"y\": {\"value\": 7.5}}}], \"data\": {\"name\": \"data-79dd248bdaa0ea02c535240e8ad022c8\"}}, {\"layer\": [{\"mark\": {\"type\": \"rule\", \"opacity\": 0.8, \"stroke\": \"rgb(217, 46, 28)\", \"strokeWidth\": 1.25, \"tooltip\": \"\"}, \"encoding\": {\"x\": {\"type\": \"quantitative\", \"field\": \"min\", \"scale\": {\"domain\": [-2, 2], \"range\": [40.0, 760.0]}}, \"y\": {\"value\": 25.0}, \"y2\": {\"value\": 225.0}}}, {\"mark\": {\"type\": \"rule\", \"opacity\": 0.8, \"stroke\": \"rgb(217, 46, 28)\", \"strokeWidth\": 1.25, \"tooltip\": \"\"}, \"encoding\": {\"x\": {\"type\": \"quantitative\", \"field\": \"max\", \"scale\": {\"domain\": [-2, 2], \"range\": [40.0, 760.0]}}, \"y\": {\"value\": 25.0}, \"y2\": {\"value\": 225.0}}}, {\"layer\": [{\"mark\": {\"type\": \"rect\", \"fill\": \"rgb(217, 46, 28)\", \"opacity\": 0.1, \"tooltip\": \"\"}, \"encoding\": {\"x\": {\"type\": \"quantitative\", \"field\": \"min\", \"scale\": {\"domain\": [-2, 2], \"range\": [40.0, 760.0]}}, \"x2\": {\"field\": \"lower_end\"}, \"y\": {\"value\": 25.0}, \"y2\": {\"value\": 225.0}}}, {\"mark\": {\"type\": \"rect\", \"fill\": \"rgb(217, 46, 28)\", \"opacity\": 0.1, \"tooltip\": \"\"}, \"encoding\": {\"x\": {\"type\": \"quantitative\", \"field\": \"max\", \"scale\": {\"domain\": [-2, 2], \"range\": [40.0, 760.0]}}, \"x2\": {\"field\": \"upper_end\"}, \"y\": {\"value\": 25.0}, \"y2\": {\"value\": 225.0}}}]}, {\"data\": {\"name\": \"data-79dd248bdaa0ea02c535240e8ad022c8\"}, \"mark\": {\"type\": \"text\", \"align\": \"left\", \"baseline\": \"top\", \"fill\": \"rgb(217, 46, 28)\", \"font\": \"Arial\", \"fontSize\": 12, \"fontWeight\": \"normal\", \"tooltip\": \"\"}, \"encoding\": {\"text\": {\"value\": \"The metric value for any group should not be 1.2 (or more) times smaller or larger than that of the reference group Adults.\"}, \"x\": {\"value\": 0}, \"y\": {\"value\": 233.33333333333334}}}], \"data\": {\"name\": \"data-25f3550964acc203f87c85ed125cfad2\"}}, {\"layer\": [{\"mark\": \"circle\"}, {\"data\": {\"name\": \"data-e431c55e6c3e08b6cfd69a413db35a12\"}, \"mark\": {\"type\": \"circle\", \"opacity\": 0.2}, \"encoding\": {\"color\": {\"condition\": {\"type\": \"nominal\", \"field\": \"attribute_value\", \"legend\": null, \"scale\": {\"domain\": [\"Adults\", \"Children\"], \"range\": [\"rgb(117,117,117)\", \"rgb(100, 143, 255)\", \"rgb(254, 97, 0)\", \"rgb(220, 38, 127)\", \"rgb(255, 176, 0)\", \"rgb(120, 94, 240)\"]}, \"selection\": \"selector017\"}, \"value\": \"rgb(224,224,224)\"}, \"size\": {\"type\": \"quantitative\", \"field\": \"group_size\", \"legend\": null, \"scale\": {\"domain\": [0, 224.4], \"range\": [0, 7853.981633974483]}}, \"tooltip\": [{\"type\": \"nominal\", \"field\": \"attribute_value\", \"title\": \"Group\"}, {\"type\": \"nominal\", \"field\": \"tooltip_group_size\", \"title\": \"Group Size\"}, {\"type\": \"nominal\", \"field\": \"tooltip_disparity_explanation_fpr\", \"title\": \"Disparity\"}, {\"type\": \"quantitative\", \"field\": \"fpr\", \"format\": \".2f\", \"title\": \"FPR\"}], \"x\": {\"type\": \"quantitative\", \"axis\": {\"domain\": false, \"labels\": false, \"ticks\": false, \"title\": null, \"values\": [1, 2, -2, -1]}, \"field\": \"fpr_disparity_scaled\", \"scale\": {\"domain\": [-2, 2], \"range\": [40.0, 760.0]}}, \"y\": {\"type\": \"nominal\", \"axis\": {\"domain\": false, \"grid\": false, \"labels\": false, \"ticks\": false, \"title\": \" \"}, \"field\": \"metric_variable\", \"scale\": {\"domain\": [\"FPR\"], \"range\": [30, 225.0]}}}, \"selection\": {\"selector019\": {\"type\": \"multi\", \"empty\": \"all\", \"fields\": [\"attribute_value\"]}}, \"transform\": [{\"calculate\": \"'FPR'\", \"as\": \"metric_variable\"}]}, {\"layer\": [{\"mark\": \"point\"}, {\"data\": {\"name\": \"data-e431c55e6c3e08b6cfd69a413db35a12\"}, \"mark\": {\"type\": \"point\", \"filled\": true, \"size\": 60}, \"encoding\": {\"color\": {\"condition\": {\"type\": \"nominal\", \"field\": \"attribute_value\", \"legend\": null, \"scale\": {\"domain\": [\"Adults\", \"Children\"], \"range\": [\"rgb(117,117,117)\", \"rgb(100, 143, 255)\", \"rgb(254, 97, 0)\", \"rgb(220, 38, 127)\", \"rgb(255, 176, 0)\", \"rgb(120, 94, 240)\"]}, \"selection\": \"selector017\"}, \"value\": \"rgb(224,224,224)\"}, \"shape\": {\"type\": \"nominal\", \"field\": \"attribute_value\", \"legend\": null, \"scale\": {\"domain\": [\"Adults\", \"Children\"], \"range\": [\"cross\", \"circle\"]}}, \"tooltip\": [{\"type\": \"nominal\", \"field\": \"attribute_value\", \"title\": \"Group\"}, {\"type\": \"nominal\", \"field\": \"tooltip_group_size\", \"title\": \"Group Size\"}, {\"type\": \"nominal\", \"field\": \"tooltip_disparity_explanation_fpr\", \"title\": \"Disparity\"}, {\"type\": \"quantitative\", \"field\": \"fpr\", \"format\": \".2f\", \"title\": \"FPR\"}], \"x\": {\"type\": \"quantitative\", \"axis\": {\"domain\": false, \"labels\": false, \"ticks\": false, \"title\": null, \"values\": [1, 2, -2, -1]}, \"field\": \"fpr_disparity_scaled\", \"scale\": {\"domain\": [-2, 2], \"range\": [40.0, 760.0]}}, \"y\": {\"type\": \"nominal\", \"axis\": {\"domain\": false, \"grid\": false, \"labels\": false, \"ticks\": false, \"title\": \" \"}, \"field\": \"metric_variable\", \"scale\": {\"domain\": [\"FPR\"], \"range\": [30, 225.0]}}}, \"selection\": {\"selector018\": {\"type\": \"multi\", \"empty\": \"all\", \"fields\": [\"attribute_value\"]}}, \"transform\": [{\"calculate\": \"'FPR'\", \"as\": \"metric_variable\"}]}]}]}, {\"layer\": [{\"mark\": {\"type\": \"point\", \"filled\": true, \"opacity\": 1, \"size\": 39.47841760435743}, \"encoding\": {\"color\": {\"condition\": {\"type\": \"nominal\", \"field\": \"attribute_value\", \"legend\": null, \"scale\": {\"domain\": [\"Adults\", \"Children\"], \"range\": [\"rgb(117,117,117)\", \"rgb(100, 143, 255)\", \"rgb(254, 97, 0)\", \"rgb(220, 38, 127)\", \"rgb(255, 176, 0)\", \"rgb(120, 94, 240)\"]}, \"selection\": \"selector017\"}, \"value\": \"rgb(224,224,224)\"}, \"shape\": {\"type\": \"nominal\", \"field\": \"attribute_value\", \"legend\": null, \"scale\": {\"domain\": [\"Adults\", \"Children\"], \"range\": [\"cross\", \"circle\"]}}, \"x\": {\"value\": 804}, \"y\": {\"type\": \"nominal\", \"axis\": {\"domain\": false, \"grid\": false, \"labels\": false, \"ticks\": false, \"title\": \" \"}, \"field\": \"attribute_value\", \"scale\": {\"domain\": [\"Adults\", \"Children\"], \"range\": [71, 125]}}}, \"selection\": {\"selector017\": {\"type\": \"multi\", \"empty\": \"all\", \"fields\": [\"attribute_value\"]}}}, {\"mark\": {\"type\": \"text\", \"align\": \"left\", \"baseline\": \"middle\", \"font\": \"Arial\", \"fontSize\": 12, \"fontWeight\": \"normal\"}, \"encoding\": {\"color\": {\"condition\": {\"type\": \"nominal\", \"field\": \"attribute_value\", \"legend\": null, \"scale\": {\"domain\": [\"Adults\", \"Children\"], \"range\": [\"rgb(117,117,117)\", \"rgb(100, 143, 255)\", \"rgb(254, 97, 0)\", \"rgb(220, 38, 127)\", \"rgb(255, 176, 0)\", \"rgb(120, 94, 240)\"]}, \"selection\": \"selector017\"}, \"value\": \"rgb(224,224,224)\"}, \"text\": {\"type\": \"nominal\", \"field\": \"label\"}, \"x\": {\"value\": 812}, \"y\": {\"type\": \"nominal\", \"axis\": {\"domain\": false, \"grid\": false, \"labels\": false, \"ticks\": false, \"title\": \" \"}, \"field\": \"attribute_value\", \"scale\": {\"domain\": [\"Adults\", \"Children\"], \"range\": [71, 125]}}}, \"selection\": {\"selector020\": {\"type\": \"multi\", \"empty\": \"all\", \"fields\": [\"attribute_value\"]}}}, {\"data\": {\"name\": \"data-79dd248bdaa0ea02c535240e8ad022c8\"}, \"mark\": {\"type\": \"text\", \"align\": \"left\", \"baseline\": \"middle\", \"color\": \"rgb(117,117,117)\", \"font\": \"Arial\", \"fontSize\": 12, \"fontWeight\": \"normal\"}, \"encoding\": {\"text\": {\"value\": \"Click to highlight a group.\"}, \"x\": {\"value\": 800}, \"y\": {\"value\": 49}}}, {\"data\": {\"name\": \"data-79dd248bdaa0ea02c535240e8ad022c8\"}, \"mark\": {\"type\": \"text\", \"align\": \"left\", \"baseline\": \"middle\", \"color\": \"rgb(117,117,117)\", \"font\": \"Arial\", \"fontSize\": 14, \"fontWeight\": \"normal\"}, \"encoding\": {\"text\": {\"value\": \"Groups\"}, \"x\": {\"value\": 800}, \"y\": {\"value\": 30}}}], \"data\": {\"name\": \"data-5633874912c6de05621e650b4de11111\"}}], \"height\": 250, \"padding\": {\"top\": 15, \"bottom\": 10}, \"resolve\": {\"scale\": {\"size\": \"independent\", \"y\": \"independent\"}}, \"title\": \"Disparities on Age_Level\", \"width\": 800, \"$schema\": \"https://vega.github.io/schema/vega-lite/v4.8.1.json\", \"datasets\": {\"data-38121450c6697f570e9bf3f18efe866c\": [{\"metric\": \"FPR\", \"x\": -2, \"x2\": 2}], \"data-79dd248bdaa0ea02c535240e8ad022c8\": [{\"a\": 1, \"b\": 0}, {\"a\": 1, \"b\": 0}], \"data-c233327f4cd9b4c2df31bf8015c83e4a\": [{\"value\": 1, \"label\": 2}, {\"value\": 2, \"label\": 3}, {\"value\": -2, \"label\": 3}, {\"value\": -1, \"label\": 2}, {\"value\": 0, \"label\": \"=\"}], \"data-25f3550964acc203f87c85ed125cfad2\": [{\"min\": -0.19999999999999996, \"max\": 0.19999999999999996, \"lower_end\": -2, \"upper_end\": 2}], \"data-e431c55e6c3e08b6cfd69a413db35a12\": [{\"attribute_name\": \"Age_Level\", \"attribute_value\": \"Adults\", \"group_size\": 187, \"total_entities\": 223, \"fpr\": 0.0743801652892562, \"fpr_disparity\": 1.0, \"fpr_disparity_scaled\": 0.0, \"tooltip_group_size\": \"187 (83.86%)\", \"tooltip_disparity_explanation_fpr\": \"Reference group\"}, {\"attribute_name\": \"Age_Level\", \"attribute_value\": \"Children\", \"group_size\": 36, \"total_entities\": 223, \"fpr\": 0.16666666666666666, \"fpr_disparity\": 2.2407407407407405, \"fpr_disparity_scaled\": 1.2407407407407405, \"tooltip_group_size\": \"36 (16.14%)\", \"tooltip_disparity_explanation_fpr\": \"2.24 times larger FPR than the reference group\"}], \"data-5633874912c6de05621e650b4de11111\": [{\"attribute_value\": \"Adults\", \"label\": \"Adults [REF]\"}, {\"attribute_value\": \"Children\", \"label\": \"Children\"}]}}, {\"mode\": \"vega-lite\"});\n",
              "</script>"
            ],
            "text/plain": [
              "alt.LayerChart(...)"
            ]
          },
          "metadata": {},
          "execution_count": 29
        }
      ]
    },
    {
      "cell_type": "code",
      "source": [
        "ap.absolute(bdf, metrics, 'Age_Level', fairness_threshold = disparity_tolerance)"
      ],
      "metadata": {
        "colab": {
          "base_uri": "https://localhost:8080/",
          "height": 245
        },
        "id": "ZOoEhcmVdx7U",
        "outputId": "999490a4-eb5e-4498-9057-44022f3a8c52"
      },
      "execution_count": 30,
      "outputs": [
        {
          "output_type": "execute_result",
          "data": {
            "text/html": [
              "\n",
              "<div id=\"altair-viz-73ee207485bf4c4da77dbd289ac75566\"></div>\n",
              "<script type=\"text/javascript\">\n",
              "  (function(spec, embedOpt){\n",
              "    let outputDiv = document.currentScript.previousElementSibling;\n",
              "    if (outputDiv.id !== \"altair-viz-73ee207485bf4c4da77dbd289ac75566\") {\n",
              "      outputDiv = document.getElementById(\"altair-viz-73ee207485bf4c4da77dbd289ac75566\");\n",
              "    }\n",
              "    const paths = {\n",
              "      \"vega\": \"https://cdn.jsdelivr.net/npm//vega@5?noext\",\n",
              "      \"vega-lib\": \"https://cdn.jsdelivr.net/npm//vega-lib?noext\",\n",
              "      \"vega-lite\": \"https://cdn.jsdelivr.net/npm//vega-lite@4.8.1?noext\",\n",
              "      \"vega-embed\": \"https://cdn.jsdelivr.net/npm//vega-embed@6?noext\",\n",
              "    };\n",
              "\n",
              "    function loadScript(lib) {\n",
              "      return new Promise(function(resolve, reject) {\n",
              "        var s = document.createElement('script');\n",
              "        s.src = paths[lib];\n",
              "        s.async = true;\n",
              "        s.onload = () => resolve(paths[lib]);\n",
              "        s.onerror = () => reject(`Error loading script: ${paths[lib]}`);\n",
              "        document.getElementsByTagName(\"head\")[0].appendChild(s);\n",
              "      });\n",
              "    }\n",
              "\n",
              "    function showError(err) {\n",
              "      outputDiv.innerHTML = `<div class=\"error\" style=\"color:red;\">${err}</div>`;\n",
              "      throw err;\n",
              "    }\n",
              "\n",
              "    function displayChart(vegaEmbed) {\n",
              "      vegaEmbed(outputDiv, spec, embedOpt)\n",
              "        .catch(err => showError(`Javascript Error: ${err.message}<br>This usually means there's a typo in your chart specification. See the javascript console for the full traceback.`));\n",
              "    }\n",
              "\n",
              "    if(typeof define === \"function\" && define.amd) {\n",
              "      requirejs.config({paths});\n",
              "      require([\"vega-embed\"], displayChart, err => showError(`Error loading script: ${err.message}`));\n",
              "    } else if (typeof vegaEmbed === \"function\") {\n",
              "      displayChart(vegaEmbed);\n",
              "    } else {\n",
              "      loadScript(\"vega\")\n",
              "        .then(() => loadScript(\"vega-lite\"))\n",
              "        .then(() => loadScript(\"vega-embed\"))\n",
              "        .catch(showError)\n",
              "        .then(() => displayChart(vegaEmbed));\n",
              "    }\n",
              "  })({\"config\": {\"view\": {\"continuousWidth\": 400, \"continuousHeight\": 300, \"strokeWidth\": 0}, \"axisLeft\": {\"labelColor\": \"rgb(117,117,117)\", \"labelFont\": \"Arial\", \"labelFontSize\": 16}, \"title\": {\"align\": \"center\", \"baseline\": \"middle\", \"color\": \"rgb(117,117,117)\", \"font\": \"Arial\", \"fontSize\": 20, \"fontWeight\": \"bold\"}}, \"layer\": [{\"data\": {\"name\": \"data-b71d65f846bc74ae5caddb3a096fb136\"}, \"mark\": {\"type\": \"rule\", \"stroke\": \"rgb(117,117,117)\", \"strokeWidth\": 1.25, \"tooltip\": \"\"}, \"encoding\": {\"x\": {\"type\": \"quantitative\", \"field\": \"start\", \"scale\": {\"domain\": [0, 1], \"range\": [40.0, 760.0]}}, \"x2\": {\"field\": \"end\"}, \"y\": {\"type\": \"nominal\", \"axis\": {\"domain\": false, \"labelAngle\": 0, \"labelPadding\": -30, \"orient\": \"left\", \"ticks\": false, \"title\": \"\"}, \"field\": \"y_position\", \"scale\": {\"domain\": [\"FPR\"], \"range\": [17.5, 157.5]}}}}, {\"data\": {\"name\": \"data-6cfe259518f6c7b358d8f836a73e6b7f\"}, \"mark\": {\"type\": \"rule\", \"stroke\": \"rgb(117,117,117)\", \"strokeWidth\": 1.25, \"tooltip\": \"\"}, \"encoding\": {\"x\": {\"type\": \"quantitative\", \"field\": \"x_position\", \"scale\": {\"domain\": [0, 1], \"range\": [40.0, 760.0]}}, \"y\": {\"value\": 17.5}, \"y2\": {\"value\": 157.5}}}, {\"data\": {\"name\": \"data-60ed1133fa688d151d36705a369482e0\"}, \"mark\": {\"type\": \"text\", \"align\": \"center\", \"color\": \"rgb(117,117,117)\", \"font\": \"Arial\", \"fontSize\": 12, \"fontWeight\": \"normal\", \"tooltip\": \"\"}, \"encoding\": {\"text\": {\"type\": \"nominal\", \"field\": \"value\"}, \"x\": {\"type\": \"quantitative\", \"field\": \"value\", \"scale\": {\"domain\": [0, 1], \"range\": [40.0, 760.0]}}, \"y\": {\"value\": 12.25}}}, {\"layer\": [{\"mark\": {\"type\": \"rect\", \"opacity\": 0.8, \"stroke\": \"rgb(217, 46, 28)\", \"strokeWidth\": 1.25, \"tooltip\": \"\"}, \"encoding\": {\"x\": {\"type\": \"quantitative\", \"field\": \"lower_threshold_value\", \"scale\": {\"domain\": [0, 1], \"range\": [40.0, 760.0]}}, \"x2\": {\"field\": \"lower_threshold_value\"}, \"y\": {\"type\": \"nominal\", \"axis\": {\"domain\": false, \"grid\": false, \"labels\": false, \"ticks\": false, \"title\": \" \"}, \"field\": \"metric\", \"scale\": {\"domain\": [\"FPR\"], \"range\": [17.5, 157.5]}}}}, {\"mark\": {\"type\": \"rect\", \"opacity\": 0.8, \"stroke\": \"rgb(217, 46, 28)\", \"strokeWidth\": 1.25, \"tooltip\": \"\"}, \"encoding\": {\"x\": {\"type\": \"quantitative\", \"field\": \"upper_threshold_value\", \"scale\": {\"domain\": [0, 1], \"range\": [40.0, 760.0]}}, \"x2\": {\"field\": \"upper_threshold_value\"}, \"y\": {\"type\": \"nominal\", \"axis\": {\"domain\": false, \"grid\": false, \"labels\": false, \"ticks\": false, \"title\": \" \"}, \"field\": \"metric\", \"scale\": {\"domain\": [\"FPR\"], \"range\": [17.5, 157.5]}}}}, {\"layer\": [{\"mark\": {\"type\": \"rect\", \"fill\": \"rgb(217, 46, 28)\", \"opacity\": 0.1, \"tooltip\": \"\"}, \"encoding\": {\"x\": {\"type\": \"quantitative\", \"field\": \"lower_threshold_value\", \"scale\": {\"domain\": [0, 1], \"range\": [40.0, 760.0]}}, \"x2\": {\"field\": \"lower_end\"}, \"y\": {\"type\": \"nominal\", \"axis\": {\"domain\": false, \"grid\": false, \"labels\": false, \"ticks\": false, \"title\": \" \"}, \"field\": \"metric\", \"scale\": {\"domain\": [\"FPR\"], \"range\": [17.5, 157.5]}}}}, {\"mark\": {\"type\": \"rect\", \"fill\": \"rgb(217, 46, 28)\", \"opacity\": 0.1, \"tooltip\": \"\"}, \"encoding\": {\"x\": {\"type\": \"quantitative\", \"field\": \"upper_threshold_value\", \"scale\": {\"domain\": [0, 1], \"range\": [40.0, 760.0]}}, \"x2\": {\"field\": \"upper_end\"}, \"y\": {\"type\": \"nominal\", \"axis\": {\"domain\": false, \"grid\": false, \"labels\": false, \"ticks\": false, \"title\": \" \"}, \"field\": \"metric\", \"scale\": {\"domain\": [\"FPR\"], \"range\": [17.5, 157.5]}}}}]}, {\"data\": {\"name\": \"data-79dd248bdaa0ea02c535240e8ad022c8\"}, \"mark\": {\"type\": \"text\", \"align\": \"left\", \"baseline\": \"top\", \"fill\": \"rgb(217, 46, 28)\", \"font\": \"Arial\", \"fontSize\": 12, \"fontWeight\": \"normal\", \"tooltip\": \"\"}, \"encoding\": {\"text\": {\"value\": \"The metric value for any group should not be 1.2 (or more) times smaller or larger than that of the reference group Adults.\"}, \"x\": {\"value\": 0}, \"y\": {\"value\": 163.33333333333334}}}], \"data\": {\"name\": \"data-cdad144aba23a89d11095f191bc37fe2\"}}, {\"layer\": [{\"mark\": \"circle\"}, {\"data\": {\"name\": \"data-e431c55e6c3e08b6cfd69a413db35a12\"}, \"mark\": {\"type\": \"circle\", \"opacity\": 0.2}, \"encoding\": {\"color\": {\"condition\": {\"type\": \"nominal\", \"field\": \"attribute_value\", \"legend\": null, \"scale\": {\"domain\": [\"Adults\", \"Children\"], \"range\": [\"rgb(117,117,117)\", \"rgb(100, 143, 255)\", \"rgb(254, 97, 0)\", \"rgb(220, 38, 127)\", \"rgb(255, 176, 0)\", \"rgb(120, 94, 240)\"]}, \"selection\": \"selector021\"}, \"value\": \"rgb(224,224,224)\"}, \"size\": {\"type\": \"quantitative\", \"field\": \"group_size\", \"legend\": null, \"scale\": {\"domain\": [0, 224.4], \"range\": [0, 3848.4510006474966]}}, \"tooltip\": [{\"type\": \"nominal\", \"field\": \"attribute_value\", \"title\": \"Group\"}, {\"type\": \"nominal\", \"field\": \"tooltip_group_size\", \"title\": \"Group Size\"}, {\"type\": \"nominal\", \"field\": \"tooltip_disparity_explanation_fpr\", \"title\": \"Disparity\"}, {\"type\": \"quantitative\", \"field\": \"fpr\", \"format\": \".2f\", \"title\": \"FPR\"}], \"x\": {\"type\": \"quantitative\", \"axis\": {\"domain\": false, \"labels\": false, \"ticks\": false, \"title\": null, \"values\": [0.25, 0.5, 0.75]}, \"field\": \"fpr\", \"scale\": {\"domain\": [0, 1], \"range\": [40.0, 760.0]}}, \"y\": {\"type\": \"nominal\", \"axis\": {\"domain\": false, \"grid\": false, \"labels\": false, \"ticks\": false, \"title\": \" \"}, \"field\": \"metric_variable\", \"scale\": {\"domain\": [\"FPR\"], \"range\": [17.5, 157.5]}}}, \"selection\": {\"selector023\": {\"type\": \"multi\", \"empty\": \"all\", \"fields\": [\"attribute_value\"]}}, \"transform\": [{\"calculate\": \"'FPR'\", \"as\": \"metric_variable\"}]}, {\"layer\": [{\"mark\": \"point\"}, {\"data\": {\"name\": \"data-e431c55e6c3e08b6cfd69a413db35a12\"}, \"mark\": {\"type\": \"point\", \"filled\": true, \"size\": 60}, \"encoding\": {\"color\": {\"condition\": {\"type\": \"nominal\", \"field\": \"attribute_value\", \"legend\": null, \"scale\": {\"domain\": [\"Adults\", \"Children\"], \"range\": [\"rgb(117,117,117)\", \"rgb(100, 143, 255)\", \"rgb(254, 97, 0)\", \"rgb(220, 38, 127)\", \"rgb(255, 176, 0)\", \"rgb(120, 94, 240)\"]}, \"selection\": \"selector021\"}, \"value\": \"rgb(224,224,224)\"}, \"shape\": {\"type\": \"nominal\", \"field\": \"attribute_value\", \"legend\": null, \"scale\": {\"domain\": [\"Adults\", \"Children\"], \"range\": [\"cross\", \"circle\"]}}, \"tooltip\": [{\"type\": \"nominal\", \"field\": \"attribute_value\", \"title\": \"Group\"}, {\"type\": \"nominal\", \"field\": \"tooltip_group_size\", \"title\": \"Group Size\"}, {\"type\": \"nominal\", \"field\": \"tooltip_disparity_explanation_fpr\", \"title\": \"Disparity\"}, {\"type\": \"quantitative\", \"field\": \"fpr\", \"format\": \".2f\", \"title\": \"FPR\"}], \"x\": {\"type\": \"quantitative\", \"axis\": {\"domain\": false, \"labels\": false, \"ticks\": false, \"title\": null, \"values\": [0.25, 0.5, 0.75]}, \"field\": \"fpr\", \"scale\": {\"domain\": [0, 1], \"range\": [40.0, 760.0]}}, \"y\": {\"type\": \"nominal\", \"axis\": {\"domain\": false, \"grid\": false, \"labels\": false, \"ticks\": false, \"title\": \" \"}, \"field\": \"metric_variable\", \"scale\": {\"domain\": [\"FPR\"], \"range\": [17.5, 157.5]}}}, \"selection\": {\"selector022\": {\"type\": \"multi\", \"empty\": \"all\", \"fields\": [\"attribute_value\"]}}, \"transform\": [{\"calculate\": \"'FPR'\", \"as\": \"metric_variable\"}]}]}]}, {\"layer\": [{\"mark\": {\"type\": \"point\", \"filled\": true, \"opacity\": 1, \"size\": 39.47841760435743}, \"encoding\": {\"color\": {\"condition\": {\"type\": \"nominal\", \"field\": \"attribute_value\", \"legend\": null, \"scale\": {\"domain\": [\"Adults\", \"Children\"], \"range\": [\"rgb(117,117,117)\", \"rgb(100, 143, 255)\", \"rgb(254, 97, 0)\", \"rgb(220, 38, 127)\", \"rgb(255, 176, 0)\", \"rgb(120, 94, 240)\"]}, \"selection\": \"selector021\"}, \"value\": \"rgb(224,224,224)\"}, \"shape\": {\"type\": \"nominal\", \"field\": \"attribute_value\", \"legend\": null, \"scale\": {\"domain\": [\"Adults\", \"Children\"], \"range\": [\"cross\", \"circle\"]}}, \"x\": {\"value\": 804}, \"y\": {\"type\": \"nominal\", \"axis\": {\"domain\": false, \"grid\": false, \"labels\": false, \"ticks\": false, \"title\": \" \"}, \"field\": \"attribute_value\", \"scale\": {\"domain\": [\"Adults\", \"Children\"], \"range\": [71, 125]}}}, \"selection\": {\"selector021\": {\"type\": \"multi\", \"empty\": \"all\", \"fields\": [\"attribute_value\"]}}}, {\"mark\": {\"type\": \"text\", \"align\": \"left\", \"baseline\": \"middle\", \"font\": \"Arial\", \"fontSize\": 12, \"fontWeight\": \"normal\"}, \"encoding\": {\"color\": {\"condition\": {\"type\": \"nominal\", \"field\": \"attribute_value\", \"legend\": null, \"scale\": {\"domain\": [\"Adults\", \"Children\"], \"range\": [\"rgb(117,117,117)\", \"rgb(100, 143, 255)\", \"rgb(254, 97, 0)\", \"rgb(220, 38, 127)\", \"rgb(255, 176, 0)\", \"rgb(120, 94, 240)\"]}, \"selection\": \"selector021\"}, \"value\": \"rgb(224,224,224)\"}, \"text\": {\"type\": \"nominal\", \"field\": \"label\"}, \"x\": {\"value\": 812}, \"y\": {\"type\": \"nominal\", \"axis\": {\"domain\": false, \"grid\": false, \"labels\": false, \"ticks\": false, \"title\": \" \"}, \"field\": \"attribute_value\", \"scale\": {\"domain\": [\"Adults\", \"Children\"], \"range\": [71, 125]}}}, \"selection\": {\"selector024\": {\"type\": \"multi\", \"empty\": \"all\", \"fields\": [\"attribute_value\"]}}}, {\"data\": {\"name\": \"data-79dd248bdaa0ea02c535240e8ad022c8\"}, \"mark\": {\"type\": \"text\", \"align\": \"left\", \"baseline\": \"middle\", \"color\": \"rgb(117,117,117)\", \"font\": \"Arial\", \"fontSize\": 12, \"fontWeight\": \"normal\"}, \"encoding\": {\"text\": {\"value\": \"Click to highlight a group.\"}, \"x\": {\"value\": 800}, \"y\": {\"value\": 49}}}, {\"data\": {\"name\": \"data-79dd248bdaa0ea02c535240e8ad022c8\"}, \"mark\": {\"type\": \"text\", \"align\": \"left\", \"baseline\": \"middle\", \"color\": \"rgb(117,117,117)\", \"font\": \"Arial\", \"fontSize\": 14, \"fontWeight\": \"normal\"}, \"encoding\": {\"text\": {\"value\": \"Groups\"}, \"x\": {\"value\": 800}, \"y\": {\"value\": 30}}}], \"data\": {\"name\": \"data-5633874912c6de05621e650b4de11111\"}}], \"height\": 175, \"padding\": {\"top\": 15, \"bottom\": 10}, \"resolve\": {\"scale\": {\"size\": \"independent\", \"y\": \"independent\"}}, \"title\": \"Absolute values by Age_Level\", \"width\": 800, \"$schema\": \"https://vega.github.io/schema/vega-lite/v4.8.1.json\", \"datasets\": {\"data-b71d65f846bc74ae5caddb3a096fb136\": [{\"y_position\": \"FPR\", \"start\": 0, \"end\": 1}], \"data-6cfe259518f6c7b358d8f836a73e6b7f\": [{\"x_position\": 0}, {\"x_position\": 1}], \"data-60ed1133fa688d151d36705a369482e0\": [{\"value\": 0.0}, {\"value\": 0.25}, {\"value\": 0.5}, {\"value\": 0.75}, {\"value\": 1.0}], \"data-cdad144aba23a89d11095f191bc37fe2\": [{\"lower_end\": 0, \"upper_end\": 1, \"lower_threshold_value\": 0.06198347107438017, \"upper_threshold_value\": 0.08925619834710743, \"metric\": \"FPR\"}], \"data-79dd248bdaa0ea02c535240e8ad022c8\": [{\"a\": 1, \"b\": 0}, {\"a\": 1, \"b\": 0}], \"data-e431c55e6c3e08b6cfd69a413db35a12\": [{\"attribute_name\": \"Age_Level\", \"attribute_value\": \"Adults\", \"group_size\": 187, \"total_entities\": 223, \"fpr\": 0.0743801652892562, \"fpr_disparity\": 1.0, \"fpr_disparity_scaled\": 0.0, \"tooltip_group_size\": \"187 (83.86%)\", \"tooltip_disparity_explanation_fpr\": \"Reference group\"}, {\"attribute_name\": \"Age_Level\", \"attribute_value\": \"Children\", \"group_size\": 36, \"total_entities\": 223, \"fpr\": 0.16666666666666666, \"fpr_disparity\": 2.2407407407407405, \"fpr_disparity_scaled\": 1.2407407407407405, \"tooltip_group_size\": \"36 (16.14%)\", \"tooltip_disparity_explanation_fpr\": \"2.24 times larger FPR than the reference group\"}], \"data-5633874912c6de05621e650b4de11111\": [{\"attribute_value\": \"Adults\", \"label\": \"Adults [REF]\"}, {\"attribute_value\": \"Children\", \"label\": \"Children\"}]}}, {\"mode\": \"vega-lite\"});\n",
              "</script>"
            ],
            "text/plain": [
              "alt.LayerChart(...)"
            ]
          },
          "metadata": {},
          "execution_count": 30
        }
      ]
    },
    {
      "cell_type": "markdown",
      "source": [
        "#KNN Classifier"
      ],
      "metadata": {
        "id": "EWVatGz4-fIX"
      }
    },
    {
      "cell_type": "code",
      "source": [
        "KNeighborsClassifier\n",
        "kn = KNeighborsClassifier()\n",
        "kn.fit(X_train, y_train)"
      ],
      "metadata": {
        "id": "oUsK_2ke-kby",
        "outputId": "347445ff-4a3c-49ef-f568-4f17149f61bf",
        "colab": {
          "base_uri": "https://localhost:8080/"
        }
      },
      "execution_count": 31,
      "outputs": [
        {
          "output_type": "execute_result",
          "data": {
            "text/plain": [
              "KNeighborsClassifier()"
            ]
          },
          "metadata": {},
          "execution_count": 31
        }
      ]
    },
    {
      "cell_type": "code",
      "source": [
        "# Test Data\n",
        "sklearn_metrics.confusion_matrix(y_test, kn.predict(X_test))"
      ],
      "metadata": {
        "id": "yvBch6IK-3CA",
        "outputId": "95d3540c-a0ef-409e-922a-7aff69d28bb1",
        "colab": {
          "base_uri": "https://localhost:8080/"
        }
      },
      "execution_count": 32,
      "outputs": [
        {
          "output_type": "execute_result",
          "data": {
            "text/plain": [
              "array([[116,  23],\n",
              "       [ 25,  59]])"
            ]
          },
          "metadata": {},
          "execution_count": 32
        }
      ]
    },
    {
      "cell_type": "code",
      "source": [
        "# Accuracy\n",
        "kn.score(X_test, y_test)"
      ],
      "metadata": {
        "id": "3_QxBCo0FgQy",
        "outputId": "61348914-a97b-4550-a592-6cfc25fe9f61",
        "colab": {
          "base_uri": "https://localhost:8080/"
        }
      },
      "execution_count": 33,
      "outputs": [
        {
          "output_type": "execute_result",
          "data": {
            "text/plain": [
              "0.7847533632286996"
            ]
          },
          "metadata": {},
          "execution_count": 33
        }
      ]
    },
    {
      "cell_type": "code",
      "source": [
        "df_fair['score'] = kn.predict(X_test)\n",
        "\n",
        "# get_crosstabs returns a dataframe of the group counts and group value bias metrics.\n",
        "xtab, _ = g.get_crosstabs(df_fair, attr_cols=attributes_to_audit)\n",
        "bdf = b.get_disparity_predefined_groups(xtab, original_df=df_fair, ref_groups_dict=attributes_and_reference_groups)\n",
        "\n",
        "ap.disparity(bdf, metrics, 'Age_Level', fairness_threshold = disparity_tolerance)"
      ],
      "metadata": {
        "colab": {
          "base_uri": "https://localhost:8080/",
          "height": 337
        },
        "id": "HGd4kif2fwjq",
        "outputId": "22bacb35-df51-4eee-8b4a-abe00ff2950e"
      },
      "execution_count": 34,
      "outputs": [
        {
          "output_type": "stream",
          "name": "stdout",
          "text": [
            "get_disparity_predefined_group()\n"
          ]
        },
        {
          "output_type": "execute_result",
          "data": {
            "text/html": [
              "\n",
              "<div id=\"altair-viz-c98f36e3a07f4167adfe3a2ad72c95bd\"></div>\n",
              "<script type=\"text/javascript\">\n",
              "  (function(spec, embedOpt){\n",
              "    let outputDiv = document.currentScript.previousElementSibling;\n",
              "    if (outputDiv.id !== \"altair-viz-c98f36e3a07f4167adfe3a2ad72c95bd\") {\n",
              "      outputDiv = document.getElementById(\"altair-viz-c98f36e3a07f4167adfe3a2ad72c95bd\");\n",
              "    }\n",
              "    const paths = {\n",
              "      \"vega\": \"https://cdn.jsdelivr.net/npm//vega@5?noext\",\n",
              "      \"vega-lib\": \"https://cdn.jsdelivr.net/npm//vega-lib?noext\",\n",
              "      \"vega-lite\": \"https://cdn.jsdelivr.net/npm//vega-lite@4.8.1?noext\",\n",
              "      \"vega-embed\": \"https://cdn.jsdelivr.net/npm//vega-embed@6?noext\",\n",
              "    };\n",
              "\n",
              "    function loadScript(lib) {\n",
              "      return new Promise(function(resolve, reject) {\n",
              "        var s = document.createElement('script');\n",
              "        s.src = paths[lib];\n",
              "        s.async = true;\n",
              "        s.onload = () => resolve(paths[lib]);\n",
              "        s.onerror = () => reject(`Error loading script: ${paths[lib]}`);\n",
              "        document.getElementsByTagName(\"head\")[0].appendChild(s);\n",
              "      });\n",
              "    }\n",
              "\n",
              "    function showError(err) {\n",
              "      outputDiv.innerHTML = `<div class=\"error\" style=\"color:red;\">${err}</div>`;\n",
              "      throw err;\n",
              "    }\n",
              "\n",
              "    function displayChart(vegaEmbed) {\n",
              "      vegaEmbed(outputDiv, spec, embedOpt)\n",
              "        .catch(err => showError(`Javascript Error: ${err.message}<br>This usually means there's a typo in your chart specification. See the javascript console for the full traceback.`));\n",
              "    }\n",
              "\n",
              "    if(typeof define === \"function\" && define.amd) {\n",
              "      requirejs.config({paths});\n",
              "      require([\"vega-embed\"], displayChart, err => showError(`Error loading script: ${err.message}`));\n",
              "    } else if (typeof vegaEmbed === \"function\") {\n",
              "      displayChart(vegaEmbed);\n",
              "    } else {\n",
              "      loadScript(\"vega\")\n",
              "        .then(() => loadScript(\"vega-lite\"))\n",
              "        .then(() => loadScript(\"vega-embed\"))\n",
              "        .catch(showError)\n",
              "        .then(() => displayChart(vegaEmbed));\n",
              "    }\n",
              "  })({\"config\": {\"view\": {\"continuousWidth\": 400, \"continuousHeight\": 300, \"strokeWidth\": 0}, \"axisLeft\": {\"labelColor\": \"rgb(117,117,117)\", \"labelFont\": \"Arial\", \"labelFontSize\": 16}, \"title\": {\"align\": \"center\", \"baseline\": \"middle\", \"color\": \"rgb(117,117,117)\", \"font\": \"Arial\", \"fontSize\": 20, \"fontWeight\": \"bold\"}}, \"layer\": [{\"data\": {\"name\": \"data-38121450c6697f570e9bf3f18efe866c\"}, \"mark\": {\"type\": \"rule\", \"stroke\": \"rgb(117,117,117)\", \"strokeWidth\": 1.25, \"tooltip\": \"\"}, \"encoding\": {\"x\": {\"type\": \"quantitative\", \"field\": \"x\", \"scale\": {\"domain\": [-2, 2], \"range\": [40.0, 760.0]}}, \"x2\": {\"field\": \"x2\"}, \"y\": {\"type\": \"nominal\", \"axis\": {\"domain\": false, \"labelAngle\": 0, \"labelPadding\": -30, \"orient\": \"left\", \"ticks\": false, \"title\": \"\"}, \"field\": \"metric\", \"scale\": {\"domain\": [\"FPR\"], \"range\": [30, 225.0]}}}}, {\"data\": {\"name\": \"data-79dd248bdaa0ea02c535240e8ad022c8\"}, \"mark\": {\"type\": \"rule\", \"stroke\": \"rgb(117,117,117)\", \"strokeDash\": [5, 5], \"strokeWidth\": 1}, \"encoding\": {\"tooltip\": {\"value\": \"Adults [REF]\"}, \"x\": {\"value\": 400.0}, \"y\": {\"value\": 20.833333333333336}, \"y2\": {\"value\": 229.16666666666666}}}, {\"data\": {\"name\": \"data-c233327f4cd9b4c2df31bf8015c83e4a\"}, \"mark\": {\"type\": \"text\", \"align\": \"center\", \"color\": \"rgb(117,117,117)\", \"font\": \"Arial\", \"fontSize\": 12, \"fontWeight\": \"normal\", \"tooltip\": \"\"}, \"encoding\": {\"text\": {\"type\": \"nominal\", \"field\": \"label\"}, \"x\": {\"type\": \"quantitative\", \"field\": \"value\", \"scale\": {\"domain\": [-2, 2], \"range\": [40.0, 760.0]}}, \"y\": {\"value\": 17.5}}}, {\"layer\": [{\"mark\": {\"type\": \"text\", \"align\": \"left\", \"fill\": \"rgb(117,117,117)\", \"font\": \"Arial\", \"fontSize\": 12, \"fontWeight\": \"normal\", \"tooltip\": \"\"}, \"encoding\": {\"text\": {\"value\": \"Times Smaller\"}, \"x\": {\"value\": 40.0}, \"y\": {\"value\": 7.5}}}, {\"mark\": {\"type\": \"text\", \"align\": \"right\", \"fill\": \"rgb(117,117,117)\", \"font\": \"Arial\", \"fontSize\": 12, \"fontWeight\": \"normal\", \"tooltip\": \"\"}, \"encoding\": {\"text\": {\"value\": \"Times Larger\"}, \"x\": {\"value\": 760.0}, \"y\": {\"value\": 7.5}}}, {\"mark\": {\"type\": \"text\", \"align\": \"center\", \"fill\": \"rgb(117,117,117)\", \"font\": \"Arial\", \"fontSize\": 12, \"fontWeight\": \"normal\", \"tooltip\": \"\"}, \"encoding\": {\"text\": {\"value\": \"Equal\"}, \"x\": {\"value\": 400.0}, \"y\": {\"value\": 7.5}}}], \"data\": {\"name\": \"data-79dd248bdaa0ea02c535240e8ad022c8\"}}, {\"layer\": [{\"mark\": {\"type\": \"rule\", \"opacity\": 0.8, \"stroke\": \"rgb(217, 46, 28)\", \"strokeWidth\": 1.25, \"tooltip\": \"\"}, \"encoding\": {\"x\": {\"type\": \"quantitative\", \"field\": \"min\", \"scale\": {\"domain\": [-2, 2], \"range\": [40.0, 760.0]}}, \"y\": {\"value\": 25.0}, \"y2\": {\"value\": 225.0}}}, {\"mark\": {\"type\": \"rule\", \"opacity\": 0.8, \"stroke\": \"rgb(217, 46, 28)\", \"strokeWidth\": 1.25, \"tooltip\": \"\"}, \"encoding\": {\"x\": {\"type\": \"quantitative\", \"field\": \"max\", \"scale\": {\"domain\": [-2, 2], \"range\": [40.0, 760.0]}}, \"y\": {\"value\": 25.0}, \"y2\": {\"value\": 225.0}}}, {\"layer\": [{\"mark\": {\"type\": \"rect\", \"fill\": \"rgb(217, 46, 28)\", \"opacity\": 0.1, \"tooltip\": \"\"}, \"encoding\": {\"x\": {\"type\": \"quantitative\", \"field\": \"min\", \"scale\": {\"domain\": [-2, 2], \"range\": [40.0, 760.0]}}, \"x2\": {\"field\": \"lower_end\"}, \"y\": {\"value\": 25.0}, \"y2\": {\"value\": 225.0}}}, {\"mark\": {\"type\": \"rect\", \"fill\": \"rgb(217, 46, 28)\", \"opacity\": 0.1, \"tooltip\": \"\"}, \"encoding\": {\"x\": {\"type\": \"quantitative\", \"field\": \"max\", \"scale\": {\"domain\": [-2, 2], \"range\": [40.0, 760.0]}}, \"x2\": {\"field\": \"upper_end\"}, \"y\": {\"value\": 25.0}, \"y2\": {\"value\": 225.0}}}]}, {\"data\": {\"name\": \"data-79dd248bdaa0ea02c535240e8ad022c8\"}, \"mark\": {\"type\": \"text\", \"align\": \"left\", \"baseline\": \"top\", \"fill\": \"rgb(217, 46, 28)\", \"font\": \"Arial\", \"fontSize\": 12, \"fontWeight\": \"normal\", \"tooltip\": \"\"}, \"encoding\": {\"text\": {\"value\": \"The metric value for any group should not be 1.2 (or more) times smaller or larger than that of the reference group Adults.\"}, \"x\": {\"value\": 0}, \"y\": {\"value\": 233.33333333333334}}}], \"data\": {\"name\": \"data-25f3550964acc203f87c85ed125cfad2\"}}, {\"layer\": [{\"mark\": \"circle\"}, {\"data\": {\"name\": \"data-474072ac1340a049d4d35bf2bdbca3ce\"}, \"mark\": {\"type\": \"circle\", \"opacity\": 0.2}, \"encoding\": {\"color\": {\"condition\": {\"type\": \"nominal\", \"field\": \"attribute_value\", \"legend\": null, \"scale\": {\"domain\": [\"Adults\", \"Children\"], \"range\": [\"rgb(117,117,117)\", \"rgb(100, 143, 255)\", \"rgb(254, 97, 0)\", \"rgb(220, 38, 127)\", \"rgb(255, 176, 0)\", \"rgb(120, 94, 240)\"]}, \"selection\": \"selector025\"}, \"value\": \"rgb(224,224,224)\"}, \"size\": {\"type\": \"quantitative\", \"field\": \"group_size\", \"legend\": null, \"scale\": {\"domain\": [0, 224.4], \"range\": [0, 7853.981633974483]}}, \"tooltip\": [{\"type\": \"nominal\", \"field\": \"attribute_value\", \"title\": \"Group\"}, {\"type\": \"nominal\", \"field\": \"tooltip_group_size\", \"title\": \"Group Size\"}, {\"type\": \"nominal\", \"field\": \"tooltip_disparity_explanation_fpr\", \"title\": \"Disparity\"}, {\"type\": \"quantitative\", \"field\": \"fpr\", \"format\": \".2f\", \"title\": \"FPR\"}], \"x\": {\"type\": \"quantitative\", \"axis\": {\"domain\": false, \"labels\": false, \"ticks\": false, \"title\": null, \"values\": [1, 2, -2, -1]}, \"field\": \"fpr_disparity_scaled\", \"scale\": {\"domain\": [-2, 2], \"range\": [40.0, 760.0]}}, \"y\": {\"type\": \"nominal\", \"axis\": {\"domain\": false, \"grid\": false, \"labels\": false, \"ticks\": false, \"title\": \" \"}, \"field\": \"metric_variable\", \"scale\": {\"domain\": [\"FPR\"], \"range\": [30, 225.0]}}}, \"selection\": {\"selector027\": {\"type\": \"multi\", \"empty\": \"all\", \"fields\": [\"attribute_value\"]}}, \"transform\": [{\"calculate\": \"'FPR'\", \"as\": \"metric_variable\"}]}, {\"layer\": [{\"mark\": \"point\"}, {\"data\": {\"name\": \"data-474072ac1340a049d4d35bf2bdbca3ce\"}, \"mark\": {\"type\": \"point\", \"filled\": true, \"size\": 60}, \"encoding\": {\"color\": {\"condition\": {\"type\": \"nominal\", \"field\": \"attribute_value\", \"legend\": null, \"scale\": {\"domain\": [\"Adults\", \"Children\"], \"range\": [\"rgb(117,117,117)\", \"rgb(100, 143, 255)\", \"rgb(254, 97, 0)\", \"rgb(220, 38, 127)\", \"rgb(255, 176, 0)\", \"rgb(120, 94, 240)\"]}, \"selection\": \"selector025\"}, \"value\": \"rgb(224,224,224)\"}, \"shape\": {\"type\": \"nominal\", \"field\": \"attribute_value\", \"legend\": null, \"scale\": {\"domain\": [\"Adults\", \"Children\"], \"range\": [\"cross\", \"circle\"]}}, \"tooltip\": [{\"type\": \"nominal\", \"field\": \"attribute_value\", \"title\": \"Group\"}, {\"type\": \"nominal\", \"field\": \"tooltip_group_size\", \"title\": \"Group Size\"}, {\"type\": \"nominal\", \"field\": \"tooltip_disparity_explanation_fpr\", \"title\": \"Disparity\"}, {\"type\": \"quantitative\", \"field\": \"fpr\", \"format\": \".2f\", \"title\": \"FPR\"}], \"x\": {\"type\": \"quantitative\", \"axis\": {\"domain\": false, \"labels\": false, \"ticks\": false, \"title\": null, \"values\": [1, 2, -2, -1]}, \"field\": \"fpr_disparity_scaled\", \"scale\": {\"domain\": [-2, 2], \"range\": [40.0, 760.0]}}, \"y\": {\"type\": \"nominal\", \"axis\": {\"domain\": false, \"grid\": false, \"labels\": false, \"ticks\": false, \"title\": \" \"}, \"field\": \"metric_variable\", \"scale\": {\"domain\": [\"FPR\"], \"range\": [30, 225.0]}}}, \"selection\": {\"selector026\": {\"type\": \"multi\", \"empty\": \"all\", \"fields\": [\"attribute_value\"]}}, \"transform\": [{\"calculate\": \"'FPR'\", \"as\": \"metric_variable\"}]}]}]}, {\"layer\": [{\"mark\": {\"type\": \"point\", \"filled\": true, \"opacity\": 1, \"size\": 39.47841760435743}, \"encoding\": {\"color\": {\"condition\": {\"type\": \"nominal\", \"field\": \"attribute_value\", \"legend\": null, \"scale\": {\"domain\": [\"Adults\", \"Children\"], \"range\": [\"rgb(117,117,117)\", \"rgb(100, 143, 255)\", \"rgb(254, 97, 0)\", \"rgb(220, 38, 127)\", \"rgb(255, 176, 0)\", \"rgb(120, 94, 240)\"]}, \"selection\": \"selector025\"}, \"value\": \"rgb(224,224,224)\"}, \"shape\": {\"type\": \"nominal\", \"field\": \"attribute_value\", \"legend\": null, \"scale\": {\"domain\": [\"Adults\", \"Children\"], \"range\": [\"cross\", \"circle\"]}}, \"x\": {\"value\": 804}, \"y\": {\"type\": \"nominal\", \"axis\": {\"domain\": false, \"grid\": false, \"labels\": false, \"ticks\": false, \"title\": \" \"}, \"field\": \"attribute_value\", \"scale\": {\"domain\": [\"Adults\", \"Children\"], \"range\": [71, 125]}}}, \"selection\": {\"selector025\": {\"type\": \"multi\", \"empty\": \"all\", \"fields\": [\"attribute_value\"]}}}, {\"mark\": {\"type\": \"text\", \"align\": \"left\", \"baseline\": \"middle\", \"font\": \"Arial\", \"fontSize\": 12, \"fontWeight\": \"normal\"}, \"encoding\": {\"color\": {\"condition\": {\"type\": \"nominal\", \"field\": \"attribute_value\", \"legend\": null, \"scale\": {\"domain\": [\"Adults\", \"Children\"], \"range\": [\"rgb(117,117,117)\", \"rgb(100, 143, 255)\", \"rgb(254, 97, 0)\", \"rgb(220, 38, 127)\", \"rgb(255, 176, 0)\", \"rgb(120, 94, 240)\"]}, \"selection\": \"selector025\"}, \"value\": \"rgb(224,224,224)\"}, \"text\": {\"type\": \"nominal\", \"field\": \"label\"}, \"x\": {\"value\": 812}, \"y\": {\"type\": \"nominal\", \"axis\": {\"domain\": false, \"grid\": false, \"labels\": false, \"ticks\": false, \"title\": \" \"}, \"field\": \"attribute_value\", \"scale\": {\"domain\": [\"Adults\", \"Children\"], \"range\": [71, 125]}}}, \"selection\": {\"selector028\": {\"type\": \"multi\", \"empty\": \"all\", \"fields\": [\"attribute_value\"]}}}, {\"data\": {\"name\": \"data-79dd248bdaa0ea02c535240e8ad022c8\"}, \"mark\": {\"type\": \"text\", \"align\": \"left\", \"baseline\": \"middle\", \"color\": \"rgb(117,117,117)\", \"font\": \"Arial\", \"fontSize\": 12, \"fontWeight\": \"normal\"}, \"encoding\": {\"text\": {\"value\": \"Click to highlight a group.\"}, \"x\": {\"value\": 800}, \"y\": {\"value\": 49}}}, {\"data\": {\"name\": \"data-79dd248bdaa0ea02c535240e8ad022c8\"}, \"mark\": {\"type\": \"text\", \"align\": \"left\", \"baseline\": \"middle\", \"color\": \"rgb(117,117,117)\", \"font\": \"Arial\", \"fontSize\": 14, \"fontWeight\": \"normal\"}, \"encoding\": {\"text\": {\"value\": \"Groups\"}, \"x\": {\"value\": 800}, \"y\": {\"value\": 30}}}], \"data\": {\"name\": \"data-5633874912c6de05621e650b4de11111\"}}], \"height\": 250, \"padding\": {\"top\": 15, \"bottom\": 10}, \"resolve\": {\"scale\": {\"size\": \"independent\", \"y\": \"independent\"}}, \"title\": \"Disparities on Age_Level\", \"width\": 800, \"$schema\": \"https://vega.github.io/schema/vega-lite/v4.8.1.json\", \"datasets\": {\"data-38121450c6697f570e9bf3f18efe866c\": [{\"metric\": \"FPR\", \"x\": -2, \"x2\": 2}], \"data-79dd248bdaa0ea02c535240e8ad022c8\": [{\"a\": 1, \"b\": 0}, {\"a\": 1, \"b\": 0}], \"data-c233327f4cd9b4c2df31bf8015c83e4a\": [{\"value\": 1, \"label\": 2}, {\"value\": 2, \"label\": 3}, {\"value\": -2, \"label\": 3}, {\"value\": -1, \"label\": 2}, {\"value\": 0, \"label\": \"=\"}], \"data-25f3550964acc203f87c85ed125cfad2\": [{\"min\": -0.19999999999999996, \"max\": 0.19999999999999996, \"lower_end\": -2, \"upper_end\": 2}], \"data-474072ac1340a049d4d35bf2bdbca3ce\": [{\"attribute_name\": \"Age_Level\", \"attribute_value\": \"Adults\", \"group_size\": 187, \"total_entities\": 223, \"fpr\": 0.15702479338842976, \"fpr_disparity\": 1.0, \"fpr_disparity_scaled\": 0.0, \"tooltip_group_size\": \"187 (83.86%)\", \"tooltip_disparity_explanation_fpr\": \"Reference group\"}, {\"attribute_name\": \"Age_Level\", \"attribute_value\": \"Children\", \"group_size\": 36, \"total_entities\": 223, \"fpr\": 0.2222222222222222, \"fpr_disparity\": 1.415204678362573, \"fpr_disparity_scaled\": 0.4152046783625729, \"tooltip_group_size\": \"36 (16.14%)\", \"tooltip_disparity_explanation_fpr\": \"1.42 times larger FPR than the reference group\"}], \"data-5633874912c6de05621e650b4de11111\": [{\"attribute_value\": \"Adults\", \"label\": \"Adults [REF]\"}, {\"attribute_value\": \"Children\", \"label\": \"Children\"}]}}, {\"mode\": \"vega-lite\"});\n",
              "</script>"
            ],
            "text/plain": [
              "alt.LayerChart(...)"
            ]
          },
          "metadata": {},
          "execution_count": 34
        }
      ]
    },
    {
      "cell_type": "code",
      "source": [
        "ap.absolute(bdf, metrics, 'Age_Level', fairness_threshold = disparity_tolerance)"
      ],
      "metadata": {
        "colab": {
          "base_uri": "https://localhost:8080/",
          "height": 245
        },
        "id": "lqEc1XZzfwaj",
        "outputId": "8a2a9460-20fa-4436-aff5-586d782491e9"
      },
      "execution_count": 35,
      "outputs": [
        {
          "output_type": "execute_result",
          "data": {
            "text/html": [
              "\n",
              "<div id=\"altair-viz-03473cfc7c9841fba429637011f76f76\"></div>\n",
              "<script type=\"text/javascript\">\n",
              "  (function(spec, embedOpt){\n",
              "    let outputDiv = document.currentScript.previousElementSibling;\n",
              "    if (outputDiv.id !== \"altair-viz-03473cfc7c9841fba429637011f76f76\") {\n",
              "      outputDiv = document.getElementById(\"altair-viz-03473cfc7c9841fba429637011f76f76\");\n",
              "    }\n",
              "    const paths = {\n",
              "      \"vega\": \"https://cdn.jsdelivr.net/npm//vega@5?noext\",\n",
              "      \"vega-lib\": \"https://cdn.jsdelivr.net/npm//vega-lib?noext\",\n",
              "      \"vega-lite\": \"https://cdn.jsdelivr.net/npm//vega-lite@4.8.1?noext\",\n",
              "      \"vega-embed\": \"https://cdn.jsdelivr.net/npm//vega-embed@6?noext\",\n",
              "    };\n",
              "\n",
              "    function loadScript(lib) {\n",
              "      return new Promise(function(resolve, reject) {\n",
              "        var s = document.createElement('script');\n",
              "        s.src = paths[lib];\n",
              "        s.async = true;\n",
              "        s.onload = () => resolve(paths[lib]);\n",
              "        s.onerror = () => reject(`Error loading script: ${paths[lib]}`);\n",
              "        document.getElementsByTagName(\"head\")[0].appendChild(s);\n",
              "      });\n",
              "    }\n",
              "\n",
              "    function showError(err) {\n",
              "      outputDiv.innerHTML = `<div class=\"error\" style=\"color:red;\">${err}</div>`;\n",
              "      throw err;\n",
              "    }\n",
              "\n",
              "    function displayChart(vegaEmbed) {\n",
              "      vegaEmbed(outputDiv, spec, embedOpt)\n",
              "        .catch(err => showError(`Javascript Error: ${err.message}<br>This usually means there's a typo in your chart specification. See the javascript console for the full traceback.`));\n",
              "    }\n",
              "\n",
              "    if(typeof define === \"function\" && define.amd) {\n",
              "      requirejs.config({paths});\n",
              "      require([\"vega-embed\"], displayChart, err => showError(`Error loading script: ${err.message}`));\n",
              "    } else if (typeof vegaEmbed === \"function\") {\n",
              "      displayChart(vegaEmbed);\n",
              "    } else {\n",
              "      loadScript(\"vega\")\n",
              "        .then(() => loadScript(\"vega-lite\"))\n",
              "        .then(() => loadScript(\"vega-embed\"))\n",
              "        .catch(showError)\n",
              "        .then(() => displayChart(vegaEmbed));\n",
              "    }\n",
              "  })({\"config\": {\"view\": {\"continuousWidth\": 400, \"continuousHeight\": 300, \"strokeWidth\": 0}, \"axisLeft\": {\"labelColor\": \"rgb(117,117,117)\", \"labelFont\": \"Arial\", \"labelFontSize\": 16}, \"title\": {\"align\": \"center\", \"baseline\": \"middle\", \"color\": \"rgb(117,117,117)\", \"font\": \"Arial\", \"fontSize\": 20, \"fontWeight\": \"bold\"}}, \"layer\": [{\"data\": {\"name\": \"data-b71d65f846bc74ae5caddb3a096fb136\"}, \"mark\": {\"type\": \"rule\", \"stroke\": \"rgb(117,117,117)\", \"strokeWidth\": 1.25, \"tooltip\": \"\"}, \"encoding\": {\"x\": {\"type\": \"quantitative\", \"field\": \"start\", \"scale\": {\"domain\": [0, 1], \"range\": [40.0, 760.0]}}, \"x2\": {\"field\": \"end\"}, \"y\": {\"type\": \"nominal\", \"axis\": {\"domain\": false, \"labelAngle\": 0, \"labelPadding\": -30, \"orient\": \"left\", \"ticks\": false, \"title\": \"\"}, \"field\": \"y_position\", \"scale\": {\"domain\": [\"FPR\"], \"range\": [17.5, 157.5]}}}}, {\"data\": {\"name\": \"data-6cfe259518f6c7b358d8f836a73e6b7f\"}, \"mark\": {\"type\": \"rule\", \"stroke\": \"rgb(117,117,117)\", \"strokeWidth\": 1.25, \"tooltip\": \"\"}, \"encoding\": {\"x\": {\"type\": \"quantitative\", \"field\": \"x_position\", \"scale\": {\"domain\": [0, 1], \"range\": [40.0, 760.0]}}, \"y\": {\"value\": 17.5}, \"y2\": {\"value\": 157.5}}}, {\"data\": {\"name\": \"data-60ed1133fa688d151d36705a369482e0\"}, \"mark\": {\"type\": \"text\", \"align\": \"center\", \"color\": \"rgb(117,117,117)\", \"font\": \"Arial\", \"fontSize\": 12, \"fontWeight\": \"normal\", \"tooltip\": \"\"}, \"encoding\": {\"text\": {\"type\": \"nominal\", \"field\": \"value\"}, \"x\": {\"type\": \"quantitative\", \"field\": \"value\", \"scale\": {\"domain\": [0, 1], \"range\": [40.0, 760.0]}}, \"y\": {\"value\": 12.25}}}, {\"layer\": [{\"mark\": {\"type\": \"rect\", \"opacity\": 0.8, \"stroke\": \"rgb(217, 46, 28)\", \"strokeWidth\": 1.25, \"tooltip\": \"\"}, \"encoding\": {\"x\": {\"type\": \"quantitative\", \"field\": \"lower_threshold_value\", \"scale\": {\"domain\": [0, 1], \"range\": [40.0, 760.0]}}, \"x2\": {\"field\": \"lower_threshold_value\"}, \"y\": {\"type\": \"nominal\", \"axis\": {\"domain\": false, \"grid\": false, \"labels\": false, \"ticks\": false, \"title\": \" \"}, \"field\": \"metric\", \"scale\": {\"domain\": [\"FPR\"], \"range\": [17.5, 157.5]}}}}, {\"mark\": {\"type\": \"rect\", \"opacity\": 0.8, \"stroke\": \"rgb(217, 46, 28)\", \"strokeWidth\": 1.25, \"tooltip\": \"\"}, \"encoding\": {\"x\": {\"type\": \"quantitative\", \"field\": \"upper_threshold_value\", \"scale\": {\"domain\": [0, 1], \"range\": [40.0, 760.0]}}, \"x2\": {\"field\": \"upper_threshold_value\"}, \"y\": {\"type\": \"nominal\", \"axis\": {\"domain\": false, \"grid\": false, \"labels\": false, \"ticks\": false, \"title\": \" \"}, \"field\": \"metric\", \"scale\": {\"domain\": [\"FPR\"], \"range\": [17.5, 157.5]}}}}, {\"layer\": [{\"mark\": {\"type\": \"rect\", \"fill\": \"rgb(217, 46, 28)\", \"opacity\": 0.1, \"tooltip\": \"\"}, \"encoding\": {\"x\": {\"type\": \"quantitative\", \"field\": \"lower_threshold_value\", \"scale\": {\"domain\": [0, 1], \"range\": [40.0, 760.0]}}, \"x2\": {\"field\": \"lower_end\"}, \"y\": {\"type\": \"nominal\", \"axis\": {\"domain\": false, \"grid\": false, \"labels\": false, \"ticks\": false, \"title\": \" \"}, \"field\": \"metric\", \"scale\": {\"domain\": [\"FPR\"], \"range\": [17.5, 157.5]}}}}, {\"mark\": {\"type\": \"rect\", \"fill\": \"rgb(217, 46, 28)\", \"opacity\": 0.1, \"tooltip\": \"\"}, \"encoding\": {\"x\": {\"type\": \"quantitative\", \"field\": \"upper_threshold_value\", \"scale\": {\"domain\": [0, 1], \"range\": [40.0, 760.0]}}, \"x2\": {\"field\": \"upper_end\"}, \"y\": {\"type\": \"nominal\", \"axis\": {\"domain\": false, \"grid\": false, \"labels\": false, \"ticks\": false, \"title\": \" \"}, \"field\": \"metric\", \"scale\": {\"domain\": [\"FPR\"], \"range\": [17.5, 157.5]}}}}]}, {\"data\": {\"name\": \"data-79dd248bdaa0ea02c535240e8ad022c8\"}, \"mark\": {\"type\": \"text\", \"align\": \"left\", \"baseline\": \"top\", \"fill\": \"rgb(217, 46, 28)\", \"font\": \"Arial\", \"fontSize\": 12, \"fontWeight\": \"normal\", \"tooltip\": \"\"}, \"encoding\": {\"text\": {\"value\": \"The metric value for any group should not be 1.2 (or more) times smaller or larger than that of the reference group Adults.\"}, \"x\": {\"value\": 0}, \"y\": {\"value\": 163.33333333333334}}}], \"data\": {\"name\": \"data-4f70889bd60c12b21139359762424deb\"}}, {\"layer\": [{\"mark\": \"circle\"}, {\"data\": {\"name\": \"data-474072ac1340a049d4d35bf2bdbca3ce\"}, \"mark\": {\"type\": \"circle\", \"opacity\": 0.2}, \"encoding\": {\"color\": {\"condition\": {\"type\": \"nominal\", \"field\": \"attribute_value\", \"legend\": null, \"scale\": {\"domain\": [\"Adults\", \"Children\"], \"range\": [\"rgb(117,117,117)\", \"rgb(100, 143, 255)\", \"rgb(254, 97, 0)\", \"rgb(220, 38, 127)\", \"rgb(255, 176, 0)\", \"rgb(120, 94, 240)\"]}, \"selection\": \"selector029\"}, \"value\": \"rgb(224,224,224)\"}, \"size\": {\"type\": \"quantitative\", \"field\": \"group_size\", \"legend\": null, \"scale\": {\"domain\": [0, 224.4], \"range\": [0, 3848.4510006474966]}}, \"tooltip\": [{\"type\": \"nominal\", \"field\": \"attribute_value\", \"title\": \"Group\"}, {\"type\": \"nominal\", \"field\": \"tooltip_group_size\", \"title\": \"Group Size\"}, {\"type\": \"nominal\", \"field\": \"tooltip_disparity_explanation_fpr\", \"title\": \"Disparity\"}, {\"type\": \"quantitative\", \"field\": \"fpr\", \"format\": \".2f\", \"title\": \"FPR\"}], \"x\": {\"type\": \"quantitative\", \"axis\": {\"domain\": false, \"labels\": false, \"ticks\": false, \"title\": null, \"values\": [0.25, 0.5, 0.75]}, \"field\": \"fpr\", \"scale\": {\"domain\": [0, 1], \"range\": [40.0, 760.0]}}, \"y\": {\"type\": \"nominal\", \"axis\": {\"domain\": false, \"grid\": false, \"labels\": false, \"ticks\": false, \"title\": \" \"}, \"field\": \"metric_variable\", \"scale\": {\"domain\": [\"FPR\"], \"range\": [17.5, 157.5]}}}, \"selection\": {\"selector031\": {\"type\": \"multi\", \"empty\": \"all\", \"fields\": [\"attribute_value\"]}}, \"transform\": [{\"calculate\": \"'FPR'\", \"as\": \"metric_variable\"}]}, {\"layer\": [{\"mark\": \"point\"}, {\"data\": {\"name\": \"data-474072ac1340a049d4d35bf2bdbca3ce\"}, \"mark\": {\"type\": \"point\", \"filled\": true, \"size\": 60}, \"encoding\": {\"color\": {\"condition\": {\"type\": \"nominal\", \"field\": \"attribute_value\", \"legend\": null, \"scale\": {\"domain\": [\"Adults\", \"Children\"], \"range\": [\"rgb(117,117,117)\", \"rgb(100, 143, 255)\", \"rgb(254, 97, 0)\", \"rgb(220, 38, 127)\", \"rgb(255, 176, 0)\", \"rgb(120, 94, 240)\"]}, \"selection\": \"selector029\"}, \"value\": \"rgb(224,224,224)\"}, \"shape\": {\"type\": \"nominal\", \"field\": \"attribute_value\", \"legend\": null, \"scale\": {\"domain\": [\"Adults\", \"Children\"], \"range\": [\"cross\", \"circle\"]}}, \"tooltip\": [{\"type\": \"nominal\", \"field\": \"attribute_value\", \"title\": \"Group\"}, {\"type\": \"nominal\", \"field\": \"tooltip_group_size\", \"title\": \"Group Size\"}, {\"type\": \"nominal\", \"field\": \"tooltip_disparity_explanation_fpr\", \"title\": \"Disparity\"}, {\"type\": \"quantitative\", \"field\": \"fpr\", \"format\": \".2f\", \"title\": \"FPR\"}], \"x\": {\"type\": \"quantitative\", \"axis\": {\"domain\": false, \"labels\": false, \"ticks\": false, \"title\": null, \"values\": [0.25, 0.5, 0.75]}, \"field\": \"fpr\", \"scale\": {\"domain\": [0, 1], \"range\": [40.0, 760.0]}}, \"y\": {\"type\": \"nominal\", \"axis\": {\"domain\": false, \"grid\": false, \"labels\": false, \"ticks\": false, \"title\": \" \"}, \"field\": \"metric_variable\", \"scale\": {\"domain\": [\"FPR\"], \"range\": [17.5, 157.5]}}}, \"selection\": {\"selector030\": {\"type\": \"multi\", \"empty\": \"all\", \"fields\": [\"attribute_value\"]}}, \"transform\": [{\"calculate\": \"'FPR'\", \"as\": \"metric_variable\"}]}]}]}, {\"layer\": [{\"mark\": {\"type\": \"point\", \"filled\": true, \"opacity\": 1, \"size\": 39.47841760435743}, \"encoding\": {\"color\": {\"condition\": {\"type\": \"nominal\", \"field\": \"attribute_value\", \"legend\": null, \"scale\": {\"domain\": [\"Adults\", \"Children\"], \"range\": [\"rgb(117,117,117)\", \"rgb(100, 143, 255)\", \"rgb(254, 97, 0)\", \"rgb(220, 38, 127)\", \"rgb(255, 176, 0)\", \"rgb(120, 94, 240)\"]}, \"selection\": \"selector029\"}, \"value\": \"rgb(224,224,224)\"}, \"shape\": {\"type\": \"nominal\", \"field\": \"attribute_value\", \"legend\": null, \"scale\": {\"domain\": [\"Adults\", \"Children\"], \"range\": [\"cross\", \"circle\"]}}, \"x\": {\"value\": 804}, \"y\": {\"type\": \"nominal\", \"axis\": {\"domain\": false, \"grid\": false, \"labels\": false, \"ticks\": false, \"title\": \" \"}, \"field\": \"attribute_value\", \"scale\": {\"domain\": [\"Adults\", \"Children\"], \"range\": [71, 125]}}}, \"selection\": {\"selector029\": {\"type\": \"multi\", \"empty\": \"all\", \"fields\": [\"attribute_value\"]}}}, {\"mark\": {\"type\": \"text\", \"align\": \"left\", \"baseline\": \"middle\", \"font\": \"Arial\", \"fontSize\": 12, \"fontWeight\": \"normal\"}, \"encoding\": {\"color\": {\"condition\": {\"type\": \"nominal\", \"field\": \"attribute_value\", \"legend\": null, \"scale\": {\"domain\": [\"Adults\", \"Children\"], \"range\": [\"rgb(117,117,117)\", \"rgb(100, 143, 255)\", \"rgb(254, 97, 0)\", \"rgb(220, 38, 127)\", \"rgb(255, 176, 0)\", \"rgb(120, 94, 240)\"]}, \"selection\": \"selector029\"}, \"value\": \"rgb(224,224,224)\"}, \"text\": {\"type\": \"nominal\", \"field\": \"label\"}, \"x\": {\"value\": 812}, \"y\": {\"type\": \"nominal\", \"axis\": {\"domain\": false, \"grid\": false, \"labels\": false, \"ticks\": false, \"title\": \" \"}, \"field\": \"attribute_value\", \"scale\": {\"domain\": [\"Adults\", \"Children\"], \"range\": [71, 125]}}}, \"selection\": {\"selector032\": {\"type\": \"multi\", \"empty\": \"all\", \"fields\": [\"attribute_value\"]}}}, {\"data\": {\"name\": \"data-79dd248bdaa0ea02c535240e8ad022c8\"}, \"mark\": {\"type\": \"text\", \"align\": \"left\", \"baseline\": \"middle\", \"color\": \"rgb(117,117,117)\", \"font\": \"Arial\", \"fontSize\": 12, \"fontWeight\": \"normal\"}, \"encoding\": {\"text\": {\"value\": \"Click to highlight a group.\"}, \"x\": {\"value\": 800}, \"y\": {\"value\": 49}}}, {\"data\": {\"name\": \"data-79dd248bdaa0ea02c535240e8ad022c8\"}, \"mark\": {\"type\": \"text\", \"align\": \"left\", \"baseline\": \"middle\", \"color\": \"rgb(117,117,117)\", \"font\": \"Arial\", \"fontSize\": 14, \"fontWeight\": \"normal\"}, \"encoding\": {\"text\": {\"value\": \"Groups\"}, \"x\": {\"value\": 800}, \"y\": {\"value\": 30}}}], \"data\": {\"name\": \"data-5633874912c6de05621e650b4de11111\"}}], \"height\": 175, \"padding\": {\"top\": 15, \"bottom\": 10}, \"resolve\": {\"scale\": {\"size\": \"independent\", \"y\": \"independent\"}}, \"title\": \"Absolute values by Age_Level\", \"width\": 800, \"$schema\": \"https://vega.github.io/schema/vega-lite/v4.8.1.json\", \"datasets\": {\"data-b71d65f846bc74ae5caddb3a096fb136\": [{\"y_position\": \"FPR\", \"start\": 0, \"end\": 1}], \"data-6cfe259518f6c7b358d8f836a73e6b7f\": [{\"x_position\": 0}, {\"x_position\": 1}], \"data-60ed1133fa688d151d36705a369482e0\": [{\"value\": 0.0}, {\"value\": 0.25}, {\"value\": 0.5}, {\"value\": 0.75}, {\"value\": 1.0}], \"data-4f70889bd60c12b21139359762424deb\": [{\"lower_end\": 0, \"upper_end\": 1, \"lower_threshold_value\": 0.13085399449035814, \"upper_threshold_value\": 0.1884297520661157, \"metric\": \"FPR\"}], \"data-79dd248bdaa0ea02c535240e8ad022c8\": [{\"a\": 1, \"b\": 0}, {\"a\": 1, \"b\": 0}], \"data-474072ac1340a049d4d35bf2bdbca3ce\": [{\"attribute_name\": \"Age_Level\", \"attribute_value\": \"Adults\", \"group_size\": 187, \"total_entities\": 223, \"fpr\": 0.15702479338842976, \"fpr_disparity\": 1.0, \"fpr_disparity_scaled\": 0.0, \"tooltip_group_size\": \"187 (83.86%)\", \"tooltip_disparity_explanation_fpr\": \"Reference group\"}, {\"attribute_name\": \"Age_Level\", \"attribute_value\": \"Children\", \"group_size\": 36, \"total_entities\": 223, \"fpr\": 0.2222222222222222, \"fpr_disparity\": 1.415204678362573, \"fpr_disparity_scaled\": 0.4152046783625729, \"tooltip_group_size\": \"36 (16.14%)\", \"tooltip_disparity_explanation_fpr\": \"1.42 times larger FPR than the reference group\"}], \"data-5633874912c6de05621e650b4de11111\": [{\"attribute_value\": \"Adults\", \"label\": \"Adults [REF]\"}, {\"attribute_value\": \"Children\", \"label\": \"Children\"}]}}, {\"mode\": \"vega-lite\"});\n",
              "</script>"
            ],
            "text/plain": [
              "alt.LayerChart(...)"
            ]
          },
          "metadata": {},
          "execution_count": 35
        }
      ]
    },
    {
      "cell_type": "code",
      "source": [
        "bdf[['attribute_name', 'attribute_value'] + b.list_disparities(bdf)]"
      ],
      "metadata": {
        "colab": {
          "base_uri": "https://localhost:8080/",
          "height": 176
        },
        "id": "bKoL61tkfwXP",
        "outputId": "c831d43b-e83b-46f1-d9b7-e246097b7472"
      },
      "execution_count": 36,
      "outputs": [
        {
          "output_type": "execute_result",
          "data": {
            "text/plain": [
              "  attribute_name attribute_value  ppr_disparity  pprev_disparity  \\\n",
              "0      Age_Level          Adults       1.000000         1.000000   \n",
              "1      Age_Level        Children       0.261538         1.358547   \n",
              "\n",
              "   precision_disparity  fdr_disparity  for_disparity  fpr_disparity  \\\n",
              "0             1.000000       1.000000       1.000000       1.000000   \n",
              "1             1.080563       0.804954       1.605263       1.415205   \n",
              "\n",
              "   fnr_disparity  tpr_disparity  tnr_disparity  npv_disparity  \n",
              "0       1.000000       1.000000       1.000000       1.000000  \n",
              "1       0.916667       1.036232       0.922658       0.881321  "
            ],
            "text/html": [
              "\n",
              "  <div id=\"df-f7973543-3dfe-487d-be39-d17fee118b44\">\n",
              "    <div class=\"colab-df-container\">\n",
              "      <div>\n",
              "<style scoped>\n",
              "    .dataframe tbody tr th:only-of-type {\n",
              "        vertical-align: middle;\n",
              "    }\n",
              "\n",
              "    .dataframe tbody tr th {\n",
              "        vertical-align: top;\n",
              "    }\n",
              "\n",
              "    .dataframe thead th {\n",
              "        text-align: right;\n",
              "    }\n",
              "</style>\n",
              "<table border=\"1\" class=\"dataframe\">\n",
              "  <thead>\n",
              "    <tr style=\"text-align: right;\">\n",
              "      <th></th>\n",
              "      <th>attribute_name</th>\n",
              "      <th>attribute_value</th>\n",
              "      <th>ppr_disparity</th>\n",
              "      <th>pprev_disparity</th>\n",
              "      <th>precision_disparity</th>\n",
              "      <th>fdr_disparity</th>\n",
              "      <th>for_disparity</th>\n",
              "      <th>fpr_disparity</th>\n",
              "      <th>fnr_disparity</th>\n",
              "      <th>tpr_disparity</th>\n",
              "      <th>tnr_disparity</th>\n",
              "      <th>npv_disparity</th>\n",
              "    </tr>\n",
              "  </thead>\n",
              "  <tbody>\n",
              "    <tr>\n",
              "      <th>0</th>\n",
              "      <td>Age_Level</td>\n",
              "      <td>Adults</td>\n",
              "      <td>1.000000</td>\n",
              "      <td>1.000000</td>\n",
              "      <td>1.000000</td>\n",
              "      <td>1.000000</td>\n",
              "      <td>1.000000</td>\n",
              "      <td>1.000000</td>\n",
              "      <td>1.000000</td>\n",
              "      <td>1.000000</td>\n",
              "      <td>1.000000</td>\n",
              "      <td>1.000000</td>\n",
              "    </tr>\n",
              "    <tr>\n",
              "      <th>1</th>\n",
              "      <td>Age_Level</td>\n",
              "      <td>Children</td>\n",
              "      <td>0.261538</td>\n",
              "      <td>1.358547</td>\n",
              "      <td>1.080563</td>\n",
              "      <td>0.804954</td>\n",
              "      <td>1.605263</td>\n",
              "      <td>1.415205</td>\n",
              "      <td>0.916667</td>\n",
              "      <td>1.036232</td>\n",
              "      <td>0.922658</td>\n",
              "      <td>0.881321</td>\n",
              "    </tr>\n",
              "  </tbody>\n",
              "</table>\n",
              "</div>\n",
              "      <button class=\"colab-df-convert\" onclick=\"convertToInteractive('df-f7973543-3dfe-487d-be39-d17fee118b44')\"\n",
              "              title=\"Convert this dataframe to an interactive table.\"\n",
              "              style=\"display:none;\">\n",
              "        \n",
              "  <svg xmlns=\"http://www.w3.org/2000/svg\" height=\"24px\"viewBox=\"0 0 24 24\"\n",
              "       width=\"24px\">\n",
              "    <path d=\"M0 0h24v24H0V0z\" fill=\"none\"/>\n",
              "    <path d=\"M18.56 5.44l.94 2.06.94-2.06 2.06-.94-2.06-.94-.94-2.06-.94 2.06-2.06.94zm-11 1L8.5 8.5l.94-2.06 2.06-.94-2.06-.94L8.5 2.5l-.94 2.06-2.06.94zm10 10l.94 2.06.94-2.06 2.06-.94-2.06-.94-.94-2.06-.94 2.06-2.06.94z\"/><path d=\"M17.41 7.96l-1.37-1.37c-.4-.4-.92-.59-1.43-.59-.52 0-1.04.2-1.43.59L10.3 9.45l-7.72 7.72c-.78.78-.78 2.05 0 2.83L4 21.41c.39.39.9.59 1.41.59.51 0 1.02-.2 1.41-.59l7.78-7.78 2.81-2.81c.8-.78.8-2.07 0-2.86zM5.41 20L4 18.59l7.72-7.72 1.47 1.35L5.41 20z\"/>\n",
              "  </svg>\n",
              "      </button>\n",
              "      \n",
              "  <style>\n",
              "    .colab-df-container {\n",
              "      display:flex;\n",
              "      flex-wrap:wrap;\n",
              "      gap: 12px;\n",
              "    }\n",
              "\n",
              "    .colab-df-convert {\n",
              "      background-color: #E8F0FE;\n",
              "      border: none;\n",
              "      border-radius: 50%;\n",
              "      cursor: pointer;\n",
              "      display: none;\n",
              "      fill: #1967D2;\n",
              "      height: 32px;\n",
              "      padding: 0 0 0 0;\n",
              "      width: 32px;\n",
              "    }\n",
              "\n",
              "    .colab-df-convert:hover {\n",
              "      background-color: #E2EBFA;\n",
              "      box-shadow: 0px 1px 2px rgba(60, 64, 67, 0.3), 0px 1px 3px 1px rgba(60, 64, 67, 0.15);\n",
              "      fill: #174EA6;\n",
              "    }\n",
              "\n",
              "    [theme=dark] .colab-df-convert {\n",
              "      background-color: #3B4455;\n",
              "      fill: #D2E3FC;\n",
              "    }\n",
              "\n",
              "    [theme=dark] .colab-df-convert:hover {\n",
              "      background-color: #434B5C;\n",
              "      box-shadow: 0px 1px 3px 1px rgba(0, 0, 0, 0.15);\n",
              "      filter: drop-shadow(0px 1px 2px rgba(0, 0, 0, 0.3));\n",
              "      fill: #FFFFFF;\n",
              "    }\n",
              "  </style>\n",
              "\n",
              "      <script>\n",
              "        const buttonEl =\n",
              "          document.querySelector('#df-f7973543-3dfe-487d-be39-d17fee118b44 button.colab-df-convert');\n",
              "        buttonEl.style.display =\n",
              "          google.colab.kernel.accessAllowed ? 'block' : 'none';\n",
              "\n",
              "        async function convertToInteractive(key) {\n",
              "          const element = document.querySelector('#df-f7973543-3dfe-487d-be39-d17fee118b44');\n",
              "          const dataTable =\n",
              "            await google.colab.kernel.invokeFunction('convertToInteractive',\n",
              "                                                     [key], {});\n",
              "          if (!dataTable) return;\n",
              "\n",
              "          const docLinkHtml = 'Like what you see? Visit the ' +\n",
              "            '<a target=\"_blank\" href=https://colab.research.google.com/notebooks/data_table.ipynb>data table notebook</a>'\n",
              "            + ' to learn more about interactive tables.';\n",
              "          element.innerHTML = '';\n",
              "          dataTable['output_type'] = 'display_data';\n",
              "          await google.colab.output.renderOutput(dataTable, element);\n",
              "          const docLink = document.createElement('div');\n",
              "          docLink.innerHTML = docLinkHtml;\n",
              "          element.appendChild(docLink);\n",
              "        }\n",
              "      </script>\n",
              "    </div>\n",
              "  </div>\n",
              "  "
            ]
          },
          "metadata": {},
          "execution_count": 36
        }
      ]
    },
    {
      "cell_type": "code",
      "source": [
        "absolute_metrics = g.list_absolute_metrics(xtab)\n",
        "xtab[['attribute_name', 'attribute_value'] + absolute_metrics]"
      ],
      "metadata": {
        "colab": {
          "base_uri": "https://localhost:8080/",
          "height": 112
        },
        "id": "4UE0gb7jfwUJ",
        "outputId": "ca067137-446f-4be0-e5a4-b7edb823b726"
      },
      "execution_count": 37,
      "outputs": [
        {
          "output_type": "execute_result",
          "data": {
            "text/plain": [
              "  attribute_name attribute_value       tpr       tnr       for       fdr  \\\n",
              "0      Age_Level          Adults  0.696970  0.842975  0.163934  0.292308   \n",
              "1      Age_Level        Children  0.722222  0.777778  0.263158  0.235294   \n",
              "\n",
              "        fpr       fnr       npv  precision       ppr     pprev      prev  \n",
              "0  0.157025  0.303030  0.836066   0.707692  0.792683  0.347594  0.352941  \n",
              "1  0.222222  0.277778  0.736842   0.764706  0.207317  0.472222  0.500000  "
            ],
            "text/html": [
              "\n",
              "  <div id=\"df-d97cff18-6ef8-4fc8-b8d1-2ecd7cc66dc8\">\n",
              "    <div class=\"colab-df-container\">\n",
              "      <div>\n",
              "<style scoped>\n",
              "    .dataframe tbody tr th:only-of-type {\n",
              "        vertical-align: middle;\n",
              "    }\n",
              "\n",
              "    .dataframe tbody tr th {\n",
              "        vertical-align: top;\n",
              "    }\n",
              "\n",
              "    .dataframe thead th {\n",
              "        text-align: right;\n",
              "    }\n",
              "</style>\n",
              "<table border=\"1\" class=\"dataframe\">\n",
              "  <thead>\n",
              "    <tr style=\"text-align: right;\">\n",
              "      <th></th>\n",
              "      <th>attribute_name</th>\n",
              "      <th>attribute_value</th>\n",
              "      <th>tpr</th>\n",
              "      <th>tnr</th>\n",
              "      <th>for</th>\n",
              "      <th>fdr</th>\n",
              "      <th>fpr</th>\n",
              "      <th>fnr</th>\n",
              "      <th>npv</th>\n",
              "      <th>precision</th>\n",
              "      <th>ppr</th>\n",
              "      <th>pprev</th>\n",
              "      <th>prev</th>\n",
              "    </tr>\n",
              "  </thead>\n",
              "  <tbody>\n",
              "    <tr>\n",
              "      <th>0</th>\n",
              "      <td>Age_Level</td>\n",
              "      <td>Adults</td>\n",
              "      <td>0.696970</td>\n",
              "      <td>0.842975</td>\n",
              "      <td>0.163934</td>\n",
              "      <td>0.292308</td>\n",
              "      <td>0.157025</td>\n",
              "      <td>0.303030</td>\n",
              "      <td>0.836066</td>\n",
              "      <td>0.707692</td>\n",
              "      <td>0.792683</td>\n",
              "      <td>0.347594</td>\n",
              "      <td>0.352941</td>\n",
              "    </tr>\n",
              "    <tr>\n",
              "      <th>1</th>\n",
              "      <td>Age_Level</td>\n",
              "      <td>Children</td>\n",
              "      <td>0.722222</td>\n",
              "      <td>0.777778</td>\n",
              "      <td>0.263158</td>\n",
              "      <td>0.235294</td>\n",
              "      <td>0.222222</td>\n",
              "      <td>0.277778</td>\n",
              "      <td>0.736842</td>\n",
              "      <td>0.764706</td>\n",
              "      <td>0.207317</td>\n",
              "      <td>0.472222</td>\n",
              "      <td>0.500000</td>\n",
              "    </tr>\n",
              "  </tbody>\n",
              "</table>\n",
              "</div>\n",
              "      <button class=\"colab-df-convert\" onclick=\"convertToInteractive('df-d97cff18-6ef8-4fc8-b8d1-2ecd7cc66dc8')\"\n",
              "              title=\"Convert this dataframe to an interactive table.\"\n",
              "              style=\"display:none;\">\n",
              "        \n",
              "  <svg xmlns=\"http://www.w3.org/2000/svg\" height=\"24px\"viewBox=\"0 0 24 24\"\n",
              "       width=\"24px\">\n",
              "    <path d=\"M0 0h24v24H0V0z\" fill=\"none\"/>\n",
              "    <path d=\"M18.56 5.44l.94 2.06.94-2.06 2.06-.94-2.06-.94-.94-2.06-.94 2.06-2.06.94zm-11 1L8.5 8.5l.94-2.06 2.06-.94-2.06-.94L8.5 2.5l-.94 2.06-2.06.94zm10 10l.94 2.06.94-2.06 2.06-.94-2.06-.94-.94-2.06-.94 2.06-2.06.94z\"/><path d=\"M17.41 7.96l-1.37-1.37c-.4-.4-.92-.59-1.43-.59-.52 0-1.04.2-1.43.59L10.3 9.45l-7.72 7.72c-.78.78-.78 2.05 0 2.83L4 21.41c.39.39.9.59 1.41.59.51 0 1.02-.2 1.41-.59l7.78-7.78 2.81-2.81c.8-.78.8-2.07 0-2.86zM5.41 20L4 18.59l7.72-7.72 1.47 1.35L5.41 20z\"/>\n",
              "  </svg>\n",
              "      </button>\n",
              "      \n",
              "  <style>\n",
              "    .colab-df-container {\n",
              "      display:flex;\n",
              "      flex-wrap:wrap;\n",
              "      gap: 12px;\n",
              "    }\n",
              "\n",
              "    .colab-df-convert {\n",
              "      background-color: #E8F0FE;\n",
              "      border: none;\n",
              "      border-radius: 50%;\n",
              "      cursor: pointer;\n",
              "      display: none;\n",
              "      fill: #1967D2;\n",
              "      height: 32px;\n",
              "      padding: 0 0 0 0;\n",
              "      width: 32px;\n",
              "    }\n",
              "\n",
              "    .colab-df-convert:hover {\n",
              "      background-color: #E2EBFA;\n",
              "      box-shadow: 0px 1px 2px rgba(60, 64, 67, 0.3), 0px 1px 3px 1px rgba(60, 64, 67, 0.15);\n",
              "      fill: #174EA6;\n",
              "    }\n",
              "\n",
              "    [theme=dark] .colab-df-convert {\n",
              "      background-color: #3B4455;\n",
              "      fill: #D2E3FC;\n",
              "    }\n",
              "\n",
              "    [theme=dark] .colab-df-convert:hover {\n",
              "      background-color: #434B5C;\n",
              "      box-shadow: 0px 1px 3px 1px rgba(0, 0, 0, 0.15);\n",
              "      filter: drop-shadow(0px 1px 2px rgba(0, 0, 0, 0.3));\n",
              "      fill: #FFFFFF;\n",
              "    }\n",
              "  </style>\n",
              "\n",
              "      <script>\n",
              "        const buttonEl =\n",
              "          document.querySelector('#df-d97cff18-6ef8-4fc8-b8d1-2ecd7cc66dc8 button.colab-df-convert');\n",
              "        buttonEl.style.display =\n",
              "          google.colab.kernel.accessAllowed ? 'block' : 'none';\n",
              "\n",
              "        async function convertToInteractive(key) {\n",
              "          const element = document.querySelector('#df-d97cff18-6ef8-4fc8-b8d1-2ecd7cc66dc8');\n",
              "          const dataTable =\n",
              "            await google.colab.kernel.invokeFunction('convertToInteractive',\n",
              "                                                     [key], {});\n",
              "          if (!dataTable) return;\n",
              "\n",
              "          const docLinkHtml = 'Like what you see? Visit the ' +\n",
              "            '<a target=\"_blank\" href=https://colab.research.google.com/notebooks/data_table.ipynb>data table notebook</a>'\n",
              "            + ' to learn more about interactive tables.';\n",
              "          element.innerHTML = '';\n",
              "          dataTable['output_type'] = 'display_data';\n",
              "          await google.colab.output.renderOutput(dataTable, element);\n",
              "          const docLink = document.createElement('div');\n",
              "          docLink.innerHTML = docLinkHtml;\n",
              "          element.appendChild(docLink);\n",
              "        }\n",
              "      </script>\n",
              "    </div>\n",
              "  </div>\n",
              "  "
            ]
          },
          "metadata": {},
          "execution_count": 37
        }
      ]
    },
    {
      "cell_type": "code",
      "source": [
        "xtab[[col for col in xtab.columns if col not in absolute_metrics]]"
      ],
      "metadata": {
        "colab": {
          "base_uri": "https://localhost:8080/",
          "height": 176
        },
        "id": "V7244UbqfwRB",
        "outputId": "b22f309f-2cdc-4d19-a913-ce2733b3cb83"
      },
      "execution_count": 38,
      "outputs": [
        {
          "output_type": "execute_result",
          "data": {
            "text/plain": [
              "   model_id score_threshold   k attribute_name attribute_value  pp   pn  fp  \\\n",
              "0         0      binary 0/1  82      Age_Level          Adults  65  122  19   \n",
              "1         0      binary 0/1  82      Age_Level        Children  17   19   4   \n",
              "\n",
              "   fn   tn  tp  group_label_pos  group_label_neg  group_size  total_entities  \n",
              "0  20  102  46               66              121         187             223  \n",
              "1   5   14  13               18               18          36             223  "
            ],
            "text/html": [
              "\n",
              "  <div id=\"df-a0d73c19-4ae2-4425-8dbf-33648228b29f\">\n",
              "    <div class=\"colab-df-container\">\n",
              "      <div>\n",
              "<style scoped>\n",
              "    .dataframe tbody tr th:only-of-type {\n",
              "        vertical-align: middle;\n",
              "    }\n",
              "\n",
              "    .dataframe tbody tr th {\n",
              "        vertical-align: top;\n",
              "    }\n",
              "\n",
              "    .dataframe thead th {\n",
              "        text-align: right;\n",
              "    }\n",
              "</style>\n",
              "<table border=\"1\" class=\"dataframe\">\n",
              "  <thead>\n",
              "    <tr style=\"text-align: right;\">\n",
              "      <th></th>\n",
              "      <th>model_id</th>\n",
              "      <th>score_threshold</th>\n",
              "      <th>k</th>\n",
              "      <th>attribute_name</th>\n",
              "      <th>attribute_value</th>\n",
              "      <th>pp</th>\n",
              "      <th>pn</th>\n",
              "      <th>fp</th>\n",
              "      <th>fn</th>\n",
              "      <th>tn</th>\n",
              "      <th>tp</th>\n",
              "      <th>group_label_pos</th>\n",
              "      <th>group_label_neg</th>\n",
              "      <th>group_size</th>\n",
              "      <th>total_entities</th>\n",
              "    </tr>\n",
              "  </thead>\n",
              "  <tbody>\n",
              "    <tr>\n",
              "      <th>0</th>\n",
              "      <td>0</td>\n",
              "      <td>binary 0/1</td>\n",
              "      <td>82</td>\n",
              "      <td>Age_Level</td>\n",
              "      <td>Adults</td>\n",
              "      <td>65</td>\n",
              "      <td>122</td>\n",
              "      <td>19</td>\n",
              "      <td>20</td>\n",
              "      <td>102</td>\n",
              "      <td>46</td>\n",
              "      <td>66</td>\n",
              "      <td>121</td>\n",
              "      <td>187</td>\n",
              "      <td>223</td>\n",
              "    </tr>\n",
              "    <tr>\n",
              "      <th>1</th>\n",
              "      <td>0</td>\n",
              "      <td>binary 0/1</td>\n",
              "      <td>82</td>\n",
              "      <td>Age_Level</td>\n",
              "      <td>Children</td>\n",
              "      <td>17</td>\n",
              "      <td>19</td>\n",
              "      <td>4</td>\n",
              "      <td>5</td>\n",
              "      <td>14</td>\n",
              "      <td>13</td>\n",
              "      <td>18</td>\n",
              "      <td>18</td>\n",
              "      <td>36</td>\n",
              "      <td>223</td>\n",
              "    </tr>\n",
              "  </tbody>\n",
              "</table>\n",
              "</div>\n",
              "      <button class=\"colab-df-convert\" onclick=\"convertToInteractive('df-a0d73c19-4ae2-4425-8dbf-33648228b29f')\"\n",
              "              title=\"Convert this dataframe to an interactive table.\"\n",
              "              style=\"display:none;\">\n",
              "        \n",
              "  <svg xmlns=\"http://www.w3.org/2000/svg\" height=\"24px\"viewBox=\"0 0 24 24\"\n",
              "       width=\"24px\">\n",
              "    <path d=\"M0 0h24v24H0V0z\" fill=\"none\"/>\n",
              "    <path d=\"M18.56 5.44l.94 2.06.94-2.06 2.06-.94-2.06-.94-.94-2.06-.94 2.06-2.06.94zm-11 1L8.5 8.5l.94-2.06 2.06-.94-2.06-.94L8.5 2.5l-.94 2.06-2.06.94zm10 10l.94 2.06.94-2.06 2.06-.94-2.06-.94-.94-2.06-.94 2.06-2.06.94z\"/><path d=\"M17.41 7.96l-1.37-1.37c-.4-.4-.92-.59-1.43-.59-.52 0-1.04.2-1.43.59L10.3 9.45l-7.72 7.72c-.78.78-.78 2.05 0 2.83L4 21.41c.39.39.9.59 1.41.59.51 0 1.02-.2 1.41-.59l7.78-7.78 2.81-2.81c.8-.78.8-2.07 0-2.86zM5.41 20L4 18.59l7.72-7.72 1.47 1.35L5.41 20z\"/>\n",
              "  </svg>\n",
              "      </button>\n",
              "      \n",
              "  <style>\n",
              "    .colab-df-container {\n",
              "      display:flex;\n",
              "      flex-wrap:wrap;\n",
              "      gap: 12px;\n",
              "    }\n",
              "\n",
              "    .colab-df-convert {\n",
              "      background-color: #E8F0FE;\n",
              "      border: none;\n",
              "      border-radius: 50%;\n",
              "      cursor: pointer;\n",
              "      display: none;\n",
              "      fill: #1967D2;\n",
              "      height: 32px;\n",
              "      padding: 0 0 0 0;\n",
              "      width: 32px;\n",
              "    }\n",
              "\n",
              "    .colab-df-convert:hover {\n",
              "      background-color: #E2EBFA;\n",
              "      box-shadow: 0px 1px 2px rgba(60, 64, 67, 0.3), 0px 1px 3px 1px rgba(60, 64, 67, 0.15);\n",
              "      fill: #174EA6;\n",
              "    }\n",
              "\n",
              "    [theme=dark] .colab-df-convert {\n",
              "      background-color: #3B4455;\n",
              "      fill: #D2E3FC;\n",
              "    }\n",
              "\n",
              "    [theme=dark] .colab-df-convert:hover {\n",
              "      background-color: #434B5C;\n",
              "      box-shadow: 0px 1px 3px 1px rgba(0, 0, 0, 0.15);\n",
              "      filter: drop-shadow(0px 1px 2px rgba(0, 0, 0, 0.3));\n",
              "      fill: #FFFFFF;\n",
              "    }\n",
              "  </style>\n",
              "\n",
              "      <script>\n",
              "        const buttonEl =\n",
              "          document.querySelector('#df-a0d73c19-4ae2-4425-8dbf-33648228b29f button.colab-df-convert');\n",
              "        buttonEl.style.display =\n",
              "          google.colab.kernel.accessAllowed ? 'block' : 'none';\n",
              "\n",
              "        async function convertToInteractive(key) {\n",
              "          const element = document.querySelector('#df-a0d73c19-4ae2-4425-8dbf-33648228b29f');\n",
              "          const dataTable =\n",
              "            await google.colab.kernel.invokeFunction('convertToInteractive',\n",
              "                                                     [key], {});\n",
              "          if (!dataTable) return;\n",
              "\n",
              "          const docLinkHtml = 'Like what you see? Visit the ' +\n",
              "            '<a target=\"_blank\" href=https://colab.research.google.com/notebooks/data_table.ipynb>data table notebook</a>'\n",
              "            + ' to learn more about interactive tables.';\n",
              "          element.innerHTML = '';\n",
              "          dataTable['output_type'] = 'display_data';\n",
              "          await google.colab.output.renderOutput(dataTable, element);\n",
              "          const docLink = document.createElement('div');\n",
              "          docLink.innerHTML = docLinkHtml;\n",
              "          element.appendChild(docLink);\n",
              "        }\n",
              "      </script>\n",
              "    </div>\n",
              "  </div>\n",
              "  "
            ]
          },
          "metadata": {},
          "execution_count": 38
        }
      ]
    }
  ],
  "metadata": {
    "kernelspec": {
      "display_name": "Python 3",
      "language": "python",
      "name": "python3"
    },
    "language_info": {
      "codemirror_mode": {
        "name": "ipython",
        "version": 3
      },
      "file_extension": ".py",
      "mimetype": "text/x-python",
      "name": "python",
      "nbconvert_exporter": "python",
      "pygments_lexer": "ipython3",
      "version": "3.7.11"
    },
    "colab": {
      "provenance": [],
      "include_colab_link": true
    }
  },
  "nbformat": 4,
  "nbformat_minor": 0
}